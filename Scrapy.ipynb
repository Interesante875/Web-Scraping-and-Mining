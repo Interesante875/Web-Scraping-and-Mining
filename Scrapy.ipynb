{
  "nbformat": 4,
  "nbformat_minor": 0,
  "metadata": {
    "colab": {
      "provenance": []
    },
    "kernelspec": {
      "name": "python3",
      "display_name": "Python 3"
    },
    "language_info": {
      "name": "python"
    }
  },
  "cells": [
    {
      "cell_type": "code",
      "metadata": {
        "id": "HMabqTQ6ontH"
      },
      "source": [
        "import shutil\n",
        "\n",
        "shutil.rmtree('/content/sample_data')"
      ],
      "execution_count": null,
      "outputs": []
    },
    {
      "cell_type": "code",
      "metadata": {
        "id": "R5h1UULhqBEB"
      },
      "source": [
        "!pip install scrapy\n",
        "!pip install crochet\n",
        "import scrapy\n",
        "from scrapy.crawler import CrawlerProcess\n",
        "from scrapy.crawler import CrawlerRunner\n",
        "# text cleaning\n",
        "import re\n",
        "# Reactor restart\n",
        "from crochet import setup, wait_for\n",
        "setup()"
      ],
      "execution_count": null,
      "outputs": []
    },
    {
      "cell_type": "code",
      "metadata": {
        "id": "GOCsjDXKOS49"
      },
      "source": [
        "import requests\n",
        "from bs4 import BeautifulSoup\n",
        "import time\n",
        "import re\n",
        "import json\n",
        "import string\n",
        "import pandas as pd\n",
        "import csv\n",
        "import math\n",
        "import os\n",
        "import tweepy as tw\n",
        "import pandas as pd\n",
        "import string\n",
        "import random\n",
        "import datetime\n",
        "import threading\n",
        "import json\n",
        "import math\n",
        "import glob\n",
        "import csv\n",
        "import zipfile\n",
        "import zlib\n",
        "from tweepy import TweepError\n",
        "from time import sleep\n",
        "\n",
        "!pip install selenium\n",
        "!apt-get update # to update ubuntu to correctly run apt install\n",
        "!apt install chromium-chromedriver\n",
        "!cp /usr/lib/chromium-browser/chromedriver /usr/bin\n",
        "import sys\n",
        "sys.path.insert(0,'/usr/lib/chromium-browser/chromedriver')\n",
        "\n",
        "from selenium import webdriver\n",
        "from selenium.webdriver.common.keys import Keys\n",
        "from selenium.common.exceptions import NoSuchElementException, StaleElementReferenceException\n",
        "from selenium.webdriver.common.by import By\n",
        "from selenium.webdriver.common.keys import Keys\n",
        "from selenium.common.exceptions import NoSuchElementException, StaleElementReferenceException\n",
        "\n",
        "chrome_options = webdriver.ChromeOptions()\n",
        "chrome_options.add_argument('--headless')\n",
        "chrome_options.add_argument('--no-sandbox')\n",
        "chrome_options.add_argument('--disable-dev-shm-usage')\n",
        "wd = webdriver.Chrome('chromedriver',chrome_options=chrome_options)"
      ],
      "execution_count": null,
      "outputs": []
    },
    {
      "cell_type": "code",
      "metadata": {
        "colab": {
          "base_uri": "https://localhost:8080/"
        },
        "id": "Z18cRHCz7LIS",
        "outputId": "12179726-60ef-49a2-9b7f-40e31b506a8d"
      },
      "source": [
        "!scrapy startproject quotetutorial"
      ],
      "execution_count": null,
      "outputs": [
        {
          "output_type": "stream",
          "name": "stdout",
          "text": [
            "Error: scrapy.cfg already exists in /content/quotetutorial\n"
          ]
        }
      ]
    },
    {
      "cell_type": "code",
      "metadata": {
        "cellView": "code",
        "id": "9-oH3khgqCQA"
      },
      "source": [
        "#@title Default title text\n",
        "class QuoteSpider(scrapy.Spider):\n",
        "    name = 'quotes'\n",
        "    start_urls = [\"https://quotes.toscrape.com/\"]\n",
        "\n",
        "    def parse(self, response):\n",
        "        #title = response.css('title::text').extract()\n",
        "        #title = response.css('title::text')[0].extract()\n",
        "        #title = response.css('title::text').extract_first()\n",
        "        #title = response.xpath(\"//title/text()\").extract()\n",
        "        #title = response.xpath(\"//span[@span='text']/text()\").extract()\n",
        "        #link = response.css('li.next a').xpath(\"@href\").extract\n",
        "        items = QuoteItem()\n",
        "\n",
        "        all_div_quotes = response.css('div.quote')[0]\n",
        "        for quotes in all_div_quotes:\n",
        "            title = quotes.css('span.text::text').extract()\n",
        "            author = quotes.css('.author::text').extract()\n",
        "            tags = quotes.css('.tag::text').extract()\n",
        "            items['title'] = title\n",
        "            items['author'] = author\n",
        "            items['tags'] = tags\n",
        "            yield items\n",
        "\n",
        "\n",
        "class QuoteItem(scrapy.Item):\n",
        "    title = scrapy.Field()\n",
        "    author = scrapy.Field()\n",
        "    tags = scrapy.Field()"
      ],
      "execution_count": null,
      "outputs": []
    },
    {
      "cell_type": "code",
      "metadata": {
        "colab": {
          "base_uri": "https://localhost:8080/"
        },
        "id": "IGT3xIXe57nw",
        "outputId": "145d687e-7711-40ab-99a8-2127963d5af4"
      },
      "source": [
        "!cd quotetutorial\n",
        "!pwd\n"
      ],
      "execution_count": null,
      "outputs": [
        {
          "output_type": "stream",
          "name": "stdout",
          "text": [
            "/content\n"
          ]
        }
      ]
    },
    {
      "cell_type": "code",
      "metadata": {
        "colab": {
          "base_uri": "https://localhost:8080/"
        },
        "id": "DepKe-Ri6Jow",
        "outputId": "683113f4-073e-47bf-fad2-9c353d998eeb"
      },
      "source": [
        "!scrapy crawl quotes\n"
      ],
      "execution_count": null,
      "outputs": [
        {
          "output_type": "stream",
          "name": "stdout",
          "text": [
            "Scrapy 2.5.1 - no active project\n",
            "\n",
            "Unknown command: crawl\n",
            "\n",
            "Use \"scrapy\" to see available commands\n"
          ]
        }
      ]
    },
    {
      "cell_type": "code",
      "metadata": {
        "id": "hpnl3LCo9ieT"
      },
      "source": [
        "import requests\n",
        "import Beautiful"
      ],
      "execution_count": null,
      "outputs": []
    },
    {
      "cell_type": "code",
      "metadata": {
        "colab": {
          "base_uri": "https://localhost:8080/"
        },
        "id": "F1abUzPiKTrj",
        "outputId": "553bf28c-b5a9-4941-8c04-d2f510b4306c"
      },
      "source": [
        "r = requests.get(\"http://www.google.com\")\n",
        "r.request.headers"
      ],
      "execution_count": null,
      "outputs": [
        {
          "output_type": "stream",
          "name": "stderr",
          "text": [
            "2021-12-03 07:20:07 [urllib3.connectionpool] DEBUG: Starting new HTTP connection (1): www.google.com:80\n",
            "2021-12-03 07:20:07 [urllib3.connectionpool] DEBUG: http://www.google.com:80 \"GET / HTTP/1.1\" 200 6881\n"
          ]
        },
        {
          "output_type": "execute_result",
          "data": {
            "text/plain": [
              "{'User-Agent': 'python-requests/2.23.0', 'Accept-Encoding': 'gzip, deflate', 'Accept': '*/*', 'Connection': 'keep-alive'}"
            ]
          },
          "metadata": {},
          "execution_count": 74
        }
      ]
    },
    {
      "cell_type": "code",
      "metadata": {
        "colab": {
          "base_uri": "https://localhost:8080/"
        },
        "id": "26J-T1_IKctY",
        "outputId": "d9b1b400-76ff-4f97-d3de-a9b38509476b"
      },
      "source": [
        "headers = {\n",
        "    'User-Agent': \"https://developers.whatismybrowser.com/useragents/parse/23193588facebook-app-ios-iphone-8-webkit\"\n",
        "}\n",
        "r = requests.get(\"https://www.sinchew.com.my/20210315/%E6%9D%A8%E5%BE%AE%E5%B1%8F-%E5%86%99%E4%BB%80%E4%B9%88%E6%89%8D%E4%B8%8D%E6%98%AF%E5%81%87%E6%96%B0%E9%97%BB/\", headers = headers)\n",
        "r.status_code"
      ],
      "execution_count": null,
      "outputs": [
        {
          "output_type": "stream",
          "name": "stderr",
          "text": [
            "2021-12-03 08:07:22 [urllib3.connectionpool] DEBUG: Starting new HTTPS connection (1): www.sinchew.com.my:443\n",
            "2021-12-03 08:07:23 [urllib3.connectionpool] DEBUG: https://www.sinchew.com.my:443 \"GET /20210315/%E6%9D%A8%E5%BE%AE%E5%B1%8F-%E5%86%99%E4%BB%80%E4%B9%88%E6%89%8D%E4%B8%8D%E6%98%AF%E5%81%87%E6%96%B0%E9%97%BB/ HTTP/1.1\" 200 None\n"
          ]
        },
        {
          "output_type": "execute_result",
          "data": {
            "text/plain": [
              "200"
            ]
          },
          "metadata": {},
          "execution_count": 97
        }
      ]
    },
    {
      "cell_type": "code",
      "metadata": {
        "colab": {
          "base_uri": "https://localhost:8080/"
        },
        "id": "YGBRmTDhN2Pi",
        "outputId": "7902d07d-0af4-4cba-ff8a-53d89e1fff55"
      },
      "source": [
        "soup = BeautifulSoup(r.text, 'lxml')\n",
        "soup.find_all('a')"
      ],
      "execution_count": null,
      "outputs": [
        {
          "output_type": "execute_result",
          "data": {
            "text/plain": [
              "[<a class=\"side_menu_item\" href=\"https://www.sinchew.com.my/newsletter\">\n",
              " <img data-cfsrc=\"/public/images/slide_menu_newsletter_icon.png\" style=\"display:none;visibility:hidden;\"/><noscript><img src=\"/public/images/slide_menu_newsletter_icon.png\"/></noscript>\n",
              " <span>Newsletter</span>\n",
              " </a>, <a class=\"side_menu_item\" href=\"https://www.sinchew.com.my/feedback\">\n",
              " <img data-cfsrc=\"/public/images/slide_menu_contact-us-icon.png\" style=\"display:none;visibility:hidden;\"/><noscript><img src=\"/public/images/slide_menu_contact-us-icon.png\"/></noscript>\n",
              " <span>联络我们</span>\n",
              " </a>, <a class=\"side_menu_item\" href=\"https://www.sinchew.com.my/ratecard\">\n",
              " <img data-cfsrc=\"/public/images/slide_menu_advertise-icon.png\" style=\"display:none;visibility:hidden;\"/><noscript><img src=\"/public/images/slide_menu_advertise-icon.png\"/></noscript>\n",
              " <span>登广告</span>\n",
              " </a>, <a class=\"side_menu_item\" href=\"https://www.sinchew.com.my/intro\">\n",
              " <img data-cfsrc=\"/public/images/slide_menu_about-us-icon.png\" style=\"display:none;visibility:hidden;\"/><noscript><img src=\"/public/images/slide_menu_about-us-icon.png\"/></noscript>\n",
              " <span>关于我们</span>\n",
              " </a>, <a class=\"side_menu_item\" href=\"https://www.sinchew.com.my/category/活动/\" style=\"display:none !important;\">\n",
              " <img data-cfsrc=\"/public/images/slide_menu_event_icon.png\" style=\"display:none;visibility:hidden;\"/><noscript><img src=\"/public/images/slide_menu_event_icon.png\"/></noscript>\n",
              " <span>活动</span>\n",
              " </a>, <a href=\"https://www.appasia.com/\" target=\"_blank\"><img data-cfsrc=\"/public/images/AA-logo.png\" style=\"display:none;visibility:hidden;\"/><noscript><img src=\"/public/images/AA-logo.png\"/></noscript></a>, <a class=\"top-header-link internalLink\" data-title=\"首页\" href=\"https://www.sinchew.com.my\">首页</a>, <a class=\"top-header-link internalLink\" data-title=\"刊登广告\" href=\"https://www.sinchew.com.my/ratecard\">登广告</a>, <a class=\"top-header-link internalLink\" data-title=\"活动\" href=\"https://www.sinchew.com.my/category/活动/\" style=\"display:none !important;\">活动</a>, <a class=\"internalLink\" data-title=\"首页\" href=\"https://www.sinchew.com.my\">\n",
              " <img data-cfsrc=\"/public/images/Sinchew-i-s.png\" style=\"display:none;visibility:hidden;\"/><noscript><img src=\"/public/images/Sinchew-i-s.png\"/></noscript>\n",
              " </a>, <a class=\"main-featured-logo internalLink\" data-title=\"股市\" href=\"https://www.sinchew.com.my/stocksummary\">\n",
              " <img data-cfsrc=\"/public/images/icon1.png\" style=\"display:none;visibility:hidden;\"/><noscript><img src=\"/public/images/icon1.png\"/></noscript>\n",
              " </a>, <a class=\"main-featured-logo internalLink\" data-title=\"冠病疫情\" href=\"https://www.sinchew.com.my/coronavirus/\">\n",
              " <img data-cfsrc=\"/public/images/icon2.png\" style=\"display:none;visibility:hidden;\"/><noscript><img src=\"/public/images/icon2.png\"/></noscript>\n",
              " </a>, <a class=\"main-featured-logo internalLink\" data-title=\"星洲人\" href=\"https://vip.sinchew.com.my/?utm_source=FP%20CTA%20%20%28desktop%29&amp;utm_medium=vip%20fp&amp;utm_campaign=AB%20TESTING&amp;utm_id=AB%20TESTING\">\n",
              " <img data-cfsrc=\"/public/images/icon3.png\" style=\"display:none;visibility:hidden;\"/><noscript><img src=\"/public/images/icon3.png\"/></noscript>\n",
              " </a>, <a class=\"main-featured-logo internalLink\" data-title=\"互动区\" href=\"https://www.sinchew.com.my/category/%e4%ba%92%e5%8a%a8%e5%8c%ba/\">\n",
              " <img data-cfsrc=\"/public/images/act.png\" style=\"display:none;visibility:hidden;\"/><noscript><img src=\"/public/images/act.png\"/></noscript>\n",
              " </a>, <a class=\"main-featured-logo internalLink\" data-title=\"谁主古城\" href=\"https://melakaelection.sinchew.com.my/\">\n",
              " <img data-cfsrc=\"/public/images/melaka-election/melaka_election_mainsite_icon.png\" style=\"display:none;visibility:hidden;\"/><noscript><img src=\"/public/images/melaka-election/melaka_election_mainsite_icon.png\"/></noscript>\n",
              " <div>谁主古城</div>\n",
              " </a>, <a class=\"main-featured-logo internalLink\" data-title=\"股市\" href=\"https://www.sinchew.com.my/stocksummary\">\n",
              " <img data-cfsrc=\"/public/images/icon1.png\" style=\"display:none;visibility:hidden;\"/><noscript><img src=\"/public/images/icon1.png\"/></noscript>\n",
              " <div>股市</div>\n",
              " </a>, <a class=\"main-featured-logo internalLink\" data-title=\"冠病疫情\" href=\"https://www.sinchew.com.my/coronavirus/\">\n",
              " <img data-cfsrc=\"/public/images/icon2.png\" style=\"display:none;visibility:hidden;\"/><noscript><img src=\"/public/images/icon2.png\"/></noscript>\n",
              " <div>冠病疫情</div>\n",
              " </a>, <a class=\"main-featured-logo internalLink\" data-title=\"星洲人\" href=\"https://vip.sinchew.com.my/?utm_source=FP%20CTA%20%20%28desktop%29&amp;utm_medium=vip%20fp&amp;utm_campaign=AB%20TESTING&amp;utm_id=AB%20TESTING\">\n",
              " <img data-cfsrc=\"/public/images/icon3.png\" style=\"display:none;visibility:hidden;\"/><noscript><img src=\"/public/images/icon3.png\"/></noscript>\n",
              " <div>星洲人</div>\n",
              " </a>, <a class=\"main-featured-logo internalLink\" data-title=\"互动区\" href=\"https://www.sinchew.com.my/category/%e4%ba%92%e5%8a%a8%e5%8c%ba/\">\n",
              " <img data-cfsrc=\"/public/images/act.png\" style=\"display:none;visibility:hidden;\"/><noscript><img src=\"/public/images/act.png\"/></noscript>\n",
              " <div>互动区</div>\n",
              " </a>, <a href=\"https://www.sinchew.com.my/newsletter\"><span>Newsletter</span></a>, <a class=\"internalLink\" data-title=\"首页 | 星洲网 Sin Chew Daily\" href=\"https://www.sinchew.com.my/\">首页</a>, <a class=\"internalLink\" data-title=\"最新 | 星洲网 Sin Chew Daily\" href=\"https://www.sinchew.com.my/latest/\">最新</a>, <a class=\"internalLink\" data-title=\"头条 | 星洲网 Sin Chew Daily\" href=\"https://www.sinchew.com.my/category/%e5%a4%b4%e6%9d%a1/\">头条</a>, <a class=\"internalLink\" data-title=\"国内 | 星洲网 Sin Chew Daily\" href=\"https://www.sinchew.com.my/category/%e5%85%a8%e5%9b%bd/\">国内</a>, <a class=\"internalLink\" data-title=\"即时国内 | 星洲网 Sin Chew Daily\" href=\"https://www.sinchew.com.my/category/%e5%85%a8%e5%9b%bd/%e5%8d%b3%e6%97%b6%e5%9b%bd%e5%86%85/\">即时国内</a>, <a class=\"internalLink\" data-title=\"封面头条 | 星洲网 Sin Chew Daily\" href=\"https://www.sinchew.com.my/category/%e5%85%a8%e5%9b%bd/%e5%b0%81%e9%9d%a2%e5%a4%b4%e6%9d%a1/\">封面头条</a>, <a class=\"internalLink\" data-title=\"最新防疫SOP | 星洲网 Sin Chew Daily\" href=\"https://www.sinchew.com.my/category/%e5%85%a8%e5%9b%bd/%e6%9c%80%e6%96%b0%e9%98%b2%e7%96%absop/\">最新防疫SOP</a>, <a class=\"internalLink\" data-title=\"热点 | 星洲网 Sin Chew Daily\" href=\"https://www.sinchew.com.my/category/%e5%85%a8%e5%9b%bd/%e7%83%ad%e7%82%b9/\">热点</a>, <a class=\"internalLink\" data-title=\"全国综合 | 星洲网 Sin Chew Daily\" href=\"https://www.sinchew.com.my/category/%e5%85%a8%e5%9b%bd/%e5%85%a8%e5%9b%bd%e7%bb%bc%e5%90%88/\">全国综合</a>, <a class=\"internalLink\" data-title=\"社会 | 星洲网 Sin Chew Daily\" href=\"https://www.sinchew.com.my/category/%e5%85%a8%e5%9b%bd/%e7%a4%be%e4%bc%9a/\">社会</a>, <a class=\"internalLink\" data-title=\"政治 | 星洲网 Sin Chew Daily\" href=\"https://www.sinchew.com.my/category/%e5%85%a8%e5%9b%bd/%e6%94%bf%e6%b2%bb/\">政治</a>, <a class=\"internalLink\" data-title=\"教育 | 星洲网 Sin Chew Daily\" href=\"https://www.sinchew.com.my/category/%e5%85%a8%e5%9b%bd/%e6%95%99%e8%82%b2-%e5%85%a8%e5%9b%bd/\">教育</a>, <a class=\"internalLink\" data-title=\"我们 | 星洲网 Sin Chew Daily\" href=\"https://www.sinchew.com.my/category/%e5%85%a8%e5%9b%bd/%e6%88%91%e4%bb%ac/\">我们</a>, <a class=\"internalLink\" data-title=\"专题 | 星洲网 Sin Chew Daily\" href=\"https://www.sinchew.com.my/category/%e5%85%a8%e5%9b%bd/%e4%b8%93%e9%a2%98-%e5%85%a8%e5%9b%bd/\">专题</a>, <a class=\"internalLink\" data-title=\"带你来国会 | 星洲网 Sin Chew Daily\" href=\"https://www.sinchew.com.my/category/%e5%85%a8%e5%9b%bd/%e5%b8%a6%e4%bd%a0%e6%9d%a5%e5%9b%bd%e4%bc%9a/\">带你来国会</a>, <a class=\"internalLink\" data-title=\"华社 | 星洲网 Sin Chew Daily\" href=\"https://www.sinchew.com.my/category/%e5%85%a8%e5%9b%bd/%e5%8d%8e%e7%a4%be/\">华社</a>, <a class=\"internalLink\" data-title=\"全国大选2021 | 星洲网 Sin Chew Daily\" href=\"https://www.sinchew.com.my/category/%e5%85%a8%e5%9b%bd/%e5%85%a8%e5%9b%bd%e5%a4%a7%e9%80%892021/\">全国大选2021</a>, <a class=\"internalLink\" data-title=\"求真 | 星洲网 Sin Chew Daily\" href=\"https://www.sinchew.com.my/category/%e5%85%a8%e5%9b%bd/%e6%b1%82%e7%9c%9f/\">求真</a>, <a class=\"internalLink\" data-title=\"国际 | 星洲网 Sin Chew Daily\" href=\"https://www.sinchew.com.my/category/%e5%9b%bd%e9%99%85/\">国际</a>, <a class=\"internalLink\" data-title=\"即时国际 | 星洲网 Sin Chew Daily\" href=\"https://www.sinchew.com.my/category/%e5%9b%bd%e9%99%85/%e5%8d%b3%e6%97%b6%e5%9b%bd%e9%99%85/\">即时国际</a>, <a class=\"internalLink\" data-title=\"天下事 | 星洲网 Sin Chew Daily\" href=\"https://www.sinchew.com.my/category/%e5%9b%bd%e9%99%85/%e5%a4%a9%e4%b8%8b%e4%ba%8b/\">天下事</a>, <a class=\"internalLink\" data-title=\"国际拼盘 | 星洲网 Sin Chew Daily\" href=\"https://www.sinchew.com.my/category/%e5%9b%bd%e9%99%85/%e5%9b%bd%e9%99%85%e6%8b%bc%e7%9b%98/\">国际拼盘</a>, <a class=\"internalLink\" data-title=\"带你看世界 | 星洲网 Sin Chew Daily\" href=\"https://www.sinchew.com.my/category/%e5%9b%bd%e9%99%85/%e5%b8%a6%e4%bd%a0%e7%9c%8b%e4%b8%96%e7%95%8c/\">带你看世界</a>, <a class=\"internalLink\" data-title=\"坐看云起 | 星洲网 Sin Chew Daily\" href=\"https://www.sinchew.com.my/category/%e5%9b%bd%e9%99%85/%e5%9d%90%e7%9c%8b%e4%ba%91%e8%b5%b7/\">坐看云起</a>, <a class=\"internalLink\" data-title=\"言路 | 星洲网 Sin Chew Daily\" href=\"https://www.sinchew.com.my/category/%e8%a8%80%e8%b7%af/\">言路</a>, <a class=\"internalLink\" data-title=\"社论 | 星洲网 Sin Chew Daily\" href=\"https://www.sinchew.com.my/category/%e8%a8%80%e8%b7%af/%e7%a4%be%e8%ae%ba/\">社论</a>, <a class=\"internalLink\" data-title=\"总编时间 | 星洲网 Sin Chew Daily\" href=\"https://www.sinchew.com.my/category/%e8%a8%80%e8%b7%af/%e6%80%bb%e7%bc%96%e6%97%b6%e9%97%b4/\">总编时间</a>, <a class=\"internalLink\" data-title=\"风起波生 | 星洲网 Sin Chew Daily\" href=\"https://www.sinchew.com.my/category/%e8%a8%80%e8%b7%af/%e9%a3%8e%e8%b5%b7%e6%b3%a2%e7%94%9f/\">风起波生</a>, <a class=\"internalLink\" data-title=\"非常常识 | 星洲网 Sin Chew Daily\" href=\"https://www.sinchew.com.my/category/%e8%a8%80%e8%b7%af/%e9%9d%9e%e5%b8%b8%e5%b8%b8%e8%af%86/\">非常常识</a>, <a class=\"internalLink\" data-title=\"骑驴看本 | 星洲网 Sin Chew Daily\" href=\"https://www.sinchew.com.my/category/%e8%a8%80%e8%b7%af/%e9%aa%91%e9%a9%b4%e7%9c%8b%e6%9c%ac/\">骑驴看本</a>, <a class=\"internalLink\" data-title=\"亮剑 | 星洲网 Sin Chew Daily\" href=\"https://www.sinchew.com.my/category/%e8%a8%80%e8%b7%af/%e4%ba%ae%e5%89%91/\">亮剑</a>, <a class=\"internalLink\" data-title=\"风雨看潮生 | 星洲网 Sin Chew Daily\" href=\"https://www.sinchew.com.my/category/%e8%a8%80%e8%b7%af/%e9%a3%8e%e9%9b%a8%e7%9c%8b%e6%bd%ae%e7%94%9f/\">风雨看潮生</a>, <a class=\"internalLink\" data-title=\"星期天拿铁 | 星洲网 Sin Chew Daily\" href=\"https://www.sinchew.com.my/category/%e8%a8%80%e8%b7%af/%e6%98%9f%e6%9c%9f%e5%a4%a9%e6%8b%bf%e9%93%81/\">星期天拿铁</a>, <a class=\"internalLink\" data-title=\"漫画 | 星洲网 Sin Chew Daily\" href=\"https://www.sinchew.com.my/category/%e8%a8%80%e8%b7%af/%e6%bc%ab%e7%94%bb/\">漫画</a>, <a class=\"internalLink\" data-title=\"琴有独钟 | 星洲网 Sin Chew Daily\" href=\"https://www.sinchew.com.my/category/%e8%a8%80%e8%b7%af/%e7%90%b4%e6%9c%89%e7%8b%ac%e9%92%9f/\">琴有独钟</a>, <a class=\"internalLink\" data-title=\"人言藉藉 | 星洲网 Sin Chew Daily\" href=\"https://www.sinchew.com.my/category/%e8%a8%80%e8%b7%af/%e4%ba%ba%e8%a8%80%e8%97%89%e8%97%89/\">人言藉藉</a>, <a class=\"internalLink\" data-title=\"磐石之上 | 星洲网 Sin Chew Daily\" href=\"https://www.sinchew.com.my/category/%e8%a8%80%e8%b7%af/%e7%a3%90%e7%9f%b3%e4%b9%8b%e4%b8%8a/\">磐石之上</a>, <a class=\"internalLink\" data-title=\"走马看玉兰 | 星洲网 Sin Chew Daily\" href=\"https://www.sinchew.com.my/category/%e8%a8%80%e8%b7%af/%e8%b5%b0%e9%a9%ac%e7%9c%8b%e7%8e%89%e5%85%b0/\">走马看玉兰</a>, <a class=\"internalLink\" data-title=\"新闻线上 | 星洲网 Sin Chew Daily\" href=\"https://www.sinchew.com.my/category/%e8%a8%80%e8%b7%af/%e6%96%b0%e9%97%bb%e7%ba%bf%e4%b8%8a/\">新闻线上</a>, <a class=\"internalLink\" data-title=\"从河说起 | 星洲网 Sin Chew Daily\" href=\"https://www.sinchew.com.my/category/%e8%a8%80%e8%b7%af/%e4%bb%8e%e6%b2%b3%e8%af%b4%e8%b5%b7/\">从河说起</a>, <a class=\"internalLink\" data-title=\"云淡风清 | 星洲网 Sin Chew Daily\" href=\"https://www.sinchew.com.my/category/%e8%a8%80%e8%b7%af/%e4%ba%91%e6%b7%a1%e9%a3%8e%e6%b8%85/\">云淡风清</a>, <a class=\"internalLink\" data-title=\"一己之思 | 星洲网 Sin Chew Daily\" href=\"https://www.sinchew.com.my/category/%e8%a8%80%e8%b7%af/%e4%b8%80%e5%b7%b1%e4%b9%8b%e6%80%9d/\">一己之思</a>, <a class=\"internalLink\" data-title=\"漫谈时事 | 星洲网 Sin Chew Daily\" href=\"https://www.sinchew.com.my/category/%e8%a8%80%e8%b7%af/%e6%bc%ab%e8%b0%88%e6%97%b6%e4%ba%8b/\">漫谈时事</a>, <a class=\"internalLink\" data-title=\"财经 | 星洲网 Sin Chew Daily\" href=\"https://www.sinchew.com.my/category/%e8%b4%a2%e7%bb%8f/\">财经</a>, <a class=\"internalLink\" data-title=\"即时财经 | 星洲网 Sin Chew Daily\" href=\"https://www.sinchew.com.my/category/%e8%b4%a2%e7%bb%8f/%e5%8d%b3%e6%97%b6%e8%b4%a2%e7%bb%8f/\">即时财经</a>, <a class=\"internalLink\" data-title=\"财经封面 | 星洲网 Sin Chew Daily\" href=\"https://www.sinchew.com.my/category/%e8%b4%a2%e7%bb%8f/%e8%b4%a2%e7%bb%8f%e5%b0%81%e9%9d%a2/\">财经封面</a>, <a class=\"internalLink\" data-title=\"市场盘点 | 星洲网 Sin Chew Daily\" href=\"https://www.sinchew.com.my/category/%e8%b4%a2%e7%bb%8f/%e5%b8%82%e5%9c%ba%e7%9b%98%e7%82%b9/\">市场盘点</a>, <a class=\"internalLink\" data-title=\"企业动向 | 星洲网 Sin Chew Daily\" href=\"https://www.sinchew.com.my/category/%e8%b4%a2%e7%bb%8f/%e4%bc%81%e4%b8%9a%e5%8a%a8%e5%90%91/\">企业动向</a>, <a class=\"internalLink\" data-title=\"国际财经 | 星洲网 Sin Chew Daily\" href=\"https://www.sinchew.com.my/category/%e8%b4%a2%e7%bb%8f/%e5%9b%bd%e9%99%85%e8%b4%a2%e7%bb%8f/\">国际财经</a>, <a class=\"internalLink\" data-title=\"投资法则 | 星洲网 Sin Chew Daily\" href=\"https://www.sinchew.com.my/category/%e8%b4%a2%e7%bb%8f/%e6%8a%95%e8%b5%84%e6%b3%95%e5%88%99/\">投资法则</a>, <a class=\"internalLink\" data-title=\"活用理财 | 星洲网 Sin Chew Daily\" href=\"https://www.sinchew.com.my/category/%e8%b4%a2%e7%bb%8f/%e6%b4%bb%e7%94%a8%e7%90%86%e8%b4%a2/\">活用理财</a>, <a class=\"internalLink\" data-title=\"产业兵法 | 星洲网 Sin Chew Daily\" href=\"https://www.sinchew.com.my/category/%e8%b4%a2%e7%bb%8f/%e4%ba%a7%e4%b8%9a%e5%85%b5%e6%b3%95/\">产业兵法</a>, <a class=\"internalLink\" data-title=\"财政预算案 | 星洲网 Sin Chew Daily\" href=\"https://www.sinchew.com.my/category/%e8%b4%a2%e7%bb%8f/%e8%b4%a2%e6%94%bf%e9%a2%84%e7%ae%97%e6%a1%88/\">财政预算案</a>, <a class=\"internalLink\" data-title=\"地方 | 星洲网 Sin Chew Daily\" href=\"https://www.sinchew.com.my/category/%e5%9c%b0%e6%96%b9/\">地方</a>, <a href=\"https://metro.sinchew.com.my\">大都会</a>, <a href=\"https://johor.sinchew.com.my\">大柔佛</a>, <a href=\"https://perak.sinchew.com.my\">大霹雳</a>, <a href=\"https://sarawak.sinchew.com.my\">砂拉越</a>, <a href=\"https://sabah.sinchew.com.my\">沙巴</a>, <a href=\"https://northern.sinchew.com.my\">大北马</a>, <a href=\"https://sembilan.sinchew.com.my\">花城</a>, <a href=\"https://melaka.sinchew.com.my\">古城</a>, <a href=\"https://eastcoast.sinchew.com.my\">东海岸</a>, <a class=\"internalLink\" data-title=\"有故事的人 | 星洲网 Sin Chew Daily\" href=\"https://www.sinchew.com.my/category/%e5%9c%b0%e6%96%b9/%e6%9c%89%e6%95%85%e4%ba%8b%e7%9a%84%e4%ba%ba/\">有故事的人</a>, <a class=\"internalLink\" data-title=\"副刊 | 星洲网 Sin Chew Daily\" href=\"https://www.sinchew.com.my/category/%e5%89%af%e5%88%8a/\">副刊</a>, <a class=\"internalLink\" data-title=\"副刊短片 | 星洲网 Sin Chew Daily\" href=\"https://www.sinchew.com.my/category/%e5%89%af%e5%88%8a/%e7%9f%ad%e7%89%87/%e5%89%af%e5%88%8a%e7%9f%ad%e7%89%87/\">副刊短片</a>, <a class=\"internalLink\" data-title=\"专题 | 星洲网 Sin Chew Daily\" href=\"https://www.sinchew.com.my/category/%e5%89%af%e5%88%8a/%e4%b8%93%e9%a2%98-%e5%89%af%e5%88%8a/\">专题</a>, <a class=\"internalLink\" data-title=\"优活 | 星洲网 Sin Chew Daily\" href=\"https://www.sinchew.com.my/category/%e5%89%af%e5%88%8a/%e4%bc%98%e6%b4%bb/\">优活</a>, <a class=\"internalLink\" data-title=\"旅游 | 星洲网 Sin Chew Daily\" href=\"https://www.sinchew.com.my/category/%e5%89%af%e5%88%8a/%e6%97%85%e6%b8%b8/\">旅游</a>, <a class=\"internalLink\" data-title=\"美食 | 星洲网 Sin Chew Daily\" href=\"https://www.sinchew.com.my/category/%e5%89%af%e5%88%8a/%e7%be%8e%e9%a3%9f/\">美食</a>, <a class=\"internalLink\" data-title=\"专栏 | 星洲网 Sin Chew Daily\" href=\"https://www.sinchew.com.my/category/%e5%89%af%e5%88%8a/%e4%b8%93%e6%a0%8f-%e5%89%af%e5%88%8a/\">专栏</a>, <a class=\"internalLink\" data-title=\"后生可为 | 星洲网 Sin Chew Daily\" href=\"https://www.sinchew.com.my/category/%e5%89%af%e5%88%8a/%e5%90%8e%e7%94%9f%e5%8f%af%e4%b8%ba/\">后生可为</a>, <a class=\"internalLink\" data-title=\"东西 | 星洲网 Sin Chew Daily\" href=\"https://www.sinchew.com.my/category/%e5%89%af%e5%88%8a/%e4%b8%9c%e8%a5%bf/\">东西</a>, <a class=\"internalLink\" data-title=\"时尚 | 星洲网 Sin Chew Daily\" href=\"https://www.sinchew.com.my/category/%e5%89%af%e5%88%8a/%e6%97%b6%e5%b0%9a/\">时尚</a>, <a class=\"internalLink\" data-title=\"新教育 | 星洲网 Sin Chew Daily\" href=\"https://www.sinchew.com.my/category/%e5%89%af%e5%88%8a/%e6%96%b0%e6%95%99%e8%82%b2/\">新教育</a>, <a class=\"internalLink\" data-title=\"e潮 | 星洲网 Sin Chew Daily\" href=\"https://www.sinchew.com.my/category/%e5%89%af%e5%88%8a/e%e6%bd%ae/\">e潮</a>, <a class=\"internalLink\" data-title=\"艺文 | 星洲网 Sin Chew Daily\" href=\"https://www.sinchew.com.my/category/%e5%89%af%e5%88%8a/%e8%89%ba%e6%96%87/\">艺文</a>, <a class=\"internalLink\" data-title=\"护生 | 星洲网 Sin Chew Daily\" href=\"https://www.sinchew.com.my/category/%e5%89%af%e5%88%8a/%e6%8a%a4%e7%94%9f/\">护生</a>, <a class=\"internalLink\" data-title=\"看车 | 星洲网 Sin Chew Daily\" href=\"https://www.sinchew.com.my/category/%e5%89%af%e5%88%8a/%e7%9c%8b%e8%bd%a6/\">看车</a>, <a class=\"internalLink\" data-title=\"养生 | 星洲网 Sin Chew Daily\" href=\"https://www.sinchew.com.my/category/%e5%89%af%e5%88%8a/%e5%85%bb%e7%94%9f/\">养生</a>, <a class=\"internalLink\" data-title=\"家庭 | 星洲网 Sin Chew Daily\" href=\"https://www.sinchew.com.my/category/%e5%89%af%e5%88%8a/%e5%ae%b6%e5%ba%ad/\">家庭</a>, <a class=\"internalLink\" data-title=\"文艺春秋 | 星洲网 Sin Chew Daily\" href=\"https://www.sinchew.com.my/category/%e5%89%af%e5%88%8a/%e6%96%87%e8%89%ba%e6%98%a5%e7%a7%8b/\">文艺春秋</a>, <a class=\"internalLink\" data-title=\"星云 | 星洲网 Sin Chew Daily\" href=\"https://www.sinchew.com.my/category/%e5%89%af%e5%88%8a/%e6%98%9f%e4%ba%91/\">星云</a>, <a class=\"internalLink\" data-title=\"人物 | 星洲网 Sin Chew Daily\" href=\"https://www.sinchew.com.my/category/%e5%89%af%e5%88%8a/%e4%ba%ba%e7%89%a9/\">人物</a>, <a class=\"internalLink\" data-title=\"影音 | 星洲网 Sin Chew Daily\" href=\"https://www.sinchew.com.my/category/%e5%89%af%e5%88%8a/%e5%bd%b1%e9%9f%b3/\">影音</a>, <a class=\"internalLink\" data-title=\"读家 | 星洲网 Sin Chew Daily\" href=\"https://www.sinchew.com.my/category/%e5%89%af%e5%88%8a/%e8%af%bb%e5%ae%b6/\">读家</a>, <a class=\"internalLink\" data-title=\"娱乐 | 星洲网 Sin Chew Daily\" href=\"https://www.sinchew.com.my/category/%e5%a8%b1%e4%b9%90/\">娱乐</a>, <a class=\"internalLink\" data-title=\"即时娱乐 | 星洲网 Sin Chew Daily\" href=\"https://www.sinchew.com.my/category/%e5%a8%b1%e4%b9%90/%e5%8d%b3%e6%97%b6%e5%a8%b1%e4%b9%90/\">即时娱乐</a>, <a class=\"internalLink\" data-title=\"国外娱乐 | 星洲网 Sin Chew Daily\" href=\"https://www.sinchew.com.my/category/%e5%a8%b1%e4%b9%90/%e5%9b%bd%e5%a4%96%e5%a8%b1%e4%b9%90/\">国外娱乐</a>, <a class=\"internalLink\" data-title=\"大马娱乐 | 星洲网 Sin Chew Daily\" href=\"https://www.sinchew.com.my/category/%e5%a8%b1%e4%b9%90/%e5%a4%a7%e9%a9%ac%e5%a8%b1%e4%b9%90/\">大马娱乐</a>, <a class=\"internalLink\" data-title=\"影视 | 星洲网 Sin Chew Daily\" href=\"https://www.sinchew.com.my/category/%e5%a8%b1%e4%b9%90/%e5%bd%b1%e8%a7%86/\">影视</a>, <a class=\"internalLink\" data-title=\"体育 | 星洲网 Sin Chew Daily\" href=\"https://www.sinchew.com.my/category/%e4%bd%93%e8%82%b2/\">体育</a>, <a class=\"internalLink\" data-title=\"即时体育 | 星洲网 Sin Chew Daily\" href=\"https://www.sinchew.com.my/category/%e4%bd%93%e8%82%b2/%e5%8d%b3%e6%97%b6%e4%bd%93%e8%82%b2/\">即时体育</a>, <a class=\"internalLink\" data-title=\"体育封面 | 星洲网 Sin Chew Daily\" href=\"https://www.sinchew.com.my/category/%e4%bd%93%e8%82%b2/%e4%bd%93%e8%82%b2%e5%b0%81%e9%9d%a2/\">体育封面</a>, <a class=\"internalLink\" data-title=\"大马体育 | 星洲网 Sin Chew Daily\" href=\"https://www.sinchew.com.my/category/%e4%bd%93%e8%82%b2/%e5%a4%a7%e9%a9%ac%e4%bd%93%e8%82%b2/\">大马体育</a>, <a class=\"internalLink\" data-title=\"羽球 | 星洲网 Sin Chew Daily\" href=\"https://www.sinchew.com.my/category/%e4%bd%93%e8%82%b2/%e7%be%bd%e7%90%83/\">羽球</a>, <a class=\"internalLink\" data-title=\"足球 | 星洲网 Sin Chew Daily\" href=\"https://www.sinchew.com.my/category/%e4%bd%93%e8%82%b2/%e8%b6%b3%e7%90%83/\">足球</a>, <a class=\"internalLink\" data-title=\"篮球 | 星洲网 Sin Chew Daily\" href=\"https://www.sinchew.com.my/category/%e4%bd%93%e8%82%b2/%e7%af%ae%e7%90%83/\">篮球</a>, <a class=\"internalLink\" data-title=\"水上 | 星洲网 Sin Chew Daily\" href=\"https://www.sinchew.com.my/category/%e4%bd%93%e8%82%b2/%e6%b0%b4%e4%b8%8a/\">水上</a>, <a class=\"internalLink\" data-title=\"综合 | 星洲网 Sin Chew Daily\" href=\"https://www.sinchew.com.my/category/%e4%bd%93%e8%82%b2/%e7%bb%bc%e5%90%88/\">综合</a>, <a class=\"internalLink\" data-title=\"场外花絮 | 星洲网 Sin Chew Daily\" href=\"https://www.sinchew.com.my/category/%e4%bd%93%e8%82%b2/%e5%9c%ba%e5%a4%96%e8%8a%b1%e7%b5%ae/\">场外花絮</a>, <a class=\"internalLink\" data-title=\"东京奥运 | 星洲网 Sin Chew Daily\" href=\"https://www.sinchew.com.my/category/%e4%bd%93%e8%82%b2/%e4%b8%9c%e4%ba%ac%e5%a5%a5%e8%bf%90/\">东京奥运</a>, <a class=\"internalLink\" data-title=\"百格 | 星洲网 Sin Chew Daily\" href=\"https://www.sinchew.com.my/category/%e7%99%be%e6%a0%bc/\">百格</a>, <a class=\"internalLink\" data-title=\"百格新闻 | 星洲网 Sin Chew Daily\" href=\"https://www.sinchew.com.my/category/%e7%99%be%e6%a0%bc/%e7%99%be%e6%a0%bc%e6%96%b0%e9%97%bb/\">百格新闻</a>, <a class=\"internalLink\" data-title=\"百格午报 | 星洲网 Sin Chew Daily\" href=\"https://www.sinchew.com.my/category/%e7%99%be%e6%a0%bc/%e7%99%be%e6%a0%bc%e5%8d%88%e6%8a%a5/\">百格午报</a>, <a class=\"internalLink\" data-title=\"百格大事纪 | 星洲网 Sin Chew Daily\" href=\"https://www.sinchew.com.my/category/%e7%99%be%e6%a0%bc/%e7%99%be%e6%a0%bc%e5%a4%a7%e4%ba%8b%e7%ba%aa/\">百格大事纪</a>, <a class=\"internalLink\" data-title=\"财经Espresso | 星洲网 Sin Chew Daily\" href=\"https://www.sinchew.com.my/category/%e7%99%be%e6%a0%bc/%e8%b4%a2%e7%bb%8fespresso/\">财经Espresso</a>, <a class=\"internalLink\" data-title=\"笔记本 | 星洲网 Sin Chew Daily\" href=\"https://www.sinchew.com.my/category/%e7%99%be%e6%a0%bc/%e7%ac%94%e8%ae%b0%e6%9c%ac/\">笔记本</a>, <a class=\"internalLink\" data-title=\"百格人物 | 星洲网 Sin Chew Daily\" href=\"https://www.sinchew.com.my/category/%e7%99%be%e6%a0%bc/%e7%99%be%e6%a0%bc%e4%ba%ba%e7%89%a9/\">百格人物</a>, <a class=\"internalLink\" data-title=\"百格纷 | 星洲网 Sin Chew Daily\" href=\"https://www.sinchew.com.my/category/%e7%99%be%e6%a0%bc/%e7%99%be%e6%a0%bc%e7%ba%b7/\">百格纷</a>, <a class=\"internalLink\" data-title=\"百格大家讲 | 星洲网 Sin Chew Daily\" href=\"https://www.sinchew.com.my/category/%e7%99%be%e6%a0%bc/%e7%99%be%e6%a0%bc%e5%a4%a7%e5%ae%b6%e8%ae%b2/\">百格大家讲</a>, <a class=\"internalLink\" data-title=\"On The Hot Seat | 星洲网 Sin Chew Daily\" href=\"https://www.sinchew.com.my/category/%e7%99%be%e6%a0%bc/on-the-hot-seat/\">On The Hot Seat</a>, <a class=\"internalLink\" data-title=\"SC Lab策划 | 星洲网 Sin Chew Daily\" href=\"https://www.sinchew.com.my/category/%e7%99%be%e6%a0%bc/sc-lab%e7%ad%96%e5%88%92/\">SC Lab策划</a>, <a class=\"internalLink\" data-title=\"星角攝 | 星洲网 Sin Chew Daily\" href=\"https://www.sinchew.com.my/category/%e5%9b%be%e8%be%91-%e6%98%9f%e6%b4%b2%e7%bd%91/\">星角攝</a>, <a class=\"internalLink\" data-title=\"图说大马 | 星洲网 Sin Chew Daily\" href=\"https://www.sinchew.com.my/category/%e5%9b%be%e8%be%91-%e6%98%9f%e6%b4%b2%e7%bd%91/%e5%9b%be%e8%af%b4%e5%a4%a7%e9%a9%ac-%e5%9b%be%e8%be%91-%e6%98%9f%e6%b4%b2%e7%bd%91/\">图说大马</a>, <a class=\"internalLink\" data-title=\"国际写真 | 星洲网 Sin Chew Daily\" href=\"https://www.sinchew.com.my/category/%e5%9b%be%e8%be%91-%e6%98%9f%e6%b4%b2%e7%bd%91/%e5%9b%bd%e9%99%85%e5%86%99%e7%9c%9f-%e5%9b%be%e8%be%91-%e6%98%9f%e6%b4%b2%e7%bd%91/\">国际写真</a>, <a class=\"internalLink\" data-title=\"好运来 | 星洲网 Sin Chew Daily\" href=\"https://www.sinchew.com.my/good-fortune/\">好运来</a>, <a class=\"internalLink\" data-title=\"万能 | 星洲网 Sin Chew Daily\" href=\"https://www.sinchew.com.my/magnum/\">万能</a>, <a class=\"internalLink\" data-title=\"多多 | 星洲网 Sin Chew Daily\" href=\"https://www.sinchew.com.my/sportstoto/\">多多</a>, <a class=\"internalLink\" data-title=\"大马彩 | 星洲网 Sin Chew Daily\" href=\"https://www.sinchew.com.my/damacai/\">大马彩</a>, <a class=\"internalLink\" href=\"https://www.sinchew.com.my/category/言路/\">言路</a>, <a class=\"internalLink\" href=\"https://www.sinchew.com.my/category/言路/开屛论势/\">开屛论势</a>, <a href=\"https://www.facebook.com/sharer/sharer.php?u=https%3A%2F%2Fwww.sinchew.com.my%2F%3Fp%3D3160672&amp;t=%E6%9D%A8%E5%BE%AE%E5%B1%8F.%E5%86%99%E4%BB%80%E4%B9%88%E6%89%8D%E4%B8%8D%E6%98%AF%E5%81%87%E6%96%B0%E9%97%BB&amp;quote=%E6%9D%A8%E5%BE%AE%E5%B1%8F.%E5%86%99%E4%BB%80%E4%B9%88%E6%89%8D%E4%B8%8D%E6%98%AF%E5%81%87%E6%96%B0%E9%97%BB\" target=\"_blank\"><i class=\"fab fa-facebook-f\"></i></a>, <a href=\"https://twitter.com/intent/tweet?text=%E6%9D%A8%E5%BE%AE%E5%B1%8F.%E5%86%99%E4%BB%80%E4%B9%88%E6%89%8D%E4%B8%8D%E6%98%AF%E5%81%87%E6%96%B0%E9%97%BB%20https%3A%2F%2Fwww.sinchew.com.my%2F%3Fp%3D3160672\" target=\"_blank\"><i class=\"fab fa-twitter\"></i></a>, <a href=\"/cdn-cgi/l/email-protection#a29dd1d7c0c8c7c1d69f87e794879be687e39a87e79787e0e787e3e787e79787e093879ae48c87e797879a94879b9b87e79687e0e0879a9287e79687e09b879a9a87e794879a9b879ae687e79687e09a879ae687e794879b9a87e3e487e797879a93879a9587e794879b9487e09287e79b879b9587e0e084c3cfd299c0cdc6db9f87e794879be687e39a87e79787e0e787e3e787e79787e093879ae48c87e797879a94879b9b87e79687e0e0879a9287e79687e09b879a9a87e794879a9b879ae687e79687e09a879ae687e794879b9a87e3e487e797879a93879a9587e794879b9487e09287e79b879b9587e0e0879092cad6d6d2d18791e38790e48790e4d5d5d58cd1cbccc1cac7d58cc1cdcf8ccfdb8790e48791e4d28791e691939492949590\" target=\"_blank\"><i class=\"fas fa-envelope-square\"></i></a>, <a href=\"https://api.whatsapp.com/send?text=%E6%9D%A8%E5%BE%AE%E5%B1%8F.%E5%86%99%E4%BB%80%E4%B9%88%E6%89%8D%E4%B8%8D%E6%98%AF%E5%81%87%E6%96%B0%E9%97%BB%20https%3A%2F%2Fwww.sinchew.com.my%2F%3Fp%3D3160672\" target=\"_blank\"><i class=\"fab fa-whatsapp\"></i></a>, <a class=\"os-share-action\" href=\"javascript:void(0)\" onclick=\"weixinShare();\"><i class=\"fab fa-weixin\"></i></a>, <a href=\"javascript:void(0)\" onclick=\"copyShare(this);\"><i class=\"fas fa-link\"></i></a>, <a class=\"internalLink\" href=\"https://www.sinchew.com.my/category/言路/\">言路</a>, <a class=\"internalLink\" href=\"https://www.sinchew.com.my/category/言路/开屛论势/\">开屛论势</a>, <a href=\"https://www.facebook.com/sharer/sharer.php?u=https%3A%2F%2Fwww.sinchew.com.my%2F%3Fp%3D3160672&amp;t=%E6%9D%A8%E5%BE%AE%E5%B1%8F.%E5%86%99%E4%BB%80%E4%B9%88%E6%89%8D%E4%B8%8D%E6%98%AF%E5%81%87%E6%96%B0%E9%97%BB&amp;quote=%E6%9D%A8%E5%BE%AE%E5%B1%8F.%E5%86%99%E4%BB%80%E4%B9%88%E6%89%8D%E4%B8%8D%E6%98%AF%E5%81%87%E6%96%B0%E9%97%BB\" target=\"_blank\"><i class=\"fab fa-facebook-f\"></i></a>, <a href=\"https://twitter.com/intent/tweet?text=%E6%9D%A8%E5%BE%AE%E5%B1%8F.%E5%86%99%E4%BB%80%E4%B9%88%E6%89%8D%E4%B8%8D%E6%98%AF%E5%81%87%E6%96%B0%E9%97%BB%20https%3A%2F%2Fwww.sinchew.com.my%2F%3Fp%3D3160672\" target=\"_blank\"><i class=\"fab fa-twitter\"></i></a>, <a href=\"/cdn-cgi/l/email-protection#5f602c2a3d353a3c2b627a1a697a661b7a1e677a1a6a7a1d1a7a1e1a7a1a6a7a1d6e7a6719717a1a6a7a67697a66667a1a6b7a1d1d7a676f7a1a6b7a1d667a67677a1a697a67667a671b7a1a6b7a1d677a671b7a1a697a66677a1e197a1a6a7a676e7a67687a1a697a66697a1d6f7a1a667a66687a1d1d793e322f643d303b26627a1a697a661b7a1e677a1a6a7a1d1a7a1e1a7a1a6a7a1d6e7a6719717a1a6a7a67697a66667a1a6b7a1d1d7a676f7a1a6b7a1d667a67677a1a697a67667a671b7a1a6b7a1d677a671b7a1a697a66677a1e197a1a6a7a676e7a67687a1a697a66697a1d6f7a1a667a66687a1d1d7a6d6f372b2b2f2c7a6c1e7a6d197a6d19282828712c36313c373a28713c30327132267a6d197a6c192f7a6c1b6c6e696f69686d\" target=\"_blank\"><i class=\"fas fa-envelope-square\"></i></a>, <a href=\"https://api.whatsapp.com/send?text=%E6%9D%A8%E5%BE%AE%E5%B1%8F.%E5%86%99%E4%BB%80%E4%B9%88%E6%89%8D%E4%B8%8D%E6%98%AF%E5%81%87%E6%96%B0%E9%97%BB%20https%3A%2F%2Fwww.sinchew.com.my%2F%3Fp%3D3160672\" target=\"_blank\"><i class=\"fab fa-whatsapp\"></i></a>, <a class=\"os-share-action\" href=\"javascript:void(0)\" onclick=\"weixinShare();\"><i class=\"fab fa-weixin\"></i></a>, <a href=\"javascript:void(0)\" onclick=\"copyShare(this);\"><i class=\"fas fa-link\"></i></a>, <a class=\"section-title-link\" href=\"https://www.sinchew.com.my/category/言路/\">更多言路新闻</a>, <a class=\"internalLink\" data-title=\"社论.寻策舒缓涨价潮解民忧\" href=\"https://www.sinchew.com.my/20211203/3457913/\">\n",
              " <img class=\"img\" data-cfsrc=\"https://www.sinchew.com.my/wp-content/uploads/2021/12/shelun-1-aspect-ratio-1600-900.jpg\" style=\"display:none;visibility:hidden;\"/><noscript><img class=\"img\" src=\"https://www.sinchew.com.my/wp-content/uploads/2021/12/shelun-1-aspect-ratio-1600-900.jpg\"/></noscript>\n",
              " </a>, <a class=\"internalLink\" data-title=\"社论.寻策舒缓涨价潮解民忧\" href=\"https://www.sinchew.com.my/20211203/3457913/\">社论.寻策舒缓涨价潮解民忧</a>, <a class=\"internalLink\" data-title=\"张荣强博士.疫情期间的国中教育\" href=\"https://www.sinchew.com.my/20211203/3457914/\">\n",
              " <img class=\"img\" data-cfsrc=\"https://www.sinchew.com.my/wp-content/uploads/2021/12/huajiao-aspect-ratio-1600-900-4.jpg\" style=\"display:none;visibility:hidden;\"/><noscript><img class=\"img\" src=\"https://www.sinchew.com.my/wp-content/uploads/2021/12/huajiao-aspect-ratio-1600-900-4.jpg\"/></noscript>\n",
              " </a>, <a class=\"internalLink\" data-title=\"张荣强博士.疫情期间的国中教育\" href=\"https://www.sinchew.com.my/20211203/3457914/\">张荣强博士.疫情期间的国中教育</a>, <a class=\"internalLink\" data-title=\"郭史光宏.当学校的防火墙倒下\" href=\"https://www.sinchew.com.my/20211203/3457918/\">\n",
              " <img class=\"img\" data-cfsrc=\"https://www.sinchew.com.my/wp-content/uploads/2021/12/huajiao-aspect-ratio-1600-900-3.jpg\" style=\"display:none;visibility:hidden;\"/><noscript><img class=\"img\" src=\"https://www.sinchew.com.my/wp-content/uploads/2021/12/huajiao-aspect-ratio-1600-900-3.jpg\"/></noscript>\n",
              " </a>, <a class=\"internalLink\" data-title=\"郭史光宏.当学校的防火墙倒下\" href=\"https://www.sinchew.com.my/20211203/3457918/\">郭史光宏.当学校的防火墙倒下</a>, <a class=\"internalLink\" data-title=\"黄祯玉博士.重新学习“学习”\" href=\"https://www.sinchew.com.my/20211203/3457916/\">\n",
              " <img class=\"img\" data-cfsrc=\"https://www.sinchew.com.my/wp-content/uploads/2021/12/huajiao-aspect-ratio-1600-900-2.jpg\" style=\"display:none;visibility:hidden;\"/><noscript><img class=\"img\" src=\"https://www.sinchew.com.my/wp-content/uploads/2021/12/huajiao-aspect-ratio-1600-900-2.jpg\"/></noscript>\n",
              " </a>, <a class=\"internalLink\" data-title=\"黄祯玉博士.重新学习“学习”\" href=\"https://www.sinchew.com.my/20211203/3457916/\">黄祯玉博士.重新学习“学习”</a>, <a class=\"internalLink\" data-title=\"谢光量.疫情下牺牲的民主\" href=\"https://www.sinchew.com.my/20211203/3457917/\">\n",
              " <img class=\"img\" data-cfsrc=\"https://www.sinchew.com.my/wp-content/uploads/2021/12/huajiao-aspect-ratio-1600-900-1.jpg\" style=\"display:none;visibility:hidden;\"/><noscript><img class=\"img\" src=\"https://www.sinchew.com.my/wp-content/uploads/2021/12/huajiao-aspect-ratio-1600-900-1.jpg\"/></noscript>\n",
              " </a>, <a class=\"internalLink\" data-title=\"谢光量.疫情下牺牲的民主\" href=\"https://www.sinchew.com.my/20211203/3457917/\">谢光量.疫情下牺牲的民主</a>, <a class=\"internalLink\" data-title=\"麦翔.人民是力量\" href=\"https://www.sinchew.com.my/20211203/3457921/\">\n",
              " <img class=\"img\" data-cfsrc=\"https://www.sinchew.com.my/wp-content/uploads/2021/12/huajiao-aspect-ratio-1600-900.jpg\" style=\"display:none;visibility:hidden;\"/><noscript><img class=\"img\" src=\"https://www.sinchew.com.my/wp-content/uploads/2021/12/huajiao-aspect-ratio-1600-900.jpg\"/></noscript>\n",
              " </a>, <a class=\"internalLink\" data-title=\"麦翔.人民是力量\" href=\"https://www.sinchew.com.my/20211203/3457921/\">麦翔.人民是力量</a>, <a href=\"https://yayasansinchew.org.my/page/home/\" target=\"_blank\">\n",
              " <img alt=\"\" data-cfsrc=\"/public/images/yayasan.png\" style=\"display:none;visibility:hidden;\"/><noscript><img alt=\"\" src=\"/public/images/yayasan.png\"/></noscript> 星洲日报基金会\n",
              " </a>, <a href=\"https://sinchewbusinessawards2020.sinchew.com.my/\" target=\"_blank\">\n",
              " <img alt=\"\" data-cfsrc=\"/public/images/business.png\" style=\"display:none;visibility:hidden;\"/><noscript><img alt=\"\" src=\"/public/images/business.png\"/></noscript> 星洲企业楷模奖\n",
              " </a>, <a href=\"http://scedufund.sinchew.com.my/\" target=\"_blank\">\n",
              " <img alt=\"\" data-cfsrc=\"/public/images/edufund.png\" style=\"display:none;visibility:hidden;\"/><noscript><img alt=\"\" src=\"/public/images/edufund.png\"/></noscript> 星洲日报教育基金\n",
              " </a>, <a href=\"https://onlinequiz.sinchew.com.my/\" target=\"_blank\">\n",
              " <img alt=\"\" data-cfsrc=\"/public/images/onlineqa.png\" style=\"display:none;visibility:hidden;\"/><noscript><img alt=\"\" src=\"/public/images/onlineqa.png\"/></noscript> 星洲华文资讯网上问答比赛\n",
              " </a>, <a href=\"https://sincheweducationawards2018.sinchew.com.my/\" target=\"_blank\">\n",
              " <img alt=\"\" data-cfsrc=\"/public/images/eduaward.png\" style=\"display:none;visibility:hidden;\"/><noscript><img alt=\"\" src=\"/public/images/eduaward.png\"/></noscript> 星洲教育奖\n",
              " </a>, <a href=\"https://niequiz.sinchew.com.my/\" target=\"_blank\">\n",
              " <img alt=\"\" data-cfsrc=\"/public/images/nie.png\" style=\"display:none;visibility:hidden;\"/><noscript><img alt=\"\" src=\"/public/images/nie.png\"/></noscript> 星洲日报学生阅报计划\n",
              " </a>, <a href=\"https://huazong.sinchew.com.my/\" target=\"_blank\">\n",
              " <img alt=\"\" data-cfsrc=\"/public/images/flower.png\" style=\"display:none;visibility:hidden;\"/><noscript><img alt=\"\" src=\"/public/images/flower.png\"/></noscript> 星洲日报花踪文学奖\n",
              " </a>, <a href=\"https://efair.sinchew.com.my/\" target=\"_blank\">\n",
              " <img alt=\"\" data-cfsrc=\"/public/images/logo-edu.png\" style=\"display:none;visibility:hidden;\"/><noscript><img alt=\"\" src=\"/public/images/logo-edu.png\"/></noscript> 星洲教E展\n",
              " </a>, <a href=\"https://sceguide.sinchew.com.my/\" target=\"_blank\">\n",
              " <img alt=\"\" data-cfsrc=\"/public/images/logo-owl.png\" style=\"display:none;visibility:hidden;\"/><noscript><img alt=\"\" src=\"/public/images/logo-owl.png\"/></noscript> 星洲升.学\n",
              " </a>, <a href=\"https://www.facebook.com/SinChewDaily/\" target=\"_blank\"><i class=\"fab fa-facebook-f\"></i></a>, <a href=\"https://twitter.com/SinChewPress\" target=\"_blank\"><i class=\"fab fa-twitter\"></i></a>, <a href=\"https://www.youtube.com/channel/UCKC1q1zc_CG2MtOCEHNUt1Q\" target=\"_blank\"><i class=\"fab fa-youtube\"></i></a>, <a href=\"https://www.instagram.com/sinchewdaily/\" target=\"_blank\"><i class=\"fab fa-instagram\"></i></a>, <a href=\"https://www.sinchew.com.my/wechat/\" target=\"_blank\"><i class=\"fab fa-weixin\"></i></a>, <a href=\"https://t.me/sinchewtelegram\" target=\"_blank\"><i class=\"fab fa-telegram-plane\"></i></a>, <a href=\"https://www.weibo.com/sinchewi\" target=\"_blank\"><i class=\"fab fa-weibo\"></i></a>, <a href=\"https://apps.apple.com/my/app/sin-chew-%E6%98%9F%E6%B4%B2%E6%97%A5%E6%8A%A5/id1077727843\" target=\"_blank\"><img data-cfsrc=\"/public/images/apple-app.png\" style=\"display:none;visibility:hidden;\"/><noscript><img src=\"/public/images/apple-app.png\"/></noscript></a>, <a href=\"https://play.google.com/store/apps/details?id=com.sinchewnews&amp;hl=en_US\" target=\"_blank\"><img data-cfsrc=\"/public/images/google-app.png\" style=\"display:none;visibility:hidden;\"/><noscript><img src=\"/public/images/google-app.png\"/></noscript></a>, <a class=\"footer-hyperlink\" href=\"https://www.sinchew.com.my/intro\" target=\"_blank\">关于我们</a>, <a class=\"footer-hyperlink\" href=\"https://www.sinchew.com.my/feedback\" target=\"_blank\">联络我们</a>, <a class=\"footer-hyperlink\" href=\"https://www.sinchew.com.my/job\" target=\"_blank\">求才若渴</a>, <a class=\"footer-hyperlink\" href=\"https://www.sinchew.com.my/terms\" target=\"_blank\">使用者条例</a>, <a class=\"footer-hyperlink\" href=\"https://www.sinchew.com.my/disclaimer\" target=\"_blank\">Disclaimer</a>, <a class=\"footer-hyperlink\" href=\"https://www.sinchew.com.my/privacy\" target=\"_blank\">私隐政策声明</a>, <a class=\"footer-hyperlink\" href=\"https://www.sinchew.com.my/faq\" target=\"_blank\">常见问题</a>, <a class=\"footer-hyperlink\" href=\"https://www.sinchew.com.my/ratecard\" target=\"_blank\">刊登广告</a>, <a class=\"footer-hyperlink\" href=\"https://www.sinchew.com.my/subscription\" target=\"_blank\">订阅服务</a>, <a class=\"footer-hyperlink\" href=\"https://member.sinchew.com.my/\" target=\"_blank\">星洲人</a>, <a class=\"footer-hyperlink\" href=\"https://scepaper.sinchew.com.my/\" target=\"_blank\">星洲电子报</a>, <a class=\"footer-hyperlink\" href=\"https://xuehai.sinchew.com.my\" target=\"_blank\">学海</a>, <a class=\"footer-hyperlink\" href=\"https://xingxing.sinchew.com.my\" target=\"_blank\">星星学堂</a>, <a class=\"footer-hyperlink\" href=\"https://www.sinchew.com.my/?p=2904604\" target=\"_blank\">小星星</a>, <a class=\"footer-hyperlink\" href=\"https://www.sinchew.com.my/public/files/xinghui33-202012.pdf\" target=\"_blank\">星汇</a>, <a class=\"footer-hyperlink\" href=\"https://aihuawen.sinchew.com.my/\" target=\"_blank\">爱华文</a>, <a class=\"footer-hyperlink\" href=\"http://classifieds.sinchew.com.my/\" target=\"_blank\">分类广告</a>, <a class=\"footer-hyperlink\" href=\"https://www.chinapress.com.my/\" target=\"_blank\">中国报</a>, <a class=\"footer-hyperlink\" href=\"https://www.enanyang.my\" target=\"_blank\">ENANYANG</a>, <a class=\"footer-hyperlink\" href=\"https://guangming.com.my/\" target=\"_blank\">光明日报</a>, <a class=\"footer-hyperlink\" href=\"http://feminine.com.my/\" target=\"_blank\">风采</a>, <a class=\"footer-hyperlink\" href=\"http://www.ilifepost.com/\" target=\"_blank\">爱生活</a>, <a class=\"footer-hyperlink\" href=\"http://www.cittabella.my/\" target=\"_blank\">都会佳人</a>, <a class=\"footer-hyperlink\" href=\"https://www.rhhotels.com.my/sibu/\" target=\"_blank\">RH Hotel, sibu, sarawak</a>, <a href=\"https://www.appasia.com/\" target=\"_blank\"><img data-cfsrc=\"/public/images/AA-logo.png\" style=\"display:none;visibility:hidden;\"/><noscript><img src=\"/public/images/AA-logo.png\"/></noscript></a>, <a class=\"desktop-hidden\" href=\"https://melakaelection.sinchew.com.my/\" target=\"_blank\"><img data-cfsrc=\"https://www.sinchew.com.my/public/images/melaka-election/melaka_election_mainsite_icon.png\" style=\"display:none;visibility:hidden;\"/><noscript><img src=\"https://www.sinchew.com.my/public/images/melaka-election/melaka_election_mainsite_icon.png\"/></noscript></a>, <a class=\"mobile-hidden\" href=\"https://melakaelection.sinchew.com.my/\" target=\"_blank\"><img data-cfsrc=\"https://www.sinchew.com.my/public/images/melaka-election/melaka_election_mainsite_icon.png\" style=\"display:none;visibility:hidden;\"/><noscript><img src=\"https://www.sinchew.com.my/public/images/melaka-election/melaka_election_mainsite_icon.png\"/></noscript></a>]"
            ]
          },
          "metadata": {},
          "execution_count": 98
        }
      ]
    },
    {
      "cell_type": "code",
      "metadata": {
        "colab": {
          "base_uri": "https://localhost:8080/",
          "height": 363
        },
        "id": "mlfqanxJLL_3",
        "outputId": "a9afe479-d4a3-422b-90eb-78b58f98dcbd"
      },
      "source": [
        "url = 'http://www.google.com'\n",
        "proxies = {\n",
        "\"http\": 'http://195.187.63.42:8080',\n",
        "\"https\": 'http://195.187.63.42:8080'\n",
        "}\n",
        "response = requests.get(url,proxies=proxies, headers = headers)\n"
      ],
      "execution_count": null,
      "outputs": [
        {
          "output_type": "stream",
          "name": "stderr",
          "text": [
            "2021-12-03 07:34:43 [urllib3.connectionpool] DEBUG: Starting new HTTP connection (1): 195.187.63.42:8080\n"
          ]
        },
        {
          "output_type": "error",
          "ename": "KeyboardInterrupt",
          "evalue": "ignored",
          "traceback": [
            "\u001b[0;31m---------------------------------------------------------------------------\u001b[0m",
            "\u001b[0;31mKeyboardInterrupt\u001b[0m                         Traceback (most recent call last)",
            "\u001b[0;32m<ipython-input-89-f5899f4c4273>\u001b[0m in \u001b[0;36m<module>\u001b[0;34m()\u001b[0m\n\u001b[1;32m      4\u001b[0m \u001b[0;34m\"https\"\u001b[0m\u001b[0;34m:\u001b[0m \u001b[0;34m'http://195.187.63.42:8080'\u001b[0m\u001b[0;34m\u001b[0m\u001b[0;34m\u001b[0m\u001b[0m\n\u001b[1;32m      5\u001b[0m }\n\u001b[0;32m----> 6\u001b[0;31m \u001b[0mresponse\u001b[0m \u001b[0;34m=\u001b[0m \u001b[0mrequests\u001b[0m\u001b[0;34m.\u001b[0m\u001b[0mget\u001b[0m\u001b[0;34m(\u001b[0m\u001b[0murl\u001b[0m\u001b[0;34m,\u001b[0m\u001b[0mproxies\u001b[0m\u001b[0;34m=\u001b[0m\u001b[0mproxies\u001b[0m\u001b[0;34m,\u001b[0m \u001b[0mheaders\u001b[0m \u001b[0;34m=\u001b[0m \u001b[0mheaders\u001b[0m\u001b[0;34m)\u001b[0m\u001b[0;34m\u001b[0m\u001b[0;34m\u001b[0m\u001b[0m\n\u001b[0m",
            "\u001b[0;32m/usr/local/lib/python3.7/dist-packages/requests/api.py\u001b[0m in \u001b[0;36mget\u001b[0;34m(url, params, **kwargs)\u001b[0m\n\u001b[1;32m     74\u001b[0m \u001b[0;34m\u001b[0m\u001b[0m\n\u001b[1;32m     75\u001b[0m     \u001b[0mkwargs\u001b[0m\u001b[0;34m.\u001b[0m\u001b[0msetdefault\u001b[0m\u001b[0;34m(\u001b[0m\u001b[0;34m'allow_redirects'\u001b[0m\u001b[0;34m,\u001b[0m \u001b[0;32mTrue\u001b[0m\u001b[0;34m)\u001b[0m\u001b[0;34m\u001b[0m\u001b[0;34m\u001b[0m\u001b[0m\n\u001b[0;32m---> 76\u001b[0;31m     \u001b[0;32mreturn\u001b[0m \u001b[0mrequest\u001b[0m\u001b[0;34m(\u001b[0m\u001b[0;34m'get'\u001b[0m\u001b[0;34m,\u001b[0m \u001b[0murl\u001b[0m\u001b[0;34m,\u001b[0m \u001b[0mparams\u001b[0m\u001b[0;34m=\u001b[0m\u001b[0mparams\u001b[0m\u001b[0;34m,\u001b[0m \u001b[0;34m**\u001b[0m\u001b[0mkwargs\u001b[0m\u001b[0;34m)\u001b[0m\u001b[0;34m\u001b[0m\u001b[0;34m\u001b[0m\u001b[0m\n\u001b[0m\u001b[1;32m     77\u001b[0m \u001b[0;34m\u001b[0m\u001b[0m\n\u001b[1;32m     78\u001b[0m \u001b[0;34m\u001b[0m\u001b[0m\n",
            "\u001b[0;32m/usr/local/lib/python3.7/dist-packages/requests/api.py\u001b[0m in \u001b[0;36mrequest\u001b[0;34m(method, url, **kwargs)\u001b[0m\n\u001b[1;32m     59\u001b[0m     \u001b[0;31m# cases, and look like a memory leak in others.\u001b[0m\u001b[0;34m\u001b[0m\u001b[0;34m\u001b[0m\u001b[0;34m\u001b[0m\u001b[0m\n\u001b[1;32m     60\u001b[0m     \u001b[0;32mwith\u001b[0m \u001b[0msessions\u001b[0m\u001b[0;34m.\u001b[0m\u001b[0mSession\u001b[0m\u001b[0;34m(\u001b[0m\u001b[0;34m)\u001b[0m \u001b[0;32mas\u001b[0m \u001b[0msession\u001b[0m\u001b[0;34m:\u001b[0m\u001b[0;34m\u001b[0m\u001b[0;34m\u001b[0m\u001b[0m\n\u001b[0;32m---> 61\u001b[0;31m         \u001b[0;32mreturn\u001b[0m \u001b[0msession\u001b[0m\u001b[0;34m.\u001b[0m\u001b[0mrequest\u001b[0m\u001b[0;34m(\u001b[0m\u001b[0mmethod\u001b[0m\u001b[0;34m=\u001b[0m\u001b[0mmethod\u001b[0m\u001b[0;34m,\u001b[0m \u001b[0murl\u001b[0m\u001b[0;34m=\u001b[0m\u001b[0murl\u001b[0m\u001b[0;34m,\u001b[0m \u001b[0;34m**\u001b[0m\u001b[0mkwargs\u001b[0m\u001b[0;34m)\u001b[0m\u001b[0;34m\u001b[0m\u001b[0;34m\u001b[0m\u001b[0m\n\u001b[0m\u001b[1;32m     62\u001b[0m \u001b[0;34m\u001b[0m\u001b[0m\n\u001b[1;32m     63\u001b[0m \u001b[0;34m\u001b[0m\u001b[0m\n",
            "\u001b[0;32m/usr/local/lib/python3.7/dist-packages/requests/sessions.py\u001b[0m in \u001b[0;36mrequest\u001b[0;34m(self, method, url, params, data, headers, cookies, files, auth, timeout, allow_redirects, proxies, hooks, stream, verify, cert, json)\u001b[0m\n\u001b[1;32m    528\u001b[0m         }\n\u001b[1;32m    529\u001b[0m         \u001b[0msend_kwargs\u001b[0m\u001b[0;34m.\u001b[0m\u001b[0mupdate\u001b[0m\u001b[0;34m(\u001b[0m\u001b[0msettings\u001b[0m\u001b[0;34m)\u001b[0m\u001b[0;34m\u001b[0m\u001b[0;34m\u001b[0m\u001b[0m\n\u001b[0;32m--> 530\u001b[0;31m         \u001b[0mresp\u001b[0m \u001b[0;34m=\u001b[0m \u001b[0mself\u001b[0m\u001b[0;34m.\u001b[0m\u001b[0msend\u001b[0m\u001b[0;34m(\u001b[0m\u001b[0mprep\u001b[0m\u001b[0;34m,\u001b[0m \u001b[0;34m**\u001b[0m\u001b[0msend_kwargs\u001b[0m\u001b[0;34m)\u001b[0m\u001b[0;34m\u001b[0m\u001b[0;34m\u001b[0m\u001b[0m\n\u001b[0m\u001b[1;32m    531\u001b[0m \u001b[0;34m\u001b[0m\u001b[0m\n\u001b[1;32m    532\u001b[0m         \u001b[0;32mreturn\u001b[0m \u001b[0mresp\u001b[0m\u001b[0;34m\u001b[0m\u001b[0;34m\u001b[0m\u001b[0m\n",
            "\u001b[0;32m/usr/local/lib/python3.7/dist-packages/requests/sessions.py\u001b[0m in \u001b[0;36msend\u001b[0;34m(self, request, **kwargs)\u001b[0m\n\u001b[1;32m    641\u001b[0m \u001b[0;34m\u001b[0m\u001b[0m\n\u001b[1;32m    642\u001b[0m         \u001b[0;31m# Send the request\u001b[0m\u001b[0;34m\u001b[0m\u001b[0;34m\u001b[0m\u001b[0;34m\u001b[0m\u001b[0m\n\u001b[0;32m--> 643\u001b[0;31m         \u001b[0mr\u001b[0m \u001b[0;34m=\u001b[0m \u001b[0madapter\u001b[0m\u001b[0;34m.\u001b[0m\u001b[0msend\u001b[0m\u001b[0;34m(\u001b[0m\u001b[0mrequest\u001b[0m\u001b[0;34m,\u001b[0m \u001b[0;34m**\u001b[0m\u001b[0mkwargs\u001b[0m\u001b[0;34m)\u001b[0m\u001b[0;34m\u001b[0m\u001b[0;34m\u001b[0m\u001b[0m\n\u001b[0m\u001b[1;32m    644\u001b[0m \u001b[0;34m\u001b[0m\u001b[0m\n\u001b[1;32m    645\u001b[0m         \u001b[0;31m# Total elapsed time of the request (approximately)\u001b[0m\u001b[0;34m\u001b[0m\u001b[0;34m\u001b[0m\u001b[0;34m\u001b[0m\u001b[0m\n",
            "\u001b[0;32m/usr/local/lib/python3.7/dist-packages/requests/adapters.py\u001b[0m in \u001b[0;36msend\u001b[0;34m(self, request, stream, timeout, verify, cert, proxies)\u001b[0m\n\u001b[1;32m    447\u001b[0m                     \u001b[0mdecode_content\u001b[0m\u001b[0;34m=\u001b[0m\u001b[0;32mFalse\u001b[0m\u001b[0;34m,\u001b[0m\u001b[0;34m\u001b[0m\u001b[0;34m\u001b[0m\u001b[0m\n\u001b[1;32m    448\u001b[0m                     \u001b[0mretries\u001b[0m\u001b[0;34m=\u001b[0m\u001b[0mself\u001b[0m\u001b[0;34m.\u001b[0m\u001b[0mmax_retries\u001b[0m\u001b[0;34m,\u001b[0m\u001b[0;34m\u001b[0m\u001b[0;34m\u001b[0m\u001b[0m\n\u001b[0;32m--> 449\u001b[0;31m                     \u001b[0mtimeout\u001b[0m\u001b[0;34m=\u001b[0m\u001b[0mtimeout\u001b[0m\u001b[0;34m\u001b[0m\u001b[0;34m\u001b[0m\u001b[0m\n\u001b[0m\u001b[1;32m    450\u001b[0m                 )\n\u001b[1;32m    451\u001b[0m \u001b[0;34m\u001b[0m\u001b[0m\n",
            "\u001b[0;32m/usr/local/lib/python3.7/dist-packages/urllib3/connectionpool.py\u001b[0m in \u001b[0;36murlopen\u001b[0;34m(self, method, url, body, headers, retries, redirect, assert_same_host, timeout, pool_timeout, release_conn, chunked, body_pos, **response_kw)\u001b[0m\n\u001b[1;32m    598\u001b[0m                                                   \u001b[0mtimeout\u001b[0m\u001b[0;34m=\u001b[0m\u001b[0mtimeout_obj\u001b[0m\u001b[0;34m,\u001b[0m\u001b[0;34m\u001b[0m\u001b[0;34m\u001b[0m\u001b[0m\n\u001b[1;32m    599\u001b[0m                                                   \u001b[0mbody\u001b[0m\u001b[0;34m=\u001b[0m\u001b[0mbody\u001b[0m\u001b[0;34m,\u001b[0m \u001b[0mheaders\u001b[0m\u001b[0;34m=\u001b[0m\u001b[0mheaders\u001b[0m\u001b[0;34m,\u001b[0m\u001b[0;34m\u001b[0m\u001b[0;34m\u001b[0m\u001b[0m\n\u001b[0;32m--> 600\u001b[0;31m                                                   chunked=chunked)\n\u001b[0m\u001b[1;32m    601\u001b[0m \u001b[0;34m\u001b[0m\u001b[0m\n\u001b[1;32m    602\u001b[0m             \u001b[0;31m# If we're going to release the connection in ``finally:``, then\u001b[0m\u001b[0;34m\u001b[0m\u001b[0;34m\u001b[0m\u001b[0;34m\u001b[0m\u001b[0m\n",
            "\u001b[0;32m/usr/local/lib/python3.7/dist-packages/urllib3/connectionpool.py\u001b[0m in \u001b[0;36m_make_request\u001b[0;34m(self, conn, method, url, timeout, chunked, **httplib_request_kw)\u001b[0m\n\u001b[1;32m    352\u001b[0m             \u001b[0mconn\u001b[0m\u001b[0;34m.\u001b[0m\u001b[0mrequest_chunked\u001b[0m\u001b[0;34m(\u001b[0m\u001b[0mmethod\u001b[0m\u001b[0;34m,\u001b[0m \u001b[0murl\u001b[0m\u001b[0;34m,\u001b[0m \u001b[0;34m**\u001b[0m\u001b[0mhttplib_request_kw\u001b[0m\u001b[0;34m)\u001b[0m\u001b[0;34m\u001b[0m\u001b[0;34m\u001b[0m\u001b[0m\n\u001b[1;32m    353\u001b[0m         \u001b[0;32melse\u001b[0m\u001b[0;34m:\u001b[0m\u001b[0;34m\u001b[0m\u001b[0;34m\u001b[0m\u001b[0m\n\u001b[0;32m--> 354\u001b[0;31m             \u001b[0mconn\u001b[0m\u001b[0;34m.\u001b[0m\u001b[0mrequest\u001b[0m\u001b[0;34m(\u001b[0m\u001b[0mmethod\u001b[0m\u001b[0;34m,\u001b[0m \u001b[0murl\u001b[0m\u001b[0;34m,\u001b[0m \u001b[0;34m**\u001b[0m\u001b[0mhttplib_request_kw\u001b[0m\u001b[0;34m)\u001b[0m\u001b[0;34m\u001b[0m\u001b[0;34m\u001b[0m\u001b[0m\n\u001b[0m\u001b[1;32m    355\u001b[0m \u001b[0;34m\u001b[0m\u001b[0m\n\u001b[1;32m    356\u001b[0m         \u001b[0;31m# Reset the timeout for the recv() on the socket\u001b[0m\u001b[0;34m\u001b[0m\u001b[0;34m\u001b[0m\u001b[0;34m\u001b[0m\u001b[0m\n",
            "\u001b[0;32m/usr/lib/python3.7/http/client.py\u001b[0m in \u001b[0;36mrequest\u001b[0;34m(self, method, url, body, headers, encode_chunked)\u001b[0m\n\u001b[1;32m   1279\u001b[0m                 encode_chunked=False):\n\u001b[1;32m   1280\u001b[0m         \u001b[0;34m\"\"\"Send a complete request to the server.\"\"\"\u001b[0m\u001b[0;34m\u001b[0m\u001b[0;34m\u001b[0m\u001b[0m\n\u001b[0;32m-> 1281\u001b[0;31m         \u001b[0mself\u001b[0m\u001b[0;34m.\u001b[0m\u001b[0m_send_request\u001b[0m\u001b[0;34m(\u001b[0m\u001b[0mmethod\u001b[0m\u001b[0;34m,\u001b[0m \u001b[0murl\u001b[0m\u001b[0;34m,\u001b[0m \u001b[0mbody\u001b[0m\u001b[0;34m,\u001b[0m \u001b[0mheaders\u001b[0m\u001b[0;34m,\u001b[0m \u001b[0mencode_chunked\u001b[0m\u001b[0;34m)\u001b[0m\u001b[0;34m\u001b[0m\u001b[0;34m\u001b[0m\u001b[0m\n\u001b[0m\u001b[1;32m   1282\u001b[0m \u001b[0;34m\u001b[0m\u001b[0m\n\u001b[1;32m   1283\u001b[0m     \u001b[0;32mdef\u001b[0m \u001b[0m_send_request\u001b[0m\u001b[0;34m(\u001b[0m\u001b[0mself\u001b[0m\u001b[0;34m,\u001b[0m \u001b[0mmethod\u001b[0m\u001b[0;34m,\u001b[0m \u001b[0murl\u001b[0m\u001b[0;34m,\u001b[0m \u001b[0mbody\u001b[0m\u001b[0;34m,\u001b[0m \u001b[0mheaders\u001b[0m\u001b[0;34m,\u001b[0m \u001b[0mencode_chunked\u001b[0m\u001b[0;34m)\u001b[0m\u001b[0;34m:\u001b[0m\u001b[0;34m\u001b[0m\u001b[0;34m\u001b[0m\u001b[0m\n",
            "\u001b[0;32m/usr/lib/python3.7/http/client.py\u001b[0m in \u001b[0;36m_send_request\u001b[0;34m(self, method, url, body, headers, encode_chunked)\u001b[0m\n\u001b[1;32m   1325\u001b[0m             \u001b[0;31m# default charset of iso-8859-1.\u001b[0m\u001b[0;34m\u001b[0m\u001b[0;34m\u001b[0m\u001b[0;34m\u001b[0m\u001b[0m\n\u001b[1;32m   1326\u001b[0m             \u001b[0mbody\u001b[0m \u001b[0;34m=\u001b[0m \u001b[0m_encode\u001b[0m\u001b[0;34m(\u001b[0m\u001b[0mbody\u001b[0m\u001b[0;34m,\u001b[0m \u001b[0;34m'body'\u001b[0m\u001b[0;34m)\u001b[0m\u001b[0;34m\u001b[0m\u001b[0;34m\u001b[0m\u001b[0m\n\u001b[0;32m-> 1327\u001b[0;31m         \u001b[0mself\u001b[0m\u001b[0;34m.\u001b[0m\u001b[0mendheaders\u001b[0m\u001b[0;34m(\u001b[0m\u001b[0mbody\u001b[0m\u001b[0;34m,\u001b[0m \u001b[0mencode_chunked\u001b[0m\u001b[0;34m=\u001b[0m\u001b[0mencode_chunked\u001b[0m\u001b[0;34m)\u001b[0m\u001b[0;34m\u001b[0m\u001b[0;34m\u001b[0m\u001b[0m\n\u001b[0m\u001b[1;32m   1328\u001b[0m \u001b[0;34m\u001b[0m\u001b[0m\n\u001b[1;32m   1329\u001b[0m     \u001b[0;32mdef\u001b[0m \u001b[0mgetresponse\u001b[0m\u001b[0;34m(\u001b[0m\u001b[0mself\u001b[0m\u001b[0;34m)\u001b[0m\u001b[0;34m:\u001b[0m\u001b[0;34m\u001b[0m\u001b[0;34m\u001b[0m\u001b[0m\n",
            "\u001b[0;32m/usr/lib/python3.7/http/client.py\u001b[0m in \u001b[0;36mendheaders\u001b[0;34m(self, message_body, encode_chunked)\u001b[0m\n\u001b[1;32m   1274\u001b[0m         \u001b[0;32melse\u001b[0m\u001b[0;34m:\u001b[0m\u001b[0;34m\u001b[0m\u001b[0;34m\u001b[0m\u001b[0m\n\u001b[1;32m   1275\u001b[0m             \u001b[0;32mraise\u001b[0m \u001b[0mCannotSendHeader\u001b[0m\u001b[0;34m(\u001b[0m\u001b[0;34m)\u001b[0m\u001b[0;34m\u001b[0m\u001b[0;34m\u001b[0m\u001b[0m\n\u001b[0;32m-> 1276\u001b[0;31m         \u001b[0mself\u001b[0m\u001b[0;34m.\u001b[0m\u001b[0m_send_output\u001b[0m\u001b[0;34m(\u001b[0m\u001b[0mmessage_body\u001b[0m\u001b[0;34m,\u001b[0m \u001b[0mencode_chunked\u001b[0m\u001b[0;34m=\u001b[0m\u001b[0mencode_chunked\u001b[0m\u001b[0;34m)\u001b[0m\u001b[0;34m\u001b[0m\u001b[0;34m\u001b[0m\u001b[0m\n\u001b[0m\u001b[1;32m   1277\u001b[0m \u001b[0;34m\u001b[0m\u001b[0m\n\u001b[1;32m   1278\u001b[0m     def request(self, method, url, body=None, headers={}, *,\n",
            "\u001b[0;32m/usr/lib/python3.7/http/client.py\u001b[0m in \u001b[0;36m_send_output\u001b[0;34m(self, message_body, encode_chunked)\u001b[0m\n\u001b[1;32m   1034\u001b[0m         \u001b[0mmsg\u001b[0m \u001b[0;34m=\u001b[0m \u001b[0;34mb\"\\r\\n\"\u001b[0m\u001b[0;34m.\u001b[0m\u001b[0mjoin\u001b[0m\u001b[0;34m(\u001b[0m\u001b[0mself\u001b[0m\u001b[0;34m.\u001b[0m\u001b[0m_buffer\u001b[0m\u001b[0;34m)\u001b[0m\u001b[0;34m\u001b[0m\u001b[0;34m\u001b[0m\u001b[0m\n\u001b[1;32m   1035\u001b[0m         \u001b[0;32mdel\u001b[0m \u001b[0mself\u001b[0m\u001b[0;34m.\u001b[0m\u001b[0m_buffer\u001b[0m\u001b[0;34m[\u001b[0m\u001b[0;34m:\u001b[0m\u001b[0;34m]\u001b[0m\u001b[0;34m\u001b[0m\u001b[0;34m\u001b[0m\u001b[0m\n\u001b[0;32m-> 1036\u001b[0;31m         \u001b[0mself\u001b[0m\u001b[0;34m.\u001b[0m\u001b[0msend\u001b[0m\u001b[0;34m(\u001b[0m\u001b[0mmsg\u001b[0m\u001b[0;34m)\u001b[0m\u001b[0;34m\u001b[0m\u001b[0;34m\u001b[0m\u001b[0m\n\u001b[0m\u001b[1;32m   1037\u001b[0m \u001b[0;34m\u001b[0m\u001b[0m\n\u001b[1;32m   1038\u001b[0m         \u001b[0;32mif\u001b[0m \u001b[0mmessage_body\u001b[0m \u001b[0;32mis\u001b[0m \u001b[0;32mnot\u001b[0m \u001b[0;32mNone\u001b[0m\u001b[0;34m:\u001b[0m\u001b[0;34m\u001b[0m\u001b[0;34m\u001b[0m\u001b[0m\n",
            "\u001b[0;32m/usr/lib/python3.7/http/client.py\u001b[0m in \u001b[0;36msend\u001b[0;34m(self, data)\u001b[0m\n\u001b[1;32m    974\u001b[0m         \u001b[0;32mif\u001b[0m \u001b[0mself\u001b[0m\u001b[0;34m.\u001b[0m\u001b[0msock\u001b[0m \u001b[0;32mis\u001b[0m \u001b[0;32mNone\u001b[0m\u001b[0;34m:\u001b[0m\u001b[0;34m\u001b[0m\u001b[0;34m\u001b[0m\u001b[0m\n\u001b[1;32m    975\u001b[0m             \u001b[0;32mif\u001b[0m \u001b[0mself\u001b[0m\u001b[0;34m.\u001b[0m\u001b[0mauto_open\u001b[0m\u001b[0;34m:\u001b[0m\u001b[0;34m\u001b[0m\u001b[0;34m\u001b[0m\u001b[0m\n\u001b[0;32m--> 976\u001b[0;31m                 \u001b[0mself\u001b[0m\u001b[0;34m.\u001b[0m\u001b[0mconnect\u001b[0m\u001b[0;34m(\u001b[0m\u001b[0;34m)\u001b[0m\u001b[0;34m\u001b[0m\u001b[0;34m\u001b[0m\u001b[0m\n\u001b[0m\u001b[1;32m    977\u001b[0m             \u001b[0;32melse\u001b[0m\u001b[0;34m:\u001b[0m\u001b[0;34m\u001b[0m\u001b[0;34m\u001b[0m\u001b[0m\n\u001b[1;32m    978\u001b[0m                 \u001b[0;32mraise\u001b[0m \u001b[0mNotConnected\u001b[0m\u001b[0;34m(\u001b[0m\u001b[0;34m)\u001b[0m\u001b[0;34m\u001b[0m\u001b[0;34m\u001b[0m\u001b[0m\n",
            "\u001b[0;32m/usr/local/lib/python3.7/dist-packages/urllib3/connection.py\u001b[0m in \u001b[0;36mconnect\u001b[0;34m(self)\u001b[0m\n\u001b[1;32m    179\u001b[0m \u001b[0;34m\u001b[0m\u001b[0m\n\u001b[1;32m    180\u001b[0m     \u001b[0;32mdef\u001b[0m \u001b[0mconnect\u001b[0m\u001b[0;34m(\u001b[0m\u001b[0mself\u001b[0m\u001b[0;34m)\u001b[0m\u001b[0;34m:\u001b[0m\u001b[0;34m\u001b[0m\u001b[0;34m\u001b[0m\u001b[0m\n\u001b[0;32m--> 181\u001b[0;31m         \u001b[0mconn\u001b[0m \u001b[0;34m=\u001b[0m \u001b[0mself\u001b[0m\u001b[0;34m.\u001b[0m\u001b[0m_new_conn\u001b[0m\u001b[0;34m(\u001b[0m\u001b[0;34m)\u001b[0m\u001b[0;34m\u001b[0m\u001b[0;34m\u001b[0m\u001b[0m\n\u001b[0m\u001b[1;32m    182\u001b[0m         \u001b[0mself\u001b[0m\u001b[0;34m.\u001b[0m\u001b[0m_prepare_conn\u001b[0m\u001b[0;34m(\u001b[0m\u001b[0mconn\u001b[0m\u001b[0;34m)\u001b[0m\u001b[0;34m\u001b[0m\u001b[0;34m\u001b[0m\u001b[0m\n\u001b[1;32m    183\u001b[0m \u001b[0;34m\u001b[0m\u001b[0m\n",
            "\u001b[0;32m/usr/local/lib/python3.7/dist-packages/urllib3/connection.py\u001b[0m in \u001b[0;36m_new_conn\u001b[0;34m(self)\u001b[0m\n\u001b[1;32m    157\u001b[0m         \u001b[0;32mtry\u001b[0m\u001b[0;34m:\u001b[0m\u001b[0;34m\u001b[0m\u001b[0;34m\u001b[0m\u001b[0m\n\u001b[1;32m    158\u001b[0m             conn = connection.create_connection(\n\u001b[0;32m--> 159\u001b[0;31m                 (self._dns_host, self.port), self.timeout, **extra_kw)\n\u001b[0m\u001b[1;32m    160\u001b[0m \u001b[0;34m\u001b[0m\u001b[0m\n\u001b[1;32m    161\u001b[0m         \u001b[0;32mexcept\u001b[0m \u001b[0mSocketTimeout\u001b[0m\u001b[0;34m:\u001b[0m\u001b[0;34m\u001b[0m\u001b[0;34m\u001b[0m\u001b[0m\n",
            "\u001b[0;32m/usr/local/lib/python3.7/dist-packages/urllib3/util/connection.py\u001b[0m in \u001b[0;36mcreate_connection\u001b[0;34m(address, timeout, source_address, socket_options)\u001b[0m\n\u001b[1;32m     68\u001b[0m             \u001b[0;32mif\u001b[0m \u001b[0msource_address\u001b[0m\u001b[0;34m:\u001b[0m\u001b[0;34m\u001b[0m\u001b[0;34m\u001b[0m\u001b[0m\n\u001b[1;32m     69\u001b[0m                 \u001b[0msock\u001b[0m\u001b[0;34m.\u001b[0m\u001b[0mbind\u001b[0m\u001b[0;34m(\u001b[0m\u001b[0msource_address\u001b[0m\u001b[0;34m)\u001b[0m\u001b[0;34m\u001b[0m\u001b[0;34m\u001b[0m\u001b[0m\n\u001b[0;32m---> 70\u001b[0;31m             \u001b[0msock\u001b[0m\u001b[0;34m.\u001b[0m\u001b[0mconnect\u001b[0m\u001b[0;34m(\u001b[0m\u001b[0msa\u001b[0m\u001b[0;34m)\u001b[0m\u001b[0;34m\u001b[0m\u001b[0;34m\u001b[0m\u001b[0m\n\u001b[0m\u001b[1;32m     71\u001b[0m             \u001b[0;32mreturn\u001b[0m \u001b[0msock\u001b[0m\u001b[0;34m\u001b[0m\u001b[0;34m\u001b[0m\u001b[0m\n\u001b[1;32m     72\u001b[0m \u001b[0;34m\u001b[0m\u001b[0m\n",
            "\u001b[0;31mKeyboardInterrupt\u001b[0m: "
          ]
        }
      ]
    },
    {
      "cell_type": "code",
      "metadata": {
        "id": "3hIg-39zNX-8"
      },
      "source": [],
      "execution_count": null,
      "outputs": []
    }
  ]
}