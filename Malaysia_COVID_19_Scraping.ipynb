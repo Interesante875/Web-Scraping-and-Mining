{
  "cells": [
    {
      "cell_type": "code",
      "source": [
        "!pip install spacy"
      ],
      "metadata": {
        "id": "_v5PTQBV0Tvl"
      },
      "execution_count": null,
      "outputs": []
    },
    {
      "cell_type": "code",
      "source": [
        "import bs4\n",
        "import requests\n",
        "import pandas as pd\n",
        "import numpy as np\n",
        "import lxml\n",
        "import string\n",
        "import collections\n",
        "import dataclasses\n",
        "import datetime\n",
        "import email.utils\n",
        "import enum\n",
        "import itertools\n",
        "import json\n",
        "import random\n",
        "import logging\n",
        "import re\n",
        "import string\n",
        "import time\n",
        "import typing\n",
        "import threading\n",
        "from bs4 import BeautifulSoup\n",
        "import os\n",
        "from pathlib import Path\n",
        "import spacy\n",
        "from spacy import displacy\n",
        "import en_core_web_sm\n",
        "import pytz\n",
        "from datetime import datetime\n",
        "from datetime import timedelta"
      ],
      "metadata": {
        "id": "876cgKdPrxGS"
      },
      "execution_count": null,
      "outputs": []
    },
    {
      "cell_type": "code",
      "source": [
        "path = r'/content/Science/'\n",
        "\n",
        "isExist = os.path.exists(path)\n",
        "\n",
        "if not isExist:\n",
        "    os.makedirs(path)\n",
        "    print(\"The new directory is created!\")\n",
        "\n",
        "info = []\n",
        "chunk_size = 3000\n",
        "\n",
        "headers = {\n",
        "     'User-Agent': f'Mozilla/5.0 (Windows NT 10.0; Win64; x64) AppleWebKit/537.36 (KHTML, like Gecko) Chrome/79.0.3945.{random.randint(0, 9999)} Safari/537.{random.randint(0, 99)}'\n",
        "}\n",
        "domain = \"https://covid-19.moh.gov.my\"\n",
        "source = requests.get(\"https://covid-19.moh.gov.my/kajian-dan-penyelidikan/mahtas-covid-19-rapid-evidence-updates\", headers = headers)\n",
        "soup = BeautifulSoup(source.text, 'lxml')\n",
        "tabs = soup.find('div', class_='tabs')\n",
        "doclist = tabs.findAll('a')\n",
        "for doc in doclist:\n",
        "    meta = {\n",
        "        'NameOfFile': doc.text.replace('/','_'),\n",
        "        'URL':domain + doc.get('href')\n",
        "    }\n",
        "    print(meta['NameOfFile'], meta['URL'] )\n",
        "    file_r = requests.get(meta['URL'], headers = headers, stream=True)\n",
        "\n",
        "    with open(f'/content/Science/{meta[\"NameOfFile\"]}.pdf', 'wb') as fd:\n",
        "        for chunk in file_r.iter_content(chunk_size):\n",
        "            fd.write(chunk)\n",
        "\n",
        "    info.append(meta)\n",
        "\n",
        "df = pd.DataFrame(info)\n",
        "df.to_csv(\"/content/Science/Summary_science.csv\")\n",
        "\n",
        "\"\"\"\n",
        "    with open(f'/content/Science/{meta['NameOfFile']}', 'wb') as fd:\n",
        "        for chunk in file_r.iter_content(chunk_size):\n",
        "            fd.write(chunk)\"\"\"\n"
      ],
      "metadata": {
        "id": "eLW2-l2mbjgW"
      },
      "execution_count": null,
      "outputs": []
    },
    {
      "cell_type": "code",
      "source": [
        "!zip -r /content/Science.zip /content/Science\n",
        "from google.colab import files\n",
        "files.download(\"/content/file.zip\")"
      ],
      "metadata": {
        "id": "7sWSQLqjddOv"
      },
      "execution_count": null,
      "outputs": []
    },
    {
      "cell_type": "code",
      "source": [
        "\n",
        "str_path = \"my_path\"\n",
        "path = Path(str_path)"
      ],
      "metadata": {
        "id": "F7nM1ZrUiPBE"
      },
      "execution_count": null,
      "outputs": []
    },
    {
      "cell_type": "code",
      "source": [
        "\n",
        "\n",
        "b = datetime.utcnow() + timedelta(days=0, seconds=0, microseconds=0, milliseconds=0, minutes=0, hours=8, weeks=0)\n",
        "a = datetime.utcnow() + timedelta(days=0, seconds=0, microseconds=0, milliseconds=0, minutes=0, hours=0, weeks=0)\n",
        "print(b-a)"
      ],
      "metadata": {
        "colab": {
          "base_uri": "https://localhost:8080/"
        },
        "id": "MxCGTpeFgsP1",
        "outputId": "6572fbda-8281-4c1b-8788-cf78974eb461"
      },
      "execution_count": null,
      "outputs": [
        {
          "output_type": "stream",
          "name": "stdout",
          "text": [
            "7:59:59.999937\n"
          ]
        }
      ]
    },
    {
      "cell_type": "code",
      "source": [
        "def find_str(s, char):\n",
        "    index = 0\n",
        "\n",
        "    if char in s:\n",
        "        c = char[0]\n",
        "        for ch in s:\n",
        "            if ch == c:\n",
        "                if s[index:index+len(char)] == char:\n",
        "                    return (index, index + len(char) - 1)\n",
        "\n",
        "            index += 1\n",
        "\n",
        "    return -1\n",
        "\n",
        "print(find_str(\"Happy birthday\", \"py\"))\n",
        "print(find_str(\"Happy birthday\", \"rth\"))\n",
        "print(find_str(\"Happy birthday\", \"rh\"))\n",
        ""
      ],
      "metadata": {
        "colab": {
          "base_uri": "https://localhost:8080/"
        },
        "id": "A8ShNH2ihFH1",
        "outputId": "4a66a057-7585-4fc9-ab92-e8eb719a29aa"
      },
      "execution_count": null,
      "outputs": [
        {
          "output_type": "stream",
          "name": "stdout",
          "text": [
            "(3, 4)\n",
            "(8, 10)\n",
            "-1\n"
          ]
        }
      ]
    },
    {
      "cell_type": "code",
      "source": [
        "https://www.search.gov.hk/result?output=xml_no_dtd&client=depts&web=this&ui_lang=en&gp1=&gp0=gia_home&site=gia_home&txtonly=0&tpl_id=stdsearch&proxystylesheet=ogcio_home_adv_frontend&oe=UTF-8&ie=UTF-8&sort=date%253AD%253AL%253Ad1&as_q=COVID&exact_q=&any_q=&none_q=&doc_type=html&wb_v=2&wb_dept_list=gia_home&r_lang=&date_v=%23-1&date_last=%2330&s_date_year=&s_date_month=&s_date_day=&e_date_year=&e_date_month=&e_date_day=&num=10&subbtn2=Search\n",
        "https://www.search.gov.hk/result?ui_lang=en&proxystylesheet=ogcio_home_adv_frontend&output=xml_no_dtd&ui_charset=utf-8&a_submit=false&query=COVID&ie=UTF-8&oe=UTF-8&site=gia_home&tpl_id=stdsearch&gp=0&gp0=gia_home&gp1=&p_size=10&num=10&doc_type=html&as_filetype=&as_q=COVID&as_epq=&is_epq=&as_oq=&is_oq=&as_eq=&is_eq=&r_lang=&lr=&web=this&sw=1&txtonly=0&rwd=0&date_v=%23-1&date_last=%2330&s_date_year=2021&s_date_month=01&s_date_day=01&e_date_year=2021&e_date_month=12&e_date_day=22&last_mod=&sort=date%253AD%253AL%253Ad1&page=2\n",
        "https://www.search.gov.hk/result?ui_lang=en&proxystylesheet=ogcio_home_adv_frontend&output=xml_no_dtd&ui_charset=utf-8&a_submit=false&query=COVID&ie=UTF-8&oe=UTF-8&site=gia_home&tpl_id=stdsearch&gp=0&gp0=gia_home&gp1=&p_size=10&num=10&doc_type=html&as_filetype=&as_q=COVID&as_epq=&is_epq=&as_oq=&is_oq=&as_eq=&is_eq=&r_lang=&lr=&web=this&sw=1&txtonly=0&rwd=0&date_v=%23-1&date_last=%2330&s_date_year=2021&s_date_month=01&s_date_day=01&e_date_year=2021&e_date_month=12&e_date_day=22&last_mod=&sort=date%253AD%253AL%253Ad1&page=3"
      ],
      "metadata": {
        "id": "z2Yhmgn-xZ2M"
      },
      "execution_count": null,
      "outputs": []
    },
    {
      "cell_type": "code",
      "source": [
        "source = requests.get(\"https://www.search.gov.hk/result?ui_lang=en&proxystylesheet=ogcio_home_adv_frontend&output=xml_no_dtd&ui_charset=utf-8&a_submit=false&query=hi&ie=UTF-8&oe=UTF-8&site=gia_home&tpl_id=stdsearch&gp=0&gp0=gia_home&gp1=&p_size=10&num=10&doc_type=all&as_filetype=&as_q=&as_epq=&is_epq=&as_oq=&is_oq=&as_eq=&is_eq=&r_lang=&lr=&web=this&sw=1&txtonly=0&rwd=0&date_v=%23-1&date_last=%23-1&s_date_year=2021&s_date_month=01&s_date_day=01&e_date_year=2021&e_date_month=12&e_date_day=22&last_mod=&sort=date%253AD%253AL%253Ad1&page=3\")\n",
        "soup = BeautifulSoup(source.text, 'lxml')\n",
        "pagi = soup.find('a', class_='paginationTrack')\n",
        "print(pagi is not None)"
      ],
      "metadata": {
        "id": "UE-d8o39yHYW"
      },
      "execution_count": null,
      "outputs": []
    },
    {
      "cell_type": "code",
      "source": [
        "nlp = spacy.load('en_core_web_sm')"
      ],
      "metadata": {
        "id": "x-lXOJlHy6uL"
      },
      "execution_count": null,
      "outputs": []
    },
    {
      "cell_type": "code",
      "source": [
        "def get_entities(text):\n",
        "    \"\"\"\n",
        "    This function takes a text. Uses the Spacy model.\n",
        "    The model will tokenize, POS-tag and recognize the entities named in the text.\n",
        "    Then, the entities are retrieved and saved in a list.\n",
        "    It outputs a list with the named entities. It also outputs the result of applying\n",
        "    the model to the text.\n",
        "    \"\"\"\n",
        "    # Apply the model\n",
        "    doc = nlp(text)\n",
        "    # Append all entities recognized\n",
        "    entities = [X.text for X in doc.ents]\n",
        "    tags = [X.label_ for X in doc.ents]\n",
        "    # Return the list of entities and the result of the model.\n",
        "    return entities, tags"
      ],
      "metadata": {
        "id": "DBEABoWz0gWi"
      },
      "execution_count": null,
      "outputs": []
    },
    {
      "cell_type": "code",
      "source": [
        "spacy_tags, sentences = get_entities(text)\n",
        "both = zip(spacy_tags, sentences)\n",
        "# print\n",
        "print(set([X for X, Y in both if Y == 'ORG']))\n"
      ],
      "metadata": {
        "id": "gMgJNrGi09KL"
      },
      "execution_count": null,
      "outputs": []
    },
    {
      "cell_type": "code",
      "source": [
        "sentences_full = [x for x in sentences.sents]\n",
        "sentences_full = \"\".join(map(str, sentences_full))\n",
        "\n",
        "displacy.render(nlp(str(sentences_full)), jupyter=True, style='ent')"
      ],
      "metadata": {
        "id": "ISGo-nvM1MAK"
      },
      "execution_count": null,
      "outputs": []
    },
    {
      "cell_type": "code",
      "source": [
        "\n",
        "class HongKongInfoGovScraper:\n",
        "    \"\"\"\n",
        "    This is targeting info from Hong Kong Gov\n",
        "\n",
        "    \"\"\"\n",
        "    def __init__(self, base_url, file_format, num_workers, type_to_scrape, file_path, file_name):\n",
        "        self.base_url = base_url\n",
        "        self.file_format = file_format ## PDF or HTML\n",
        "        self.num_workers = num_workers\n",
        "        self.information = []\n",
        "        self.user_agent = None\n",
        "        self.save_path = Path(file_path)\n",
        "        self.file_name = f'{file_name}.csv'\n",
        "        self.type_to_scrape = type_to_scrape\n",
        "        self.start_time = None\n",
        "        self.end_time = None\n",
        "        self.time_delta = None\n",
        "        self.NLP_model = spacy.load('en_core_web_sm')\n",
        "        self.listOfOrg = []\n",
        "\n",
        "    def createDir(self, save_path):\n",
        "        isExist = os.path.exists(save_path)\n",
        "\n",
        "        if not isExist:\n",
        "            os.makedirs(save_path)\n",
        "            print(\"The new directory is created!\")\n",
        "\n",
        "    def genSleepTime(self):\n",
        "        time.sleep(random.uniform(0,0.5))\n",
        "\n",
        "    def setUserAgent(self):\n",
        "        self.user_agent = f'Mozilla/5.0 (Windows NT 10.0; Win64; x64) AppleWebKit/537.36 (KHTML, like Gecko) Chrome/79.0.3945.{random.randint(0, 9999)} Safari/537.{random.randint(0, 99)}'\n",
        "        return self.user_agent\n",
        "\n",
        "    def getTimeNow(self):\n",
        "        return datetime.utcnow() + timedelta(days=0, seconds=0, microseconds=0, milliseconds=0, minutes=0, hours=8, weeks=0)\n",
        "\n",
        "    def setStartTime(self, timeObj):\n",
        "        self.start_time = timeObj\n",
        "\n",
        "    def setEndTime(self, timeObj):\n",
        "        self.end_time = timeObj\n",
        "\n",
        "    def timeDifference(self):\n",
        "        self.time_delta = self.end_time - self.start_time\n",
        "        return self.time_delta\n",
        "\n",
        "    def findSubStr(self, s, char):\n",
        "        index = 0\n",
        "        if char in s:\n",
        "            c = char[0]\n",
        "            for ch in s:\n",
        "                if ch == c:\n",
        "                    if s[index:index+len(char)] == char:\n",
        "                        return (index, index + len(char) - 1)\n",
        "\n",
        "                index += 1\n",
        "        return -1\n",
        "\n",
        "    def pagination(self, url, curr_page, substr):\n",
        "        _ , end = self.findSubStr(url, substr)\n",
        "        temp = list(url)\n",
        "        temp[end + 2:] = f'{curr_page + 1}'\n",
        "        url = \"\".join(temp)\n",
        "        return url, curr_page + 1\n",
        "\n",
        "    def requestModule(self, url, stream):\n",
        "        count = 0\n",
        "        while True:\n",
        "            headers = {\n",
        "                'User-Agent': self.setUserAgent()\n",
        "            }\n",
        "\n",
        "            ####print(url, stream)\n",
        "\n",
        "            source = requests.get(url, headers = headers, stream = stream)\n",
        "            if str(source.status_code) == '200':\n",
        "                return source\n",
        "            else:\n",
        "                count += 1\n",
        "            if count > 10:\n",
        "                print(\"Failed to obtain website!\")\n",
        "                return None\n",
        "\n",
        "    def parsingSource(self, source, type, file_format, file_name, last_page):\n",
        "        if source is None:\n",
        "            pass\n",
        "\n",
        "        if type == 'list_of_website':\n",
        "            page_titles = []\n",
        "            page_links = []\n",
        "            page_dates = []\n",
        "\n",
        "            soup = BeautifulSoup(source.text, 'lxml')\n",
        "            pagi = soup.find_all('div', class_='item')\n",
        "            next = int(soup.find('span', class_='current').text)\n",
        "            for p in pagi[1:]:\n",
        "                if p.div is not None:\n",
        "                    page_titles.append(\\\n",
        "                                       str(p.div.h3).strip().replace('\\n',\"\").replace(\"<h3>\",\"\").replace(\"</h3>\",\"\").replace(\"<strong>\",\"\").replace(\"</strong>\",\"\"))\n",
        "                    page_links.append(p.div.a.get('href'))\n",
        "                    page_dates.append(p.find_all('span',class_='misc')[1].text)\n",
        "\n",
        "            return {\n",
        "                'info': zip(page_titles, page_links, page_dates),\n",
        "                'next': next is not last_page\n",
        "            }\n",
        "\n",
        "        elif type == 'content':\n",
        "            if file_format == 'PDF':\n",
        "                 with open(f'{self.save_path}{file_name}.pdf', 'wb') as fd:\n",
        "                    for chunk in file_r.iter_content(chunk_size):\n",
        "                        fd.write(chunk)\n",
        "            elif file_format == 'HTML':\n",
        "                soup = BeautifulSoup(source.text, 'lxml')\n",
        "                press_release = soup.find('span', id='pressrelease')\n",
        "                text = press_release.text.strip()\n",
        "\n",
        "                return text\n",
        "\n",
        "    def getOrgEntities(self, text):\n",
        "        doc = self.NLP_model(text)\n",
        "        entities = [X.text for X in doc.ents]\n",
        "        tags = [X.label_ for X in doc.ents]\n",
        "        entity_tag = zip(entities, tags)\n",
        "        organizations = [X for X, Y in entity_tag if Y == 'ORG']\n",
        "        return organizations\n",
        "\n",
        "    def concatOrg(self, organizations):\n",
        "        self.listOfOrg = [*self.listOfOrg, *organizations]\n",
        "        return self.listOfOrg\n",
        "\n",
        "    def scrapePage(self, page_link, page_title, type_to_scrape):\n",
        "        if random.uniform(0, 1) > 0.8:\n",
        "            self.genSleepTime()\n",
        "        type = 'content'\n",
        "        if type_to_scrape == 'PDF':\n",
        "            stream = True\n",
        "            chunk_size = 3000\n",
        "            page_source = self.requestModule(page_link, stream)\n",
        "            with open(f'{self.save_path}{page_title}.pdf', 'wb') as fd:\n",
        "                for chunk in page_source.iter_content(chunk_size):\n",
        "                    fd.write(chunk)\n",
        "            timeNow = self.getTimeNow()\n",
        "        else:\n",
        "            stream = False\n",
        "            page_source = self.requestModule(page_link, stream)\n",
        "            text = self.parsingSource(page_source, type, type_to_scrape, 'NAN', 0)\n",
        "            timeNow = self.getTimeNow()\n",
        "            organizations = self.getOrgEntities(text)\n",
        "            self.concatOrg(organizations)\n",
        "\n",
        "    def multiworker(self, meta, type_to_scrape, num_workers):\n",
        "        page_titles, page_links, page_dates = zip(*meta['info'])\n",
        "        threads = []\n",
        "        p = 0\n",
        "        while True:\n",
        "            for i in range(num_workers):\n",
        "                t = threading.Thread(target=self.scrapePage, args=(page_links[p], page_titles[p], type_to_scrape))\n",
        "                p += 1\n",
        "                threads.append(t)\n",
        "                t.start()\n",
        "                if p >= len(page_links):\n",
        "                    break\n",
        "\n",
        "            for t in threads:\n",
        "                t.join()\n",
        "            if p < len(page_links) - 1:\n",
        "                threads = []\n",
        "            else:\n",
        "                break\n",
        "\n",
        "        for i in range(len(page_titles)):\n",
        "            self.information.append({\n",
        "                'page_title': page_titles[i],\n",
        "                'page_date': page_dates[i],\n",
        "                'page_link': page_links[i],\n",
        "                'extracted_time': self.getTimeNow()\n",
        "            })\n",
        "\n",
        "    def iterPage(self, base_url, type_to_scrape, num_workers):\n",
        "        curr_page = 1\n",
        "        last_page = 0\n",
        "        while True:\n",
        "            source = self.requestModule(base_url, False)\n",
        "            meta = self.parsingSource(source, 'list_of_website', type_to_scrape, 'NAN', last_page)\n",
        "\n",
        "            self.multiworker(meta, type_to_scrape, num_workers)\n",
        "\n",
        "            if meta['next'] is False:\n",
        "                break\n",
        "            else:\n",
        "                last_page = curr_page\n",
        "                base_url, curr_page = self.pagination(base_url, curr_page, 'page')\n",
        "                self.genSleepTime()\n",
        "                print(f'Currently working on Page {curr_page}')\n",
        "\n",
        "    def saveData(self, save_path, file_name, listOfOrg):\n",
        "        df = pd.DataFrame(self.information)\n",
        "        df.to_csv(f'{save_path}/{file_name}')\n",
        "        self.listOfOrg = set(listOfOrg)\n",
        "        print(self.listOfOrg)\n",
        "\n",
        "        with open(f'{save_path}/List_of_organizations.txt', 'w') as fd:\n",
        "            for i, value in enumerate(self.listOfOrg):\n",
        "                fd.write(value)\n",
        "                fd.write(\"\\n\")\n",
        "\n",
        "    def run(self):\n",
        "        starttimeObj = self.getTimeNow()\n",
        "        self.setStartTime(starttimeObj)\n",
        "        self.createDir(self.save_path)\n",
        "        self.iterPage(self.base_url, self.type_to_scrape, self.num_workers)\n",
        "        self.saveData(self.save_path, self.file_name, self.listOfOrg)\n",
        "        endtimeObj = self.getTimeNow()\n",
        "        self.setEndTime(endtimeObj)\n",
        "        print(self.timeDifference())\n",
        "\n",
        "\n",
        "\n",
        "\n"
      ],
      "metadata": {
        "id": "PIPb0fsJfUh3"
      },
      "execution_count": null,
      "outputs": []
    },
    {
      "cell_type": "code",
      "source": [
        "base_url = 'https://www.search.gov.hk/result?ui_lang=en&proxystylesheet=ogcio_home_adv_frontend&output=xml_no_dtd&ui_charset=utf-8&a_submit=false&query=covid-19&ie=UTF-8&oe=UTF-8&site=gia_home&tpl_id=stdsearch&gp=0&gp0=gia_home&gp1=&p_size=10&num=10&doc_type=html&as_filetype=&as_q=covid-19&as_epq=&is_epq=&as_oq=&is_oq=&as_eq=&is_eq=&r_lang=&lr=&web=this&sw=1&txtonly=0&rwd=0&date_v=%23-1&date_last=%2330&s_date_year=2021&s_date_month=01&s_date_day=01&e_date_year=2021&e_date_month=12&e_date_day=23&last_mod=&sort=date%253AD%253AL%253Ad1&page=1'\n",
        "\n",
        "file_format = 'HTML'\n",
        "num_workers = 5\n",
        "type_to_scrape = 'HTML'\n",
        "file_path = '/content/HK-COVID-HTML/'\n",
        "file_name = 'log'\n",
        "\n",
        "crawler = HongKongInfoGovScraper(base_url, file_format, num_workers, type_to_scrape, file_path, file_name)\n",
        "crawler.run()"
      ],
      "metadata": {
        "colab": {
          "base_uri": "https://localhost:8080/"
        },
        "id": "BMeJJPr0ZYbX",
        "outputId": "a8cb1004-cb38-462c-bf9f-c3d6a74f48d9"
      },
      "execution_count": null,
      "outputs": [
        {
          "output_type": "stream",
          "name": "stdout",
          "text": [
            "The new directory is created!\n",
            "Currently working on Page 2\n",
            "Currently working on Page 3\n",
            "Currently working on Page 4\n",
            "Currently working on Page 5\n",
            "Currently working on Page 6\n",
            "Currently working on Page 7\n",
            "Currently working on Page 8\n",
            "Currently working on Page 9\n",
            "Currently working on Page 10\n",
            "Currently working on Page 11\n",
            "Currently working on Page 12\n",
            "Currently working on Page 13\n",
            "Currently working on Page 14\n",
            "Currently working on Page 15\n",
            "Currently working on Page 16\n",
            "Currently working on Page 17\n",
            "Currently working on Page 18\n",
            "Currently working on Page 19\n",
            "Currently working on Page 20\n",
            "Currently working on Page 21\n",
            "Currently working on Page 22\n",
            "Currently working on Page 23\n",
            "Currently working on Page 24\n",
            "Currently working on Page 25\n",
            "Currently working on Page 26\n",
            "Currently working on Page 27\n",
            "Currently working on Page 28\n",
            "Currently working on Page 29\n",
            "Currently working on Page 30\n",
            "Currently working on Page 31\n",
            "Currently working on Page 32\n",
            "Currently working on Page 33\n",
            "Currently working on Page 34\n",
            "Currently working on Page 35\n",
            "Currently working on Page 36\n",
            "Currently working on Page 37\n",
            "Currently working on Page 38\n",
            "Currently working on Page 39\n",
            "Currently working on Page 40\n",
            "Currently working on Page 41\n",
            "Currently working on Page 42\n",
            "Currently working on Page 43\n",
            "Currently working on Page 44\n",
            "Currently working on Page 45\n",
            "Currently working on Page 46\n",
            "Currently working on Page 47\n",
            "Currently working on Page 48\n",
            "Currently working on Page 49\n",
            "Currently working on Page 50\n",
            "Currently working on Page 51\n",
            "Currently working on Page 52\n",
            "Currently working on Page 53\n",
            "Currently working on Page 54\n",
            "Currently working on Page 55\n",
            "Currently working on Page 56\n",
            "Currently working on Page 57\n",
            "Currently working on Page 58\n",
            "Currently working on Page 59\n",
            "Currently working on Page 60\n",
            "Currently working on Page 61\n",
            "Currently working on Page 62\n",
            "Currently working on Page 63\n",
            "Currently working on Page 64\n",
            "Currently working on Page 65\n",
            "Currently working on Page 66\n",
            "Currently working on Page 67\n",
            "Currently working on Page 68\n",
            "Currently working on Page 69\n",
            "Currently working on Page 70\n",
            "Currently working on Page 71\n",
            "Currently working on Page 72\n",
            "Currently working on Page 73\n",
            "Currently working on Page 74\n",
            "Currently working on Page 75\n",
            "Currently working on Page 76\n",
            "Currently working on Page 77\n",
            "Currently working on Page 78\n",
            "Currently working on Page 79\n",
            "Currently working on Page 80\n",
            "Currently working on Page 81\n",
            "Currently working on Page 82\n",
            "Currently working on Page 83\n",
            "Currently working on Page 84\n",
            "Currently working on Page 85\n",
            "Currently working on Page 86\n",
            "Currently working on Page 87\n",
            "Currently working on Page 88\n",
            "Currently working on Page 89\n",
            "Currently working on Page 90\n",
            "Currently working on Page 91\n",
            "Currently working on Page 92\n",
            "Currently working on Page 93\n",
            "Currently working on Page 94\n",
            "Currently working on Page 95\n",
            "Currently working on Page 96\n",
            "Currently working on Page 97\n",
            "Currently working on Page 98\n",
            "Currently working on Page 99\n",
            "Currently working on Page 100\n",
            "Currently working on Page 101\n",
            "{'â\\x97\\x8f Construction', 'Fosun/BioNTech Comirnaty', 'Block T', 'the Islands District Office', 'Peak One', 'the Joint Scientific Committees', 'Vaccination Station\\r\\n', '110th', 'Police', 'CSD', 'Yuen Long Branch Office', 'The Department of Health', 'Wan Chai Division', 'ITC', 'the University Health Service', 'The Lai Chi Kok Reception Centre', 'Discharged\\n2079', 'SKH Holy Carpenter Church Community Centre', 'NTSAMC', 'the Civil Service', 'the Medical Laboratory Technologists Board', 'Clinics', 'the Hong Kong Port', 'the Prevention and Control of Disease', 'Red Rainstorm Warning Signal', 'ã\\x80\\x82\\r\\n\\xa0\\r\\nã\\x80\\x80ã\\x80\\x80ç\\x8f¾æ\\x99\\x82ï¼\\x8cå', 'AWE', 'the Housing Authority', 'the \"Health & Quarantine Information Declaration', 'the Collaborative Research Fund', 'The Social Welfare Department', 'The Environmental Protection Department', 'Diamond Princess', 'the Food and Environmental Hygiene Department', 'Tseung Kwan', \"Queen Elizabeth School Old Students' Association Secondary School\", 'Online Interactive Sports Training Programmes', 'Sun Yat Sen Memorial Park Sports Centre', 'Tai O Community Centre', 'Severe Acute Respiratory Syndrome', \"the Taoist Ching Chung Primary School's\", 'Ruttonjee Hospital', \"Queen Elizabeth School Old Students' Association Tong Kwok Wah Secondary School\", 'Handsome Court', 'HAB', 'Coronation', 'Yan Chai Hospital Fong Yock Yee Neighbourhood Elderly Centre', '108th', 'the Intensive Care Unit', 'Clerical Grade', 'Report', 'the Civil Service Bureau', 'WhatsApp', 'Chin Hing House', 'Hongkong Post\\xa0', 'the Hong Kong Government', 'TATA SIA Airlines', 'House', 'Onset', 'Optical Character Recognition', 'Sunrise Diagnostic Centre Limited', 'Secretariat', 'the Scientific Committee on Infection Control', 'QEH Accident and Emergency Department', 'â\\x80\\x8bThe', 'The Advisory Panel on COVID-19 Vaccines (Advisory Panel', 'ç´¢å\\x8f\\x96æ¨£æ\\x9c¬æ\\x94¶é\\x9b\\x86å\\x8c\\x85ï¼\\x8cä»¥ä¾¿å\\x85¶ä»\\x96æ\\x9c\\x89é\\x9c\\x80è', 'HA', 'King Fu House', 'the Directorate General for Trade of the European Commission', 'A&E', 'Hongkong Post', 'the Construction Industry Council', '153rd', 'Prenetics Limited', 'the Red Rainstorm Warning Signal', 'the \"LegCo Calendar', 'Pok Oi Hospital', 'PHLSB', 'Health Commission of', 'the Customs Marine Base', 'Discharged\\n4915', 'Clinic', 'Lung Poon Court', 'Omicron', 'the Taishan Charitable Association', 'Community Vaccination Centre\\n\\r\\n\\t\\t\\t\\xa0\\r\\n\\r\\n\\t\\t\\t\\nVaccinated', 'the Queen Mary Hospital', 'Wan Chai Delivery Office', 'Advisory Panel', 'Tsuen King Circuit Sports Centre', 'www.info.gov.hk/gia/general/202002/04/P2020020400547.htm', 'the Temporary Specimen Collection Centre', 'Acute Stroke Unit', 'the Medical Conscience', 'Carelink Bioscience Limited', 'West Kowloon Branch Office', 'the United Christian Hospital', 'app', 'The Electrical and Mechanical Services Department', '131st', 'Rural Committees', 'Discharged\\n2172', '3893', 'the Expert Committee on Clinical Events Assessment', 'Environmental Protection Inspector', 'Taxi/PLB', \"Queen Elizabeth School Old Students' Association Branch Primary School\", 'Swiss International Air Lines', 'the World Organisation for Animal Health', 'Mobile Vaccination Station', 'YCHB', 'Council', 'the UK Government', 'the Hong Kong Academy of Finance', 'Annex', 'the General Public', 'the World Health Organization COVAX Facility', 'Vaccination Programme', 'the CVC at Yau Oi Sports Centre', 'DQH', 'the Community Treatment Facility', 'Outbreaks', 'the Disciplined Services Quarters', 'the University of Hong Kong', 'Discharged\\n5118, 5122', 'Cathay Pacific Airways Limited', 'Tsuen Wan', 'Android', \"the Department of Health's\", 'ã\\x80\\x80ã\\x80\\x80å°±é\\x99³æ\\x81\\x92é\\x91\\x8cè\\xad', 'Block S', 'Community Testing Programme', 'the Health Commission of Guangdong Province', '156th', 'The Expert Committee', 'UGC', 'Alerts for Further Monitoring', 'a Certificate of Compliance', 'â\\x80\\x8bâ\\x80\\x8bThe CHP', 'Hong Kong Tramways Limited', 'the Joint Scientific Committees (Scientific Committee', 'the Tai O Rural Committee', 'the International Society for Infectious Diseases', 'Food and Health', 'SuperTerminal 1 of HKIA', 'the LegCo Secretariat', 'Variants of Interest', 'Centre for Health Protection', 'The spokesperson for Hospital Authority', 'The\\xa0Hospital Authority', 'Port Health Division', 'LD', 'the Port Health Division', 'N.A.', 'Tsz Man Estate', 'the Office of the United Nations High Commissioner for Refugees', 'WTO', 'Discharged\\n2048, 3312', 'Yau Mei Court', 'CUHK Medical Centre', 'the \"Enhanced Laboratory Surveillance Programme', 'Conveyances and Travellers)', 'Bridal Tea House Hotel', 'Hing Tin Estate', 'Social Welfare', 'Community Vaccination\\r\\n\\t\\t\\tCentres', 'the Vaccine Alliance', 'the District Health Centres', 'the Estate Management Office', 'number:11923', 'Thematic Website', 'N501Y mutant', 'QEH', 'the Kwun Tong Licensing Office', 'the LegCo Website', 'Central', 'Commercial Crime Bureau', 'ã\\x80\\x80ã\\x80\\x80The Hospital Authority', 'Choi', 'The Tsuen Wan Depot', 'The Food and Environmental Hygiene Department', 'EDB', 'THB', 'TSWH', 'Discharged\\n5104,', 'Foreign Places Regulation', 'Pioneer Centre', '102nd', 'the \"Health Advice to Schools for the Prevention of Coronavirus Disease', 'Copenhagen', 'the Centre for Health Protection', 'the Black Rainstorm Warning', 'Ends/Monday, October 25, 2021', 'the Central Command Centre', 'RH', 'the Office of the Government Chief Information Officer', 'MTRCL', 'the Targeted Group Testing Scheme', 'the Innovation and Technology Bureau', 'the Public Health Laboratory Centre', 'IJID Regions', '(Expert Committee', 'the Elderly Commission', 'the External Quality Assessment Programme of', 'Health Bureau of Macao', 'Animal Management Centres', 'Associate', 'the Compulsory Quarantine of Persons Arriving', 'Princess Margaret Hospital', 'Discharged\\n2839', 'Siu Hei Court', 'Lai Kok Community Hall', 'Kwun Chung Sports Centre', 'SEC', 'The Expert Committee on Clinical Events Assessment', 'the Public Complaints Office', 'Group C', 'LINK', 'Podium', 'HKID', 'Shan King Estate', 'the specimen collection centre', 'the Air Traffic Control Centre', 'www.info.gov.hk/gia/general/202110/12/P2021101200714.htm', 'Bell', 'Serious', 'Kwai Tsing DHC', 'the Accident and Emergency (A&E) Department', 'Turkish Airlines', 'Tai Po Community Centre', 'the Centre for Food Safety', 'Hospital Authority', \"the Hospital Authority's\", 'Central Piers No.9', 'Taoist Ching Chung Primary School', 'UCH', 'The Immigration Department', 'the Department of Justice', 'District Health Centre Expresses', 'Choi Ha Estate', 'Shop S', 'Grand Promenade Carpark L1', 'Kowloon Commerce Centre', 'No.10', 'the World Health Organization', 'Discharged\\n3832, 4052, 4278', 'News.gov.hk', 'Accident and Emergency Departments', 'Tsz Ching Estate', 'the Fish Marketing Organization', 'QMH', 'HKU', 'the Board of Directors', 'the Disability Discrimination Ordinance', 'a Community Vaccination Centre', 'the North District Office', 'Annual Economic Report', 'Sun Chui Estate', 'Wan Chai Post', 'influenza', 'Tsuen King Circuit', 'CTN', 'Ap Lei Chau Sports Centre', 'Coastal Skyline', 'Hongkong Post Headquarters', 'The Library and Archives', 'Lung Hang Estate', 'the Yau Tsim Mong District Office', 'Sheung Wan Municipal Services Building', 'FEHD', 'Luen Yuet House', 'District Maintenance Office', 'Expert Committee', 'Landwood Court', 'the Home Affairs Department', 'Wales Hospital', 'OPD', 'the CARE Programme', 'the Community Care Fund Secretariat', 'Bank for International Settlements', 'Fu Keung Court', 'Critical', '\\x99æ¸¯å¸\\x82æ°', 'Community Testing Centres', '\\x8fæ¨¡ç\\x9a\\x84ã\\x80\\x8cé¡\\x98æª¢ç\\x9b¡æª¢ã\\x80\\x8dã\\x80\\x82', 'â\\x80\\x8bThe Transport Department', 'AFCD', 'The Japan Airlines', '126th', 'Ping Shek Estate', 'Discharged\\n5131', 'Caritas Medical Centre', 'Rosedale Hotel', 'Hospital Development Plans', 'Hong Kong Sanatorium & Hospital', 'TRS', 'è³ªè', 'Kwai Shing EHC', 'Discharged\\n4383,', 'SeaView Crescent', 'The Transport Department', 'the Legislative Council Finance Committee', 'Headache', 'Island Place', 'the World Trade Organization', 'Shui Fung House', 'the Secretary for Food and Health', 'the East Kowloon General Out-patient', 'the College of Veterinary Medicine and Life Sciences', 'Police Tactical Unit', 'Branksome Crest', 'Hong Kong Taoist Association Ching Chung Secondary School', 'the Tung Wah Group of Hospitals', 'CEPI', 'Discharged\\n4999', '1/F', 'the Accident and Emergency Department', 'IgG', 'The Housing Department', 'the Bank for International Settlements', 'Group A', 'EgyptAir', '103rd', 'EO', '4830', 'Comirnaty', 'the AEFI Fund', 'Qatar Airways', 'North Point Division', 'COVID', '¡å±\\x80å\\x85', 'Research Scheme', 'eBRAM Centre', 'Labour', 'Bank', 'the Kowloonbay International Trade & Exhibition Centre', 'number:11926', 'PHD', '167th', 'Ramada Hong Kong Harbour View Hotel', 'LegCo', 'India\\r\\n\\t\\t\\t\\xa0\\n', 'Cathay', 'Discharged\\n5031', 'the London School of Economics', 'Discharged\\n5156', 'Bourgogne-Franche-Comte', 'the Maintenance Office', 'Yan Chai Hospital', 'Adverse Events of Special Interest', '3rd Floor', 'Kwa Wan Vehicle Examination Centre', 'Lufthansa', 'Discharged\\n4861', 'N501Y', 'the Transport Department', 'Tuen Mun Division', 'Community Vaccination Centre', 'Tseung Kwan O Hospital', 'Programme', \"the Leisure and Cultural Services Department's\", 'The Agriculture, Fisheries and Conservation Department', 'the Expert Committee', '122nd', 'Henry G Leong Yaumatei Community Centre', 'www.eoc.org.hk/EOC/Upload/UserFiles/File/FAQ_COVID-19_Foreign_Domestic_Workers_and_Employers_english.pdf', 'Gavi', 'Sinovac', 'the School of Public Health of The University of Hong Kong', 'the Testing Programme', 'the Sheung Shui Slaughterhouse', 'the Legislative Council', 'Hong Kong Central Library', 'the Shan King Estate', 'DHC', 'SAE', 'Fu Heng Estate', 'The Scientific Committee', 'Perth', 'Global Access Facility', 'Huawei', 'the Housing Department', '\\x82æ\\x9c\\x83ï¼\\x8cè', 'The Department of Health (DH', 'Virus', 'The Registration and Electoral Office', 'orCTCs', '111th', 'TSCC', 'Hong Kong Customs', 'PCR', 'EMSD', 'Healthcare', 'Chair', 'the Cyberport Startup Alumni Association', 'the Innovation and Technology Fund', 'the Labour and Welfare Bureau', 'the Princess Margaret Hospital', 'Health Hope International Medical Laboratory Limited', 'the China Ferry Terminal', 'the Chair of Infectious Diseases, Department of Microbiology of the Li Ka Shing Faculty of Medicine of the University of Hong Kong', 'Scenic Villas', 'Commerce and Economic Development', 'District Health Centres or', 'the Hong Kong Housing Authority Headquarters', 'Hong Kong Adventist Hospital', 'N501Y mutant strain', 'The Centre for Health Protection', 'â\\x80\\x8bThe Food and Environmental Hygiene Department', 'the Department of Health', 'Cheung Fat Estate', 'the Hong Kong International Education Expo', 'Discharged\\n5058, 5126', 'the social service organisation', '132nd', 'the Tropical Cyclone Warning Signal No', 'the Vaccination Programme', 'PYNEH', 'the HA Infectious Disease Centre', 'Excise Department', 'Accident and Emergency', 'PMH', '137th', 'The Community Vaccination Centres', 'TK70', 'Immigration West Kowloon Branch Office', 'Silka Far East Hotel', 'the Research Grants Council', 'the Office of the Government Chief Information Officer (OGCIO', 'The Public Health Laboratory Services Branch', 'Education', 'Temporary Specimen Collection Centre', 'B/Ds', 'Discharged\\n4737', 'Dutch Airlines', 'Seaview Crescent', 'B/', 'Canossa Hospital', 'G/F', '101st', 'the Employment Ordinance', 'Tropical Cyclone Warning Signal', 'CHP', 'the Board of Directors of Yan', 'Choi Fook Estate', 'Public Health Laboratory Services Branch', 'Government', 'Harbourview', 'The Centre for Health Protection of the Department of Health', 'Island Harbourview', 'GoGo Tech Limited', 'the \"Health Protection Measures for Schools\"', 'Kwong Lam Court', 'the Early Vaccination for All', '107th', 'The Food and Health Bureau', 'Yat Tung', 'Tsimshatsui District Kaifong Welfare Association', 'NEATS', 'Fosun Pharma/BioNTech COVID-19', 'SIV', 'Financial Investigation', 'the Hong Kong International Airport', 'Eastern', 'the Anti-epidemic Fund', 'Nip', 'Yuen Long Sports Centre', 'Cardiac Care Unit', 'AsiaWorld-Expo', 'Prince of Wales Hospital', 'the Compulsory Testing Notice', 'Lufthansa German Airlines', 'the Black Rainstorm Warning Signal', 'Cheung Fat Estate Community Centre', 'Customs', 'the Sha Tin District Office', 'The Hospital Authority', 'â\\x80\\x8bâ\\x80\\x8bThe Government', 'â\\x80ªHong Kong Buddhist Hospital', 'Moderna', 'FDH Portal', 'Lam Tin EHC', 'Block 2', 'Enhanced Laboratory Surveillance Programme', \"the Mail Distribution Division's\", 'China Dragon Inspection and Certification', 'National Health Commission', 'Mei Yat House of Yat Tung', 'North Point', 'UCTP', 'the Major Incident Investigation and Disaster Support System (MIIDSS', 'SWD', 'HAD', '¿\\x85', 'æ³\\x81ï¼\\x8cä»¥ä¾\\x9bè\\x88\\x87ç§\\x91å\\xad¸å§\\x94å\\x93¡æ\\x9c\\x83ç', 'the LegCo Mobile App', \"the Equal Opportunities Commission's\", 'the Community Services Complex', 'Tung Chung Community Hall', 'the Food and Health Bureau', 'the Hong Kong Geriatrics Society', 'www.covidvaccine.gov.hk/', 'the Department of Microbiology, University of Hong Kong', 'The Commerce and Economic Development Bureau', 'the Smart Renewal', \"Tsuen King Circuit Children's Playground\", 'Associate Nurse Consultant', 'Queen Elizabeth Hospital', '127th', 'The Leisure and Cultural Services Department', 'Accident and Emergency Department', 'Focal Industrial Centre', 'The Labour Department (LD', 'Frequently Asked Questions and Answers', 'Kwun Chung Municipal Services Building', 'Cornell Centre', 'the Consulate General of the Russian Federation', 'Adult Intensive Care Unit', 'www.news.gov.hk/eng/feature', 'Department', '/F Podium', 'the Personal Data (Privacy) Ordinance', 'Malaysia Airlines', 'SSSH', 'Leon Court', 'Yau', 'Public Health Laboratory Services', 'DH', 'Tin Shui Wai Hospital', 'the Department of Microbiology of the University of Hong Kong', 'the MTR Corporation Limited', 'the Accident and Emergency Department of North Lantau Hospital', 'AEFI', 'the Public Sector Trial Scheme', 'Po Kok Primary School', '\\x8dæ¥µé¼\\x93å\\x8bµå¸\\x82æ', 'British Airways', 'BGI', 'Committees', '164th', 'The Mobile Vaccination Station', 'Discharged\\n5290, 5293, 5344', 'JSC-EAP', 'HKT', 'Hong Kong Airlines', 'the Central Government', 'The Customs and Excise Department', 'Fosun Pharma', 'Kwai Tsing Container Terminals', 'the Hong Kong Monetary Authority', 'The Home Affairs Department', 'Epidemic Preparedness', 'the Scientific Committee', 'CAD', 'Tin Shui Sports Centre', 'the Contact Tracing Office', 'LCSD', \"China Inspection Company Limited's\", 'Jockey Club', 'The Tourism Commission', 'AESI', 'International Online Dispute Resolution Centre', 'Yuen Long Office', 'Terminal 1', 'The Water Supplies Department (WSD', 'the Department of Health later', 'Sakura Court', 'the Central Government Offices', 'OGCIO', 'Discharged\\n4946', 'the North Lantau Hospital Hong Kong Infection Control Centre', 'www.gld.gov.hk/egazette/pdf/202125124e/egn202125124278.pdf', 'Lai King Estate', 'the Immigration Department', '(China Dragon Inspection & Certification', 'Serene Court', 'MacPherson Playground', 'Food and Environmental Hygiene', 'Castle Peak Bay Immigration Centre', 'the Indemnity Fund for Adverse Events', 'Pais Vasco', 'Wheelock House', 'Black Rainstorm', 'the Tourism Commission', 'HKSH', 'Yuen Wo Road Sports Centre', 'Tsuen Wan Depot (Tsuen Wan Depot', 'Vaccines Adverse Events Response and Evaluation Programme', 'Apple', '162nd', 'Hong Fook Court', 'Yau Lai Estate', 'M&G', 'UCH Accident and Emergency Department', 'the Narcotics Bureau', 'Discharged\\n4911', 'the Sai Kung District Office', 'Kwai Luen Estate', '151st', 'the Electronic Health Record Sharing System', 'REO', 'Yan Chai Hospital Multi-Services Complex', 'the Red Rainstorm', 'Jovial Court', 'KLM', 'the Advisory Panel', 'The specimen collection centre', 'Pok Fu Lam', 'CentrePoint', 'Discharged\\n2298', 'The Buildings Department', 'WhatsApp Helpline', 'Cathay Pacific', 'Adverse Events', 'the Social Welfare Department', 'Lek Yuen Estate', 'the Community Vaccination Centre', 'the Hospital Authority', 'FDH', 'Xiaomi India', 'Block A', 'The Centre for the Health Protection', 'UCT Programme', 'Health Commission', 'the Elderly Health Centres of', 'the Scientific Committee on Emerging and Zoonotic Diseases\\xa0', 'the Infectious Disease Centre', 'District Offices', 'Red Rainstorm', 'Yat Nga Court', 'Choi Fai Estate', 'United Christian Hospital', 'Cormirnaty', 'the Agriculture, Fisheries and Conservation Department', 'TGTS', 'Discharged\\n5176', 'Emergency Departments', 'Sunrise Diagnostic Centre', 'CSB', 'the Advisory Panel on COVID-19 Vaccines', 'Discharged\\n5308, 5334', 'Perform', '/F', 'the Department of Health (DH', 'The SAR Government', 'the Advance Purchase Agreements', 'www.covidvaccine.gov.hk/en/VSS', 'the Accident and Emergency Department of Pok Oi Hospital', 'HKCC', 'â\\x80\\x8bThe Centre for Health Protection', 'the Tsz Wan Shan Testing Scheme', 'Kwong Wah Hospital', 'the Centre for Health Protection of the Department of Health', 'Pedder Street', 'Arthur Street Temporary Playground', 'New Territories', 'the Hong Kong Convention and Exhibition Centre', 'GOGOVAN', 'Chai Hospital', 'Chun Yeung Estate', 'the Education Bureau', 'the Leisure and Cultural Services Department', 'Mui Wo', 'Villa Lotto', 'SFH', 'RGC', '161st', 'The Chief Executive', 'the Aberdeen Division', 'Hospital', 'Wan Chai District Social Welfare Office', 'the Red or Black Rainstorm Warning Signal', \"the Chief Executive's\", 'the HKSAR Government', 'Clause', 'Tsz Oi Court', 'the Public Health Laboratory Service Branch of', 'â\\x80\\x8bA', 'the Sha Tin District Social Welfare Office', 'CIC', 'â\\x80\\x8bThe Hospital Authority', 'the Chief Executive', 'Seaview Garden', 'eHealth', 'Mui Wo Sports Centre', 'Luk Chuen House', 'Discharged\\n2182', 'Yuen Long Government Offices', 'The COVAX Facility', 'the Medical Registration (Amendment', 'the Accident and Emergency Department at Ruttonjee Hospital', 'the SAR Government', 'WSD', 'TD', 'Union Hospital', 'CX694', 'Butterfly Estate', 'Golden Glory Court', 'healthcare', 'HKIA', 'Nan Fung Commercial Centre', 'Yau Tsim', 'Sham Shui Po Police Station', 'CoronaVac', 'the COVAX Facility', 'All Nippon Airways', 'Discharged\\n2674', 'CTC', 'the first institute', 'An LD', 'Kwai Tsing District Health Centre', 'Project', 'the Accident and Emergency Department of Prince of Wales Hospital', 'the University Grants Committee', 'Link Asset Management Limited', 'PLB', \"the Labour Department's\", 'Registered Medical Practitioner', 'the Innovation and Technology Commission', 'Tin Shui Estate', 'DDO', 'Discharged\\n2604, 4325, 4714', 'the COVID-19 Vaccination Programme', 'doi.org/10.1016/j.ijregi.2021.11.002', 'N95', 'Mainland Travel Permits', 'MIIDSS', 'SDC', 'another Community Vaccination Centre', 'The Scientific Committee on Emerging and Zoonotic Diseases', 'the Eastern District Office', 'Shek Lei Community Hall', 'WHO', 'the City University of Hong Kong', 'VRT', 'Scheme', 'POH', \"Queen Elizabeth School Old Students' Association Primary School\", 'Group B or Group C', 'The Advisory Panel', 'the Outpatient Department', 'Way Man Court', 'the Yuen Long District Office', 'the Cash Payout Scheme Secretariat', 'Police Tactical', 'Quarry Bay Community Hall', 'å·²ç¶\\x93å¢\\x9eå\\x8a', 'the Hong Kong Housing Authority', 'Tuen Mun Hospital', 'TMH', 'the Centre for Health Protection of the DH', 'Ends/', 'Discharged\\n5332, 5338', 'BioNTech', '\\x81æ±\\x82ç\\x9a\\x84ç\\x96«è\\x8b\\x97ï¼\\x8cä»¥ä¿\\x9dé\\x9a\\x9cå¸\\x82æ', 'Enhanced Laboratory Surveillance', 'ODR', 'Tai Yuen Community Hall', 'the Scientific Committee on Emerging and Zoonotic Diseases', 'the Cruise Company', \"the Housing Department's\", 'the Accident & Emergency Department', 'PWH', 'Kowloon Bay Vehicle Examination Centre', 'Community Vaccination Centres', 'Coronavirus Disease 2019', 'Types C', 'Tin Shing Court', 'Theme', 'Queen Mary Hospital', 'Mong District Social Welfare Office', \"Penny's Bay Quarantine Centre\", 'Fuk Kwan Avenue', 'The Correctional Services Department', \"the DH's Port Health Division\", 'Mau Lam House', 'The HKSAR Government', 'the Fanling Family Medicine Centre', 'Advance Purchase Agreements', 'EMO', 'the Universal Community Testing Programme', '¿\\x85é\\xa0', 'the Secretariat of the Fund', 'the Mongkok Kai-fong Association', \"the Advisory Panel's\", 'Luen Wo Hui Community Hall', 'the New Territories Association of Societies', 'NID', 'the Mobile Vaccination Station', 'Discharged\\n4225', 'The Civil Aviation Department', 'news.gov.hk', 'the Accident and Emergency Departments', 'COVID-19).The', 'the Coalition for Epidemic Preparedness Innovations', 'Bishop Hall Secondary School', 'the North District Hospital', 'Discharged\\n4802', 'Hung Hom Community Hall', 'HK PICK-UP LIMITED', 'the Enhanced Laboratory Surveillance', 'North Lantau Hospital', 'the Public Health Laboratory Services Branch', \"the 'Early Vaccination for All'\", 'Drainage Services Department Sewage Pumping Station', 'SOPC', 'the A&E Department', 'Harbour Pinnacle', 'www.covidvaccine.gov.hk/pdf/List_of_CVC_Venues.pdf', \"the WHO's Regional Office for the Western Pacific\", 'the Compulsory Quarantine of Certain Persons Arriving', 'Black Rainstorm Warning Signal', 'the COVID-19 test service', 'FHB', 'Shek Lei Estate', 'The Economist Events', 'AstraZeneca', 'Strong Wind Signal', 'RT-PCR', 'www.ha.org.hk/haho/ho/covid-19/GOPC_extend_EN.pdf', 'Yuen Chau Kok Community Hall', 'Wi-Fi', 'Choi Tin House', 'Central Government Offices', 'the Shan King Estate Community Testing Scheme', 'The Transport and Housing Bureau', 'Discharged\\n3420', 'Geriatric Day Hospitals', 'the National Health Commission', 'AEFI Fund', 'Hotel ICON', 'Ambulatory Care Centre', \"Christian Nationals' Evangelism Commission Lau Wing\", 'The Education Bureau', '154th', 'Sai Kung District Social Welfare Office', 'the Community Vaccination Centres', 'Lam Tin Public Library', 'Bluejay Residences', 'the Prevention and Control of Disease Regulation', 'The Home Affairs Bureau'}\n",
            "0:04:52.717352\n"
          ]
        }
      ]
    },
    {
      "cell_type": "code",
      "source": [
        "for i, value in enumerate(crawler.listOfOrg):\n",
        "    print(i, value)"
      ],
      "metadata": {
        "id": "Y-tjK5XYdH9l"
      },
      "execution_count": null,
      "outputs": []
    },
    {
      "cell_type": "code",
      "source": [
        "r = requests.get(\"https://www.search.gov.hk/result?ui_lang=en&proxystylesheet=ogcio_home_adv_frontend&output=xml_no_dtd&ui_charset=utf-8&a_submit=false&query=covid-19&ie=UTF-8&oe=UTF-8&site=gia_home&tpl_id=stdsearch&gp=0&gp0=gia_home&gp1=&p_size=10&num=10&doc_type=html&as_filetype=&as_q=covid-19&as_epq=&is_epq=&as_oq=&is_oq=&as_eq=&is_eq=&r_lang=&lr=&web=this&sw=1&txtonly=0&rwd=0&date_v=within&date_last=%2330&s_date_year=2021&s_date_month=01&s_date_day=01&e_date_year=2021&e_date_month=12&e_date_day=23&last_mod=%2330&sort=date%253AD%253AL%253Ad1&page=8\")\n",
        "soup = BeautifulSoup(r.text, 'lxml')\n",
        "soup.find('span', class_='current').text"
      ],
      "metadata": {
        "colab": {
          "base_uri": "https://localhost:8080/",
          "height": 36
        },
        "id": "f--qz_-TbLNV",
        "outputId": "28cd8ebf-1b77-4ed7-e728-fc0cd679f175"
      },
      "execution_count": null,
      "outputs": [
        {
          "output_type": "execute_result",
          "data": {
            "application/vnd.google.colaboratory.intrinsic+json": {
              "type": "string"
            },
            "text/plain": [
              "'8'"
            ]
          },
          "metadata": {},
          "execution_count": 44
        }
      ]
    },
    {
      "cell_type": "code",
      "source": [],
      "metadata": {
        "id": "wOvhvbmdbQny"
      },
      "execution_count": null,
      "outputs": []
    }
  ],
  "metadata": {
    "colab": {
      "provenance": []
    },
    "kernelspec": {
      "display_name": "Python 3",
      "name": "python3"
    }
  },
  "nbformat": 4,
  "nbformat_minor": 0
}