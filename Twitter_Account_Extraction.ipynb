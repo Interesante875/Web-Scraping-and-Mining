{
  "nbformat": 4,
  "nbformat_minor": 0,
  "metadata": {
    "colab": {
      "provenance": []
    },
    "kernelspec": {
      "display_name": "Python 3",
      "name": "python3"
    },
    "language_info": {
      "name": "python"
    }
  },
  "cells": [
    {
      "cell_type": "code",
      "metadata": {
        "id": "SV97Iuuyd-yf"
      },
      "source": [
        "!pip install beautifulsoup4\n",
        "!pip install lxml\n",
        "!pip install html5lib\n",
        "!pip install requests\n",
        "\n",
        "import requests\n",
        "from bs4 import BeautifulSoup\n",
        "import time\n",
        "import re\n",
        "import json\n",
        "import string\n",
        "import pandas as pd\n",
        "import csv\n",
        "import math\n",
        "import os\n",
        "import tweepy as tw\n",
        "import pandas as pd\n",
        "import string\n",
        "import random\n",
        "import datetime\n",
        "import threading\n",
        "import json\n",
        "import math\n",
        "import glob\n",
        "import csv\n",
        "import zipfile\n",
        "import zlib\n",
        "import tweepy\n",
        "from time import sleep\n",
        "\n",
        "!pip install selenium\n",
        "!apt-get update # to update ubuntu to correctly run apt install\n",
        "!apt install chromium-chromedriver\n",
        "!cp /usr/lib/chromium-browser/chromedriver /usr/bin\n",
        "import sys\n",
        "sys.path.insert(0,'/usr/lib/chromium-browser/chromedriver')\n",
        "\n",
        "from selenium import webdriver\n",
        "from selenium.webdriver.common.keys import Keys\n",
        "from selenium.common.exceptions import NoSuchElementException, StaleElementReferenceException\n",
        "from selenium.webdriver.common.by import By\n",
        "from selenium.webdriver.common.keys import Keys\n",
        "from selenium.common.exceptions import NoSuchElementException, StaleElementReferenceException\n",
        "\n",
        "chrome_options = webdriver.ChromeOptions()\n",
        "chrome_options.add_argument('--headless')\n",
        "chrome_options.add_argument('--no-sandbox')\n",
        "chrome_options.add_argument('--disable-dev-shm-usage')\n",
        "wd = webdriver.Chrome('chromedriver')\n",
        "delay = 1  # time to wait on each page load before reading the page\n",
        "driver = webdriver.Chrome('chromedriver',options=chrome_options)  # options are Chrome() Firefox() Safari()\n",
        "\n",
        "keys = {\n",
        "    \"consumer_key\": 'PFntvVTEGYxOj0DpsQGLfcHih',\n",
        "    \"consumer_secret\": 'qaMWaTihgx7WKCxs2CWf6VkJrGQMaQyBkd22KW6vhdHpRmO7yg',\n",
        "    \"access_token\": '994786472900333570-6qqX2SH8XbHXAbJRkWdwzge4A7xktPo',\n",
        "    \"access_token_secret\": 'ZryyU4n78wJyUQaNVDPNR7X7a7XKDAOtxy768SCMH2Y2E'\n",
        "}"
      ],
      "execution_count": null,
      "outputs": []
    },
    {
      "cell_type": "code",
      "metadata": {
        "id": "6nkwU4ojjwo-"
      },
      "source": [
        "\"\"\"\n",
        "MKNJPM, MyHEALTHKKM, kkmm_gov, jpmgov_, KDNPUTRAJAYA,\n",
        "JKJAVMY, DrAdhamBaba, MuhyiddinYassin, DGHisham, IsmailSabri60\n",
        "RTM_Malaysia, AnnuarMusa, 501Awani, bharianmy,\n",
        "hannahyeoh, rafidah72, DrAnwarFazal, MedTweetMYHQ, khairul_hafidz, BuletinTV3\n",
        "ChristinaYong6, loyingru, SarehParangiMD, radzi_dr, ClinicalRsrchMY,\n",
        "Khairykj, SandboxMalaysia, sputnikvaccine, NIHMalaysia, protecthealthco,\n",
        "trussliz, SelveeRamasamy, DrMahHS, malaysianmedic1, angepratt,\n",
        "takeshi_kasai, codebluenews, imokman, DrDzul, HarithIskander,\n",
        "UMonline, fmtoday, SinarOnline, mkini_bm, malaysiakini, mkini_cn\n",
        "\"\"\"\n",
        "['drmuss', 'DrIqbalSarwar','khairul_hafidz', 'rafidah72 ','mafeitz','MYJantung','DrMahyuddin','drafidahyusof','suhazeli','khalilpsych','ctsarahaishah',\n",
        "               'afidasohana','muhammadeizat','zainaladwin','kay_alia','Lael_Ophthal','drihsansuhaidi','DrAnwarFazal','fdcaraku3800','syariza81','aimirahayu','affick_rahim',\n",
        "               'Zafrul_Zamberi','DrRadzi Surgery','wanie_dagreat','fiezanizmohamed','hafsah_sazali','FirdausIzzani','RahmatPsych','khiddir89','ib_shah','qonberg',\n",
        "               'azamspark','kay_haliq','AmiraRaup','wahidatul_abdah','marmellow','izzahrph','jazlinasyahrul','SmSmaudio','MarAzlan']"
      ],
      "execution_count": null,
      "outputs": []
    },
    {
      "cell_type": "code",
      "metadata": {
        "id": "ZocRzMSXdmrD"
      },
      "source": [
        "import requests\n",
        "from bs4 import BeautifulSoup\n",
        "import time\n",
        "import re\n",
        "import json\n",
        "import string\n",
        "import pandas as pd\n",
        "import csv\n",
        "import math\n",
        "import os\n",
        "import tweepy as tw\n",
        "import pandas as pd\n",
        "import string\n",
        "import random\n",
        "import datetime\n",
        "import threading\n",
        "import json\n",
        "import math\n",
        "import glob\n",
        "import csv\n",
        "import zipfile\n",
        "import zlib\n",
        "import tweepy\n",
        "from time import sleep"
      ],
      "execution_count": null,
      "outputs": []
    },
    {
      "cell_type": "code",
      "metadata": {
        "id": "q-7LDBYqcIUG"
      },
      "source": [
        "consumer_key= 'PFntvVTEGYxOj0DpsQGLfcHih'\n",
        "consumer_secret= 'qaMWaTihgx7WKCxs2CWf6VkJrGQMaQyBkd22KW6vhdHpRmO7yg'\n",
        "access_token= '994786472900333570-6qqX2SH8XbHXAbJRkWdwzge4A7xktPo'\n",
        "access_token_secret= 'ZryyU4n78wJyUQaNVDPNR7X7a7XKDAOtxy768SCMH2Y2E'\n",
        "\n",
        "auth = tw.OAuthHandler(consumer_key, consumer_secret)\n",
        "auth.set_access_token(access_token, access_token_secret)\n",
        "api = tw.API(auth, wait_on_rate_limit=True)"
      ],
      "execution_count": null,
      "outputs": []
    },
    {
      "cell_type": "code",
      "metadata": {
        "id": "MrcdiKQWIF5C"
      },
      "source": [
        "targets = [\n",
        "'DrIqbalSarwar','khairul_hafidz', 'rafidah72 ','mafeitz','MYJantung','DrMahyuddin','drafidahyusof','suhazeli','khalilpsych','ctsarahaishah',\n",
        "'afidasohana','muhammadeizat','zainaladwin','kay_alia','Lael_Ophthal','drihsansuhaidi','DrAnwarFazal','fdcaraku3800','syariza81','aimirahayu','affick_rahim',\n",
        "'Zafrul_Zamberi','DrRadzi Surgery','wanie_dagreat','fiezanizmohamed','hafsah_sazali','FirdausIzzani','RahmatPsych','khiddir89','ib_shah','qonberg',\n",
        "'azamspark','kay_haliq','AmiraRaup','wahidatul_abdah','marmellow','izzahrph','jazlinasyahrul','SmSmaudio','MarAzlan',\n",
        "'MKNJPM', 'MyHEALTHKKM', 'kkmm_gov', 'jpmgov_', 'KDNPUTRAJAYA',\n",
        "'JKJAVMY', 'DrAdhamBaba','MuhyiddinYassin', 'DGHisham', 'IsmailSabri60',\n",
        "'RTM_Malaysia', 'AnnuarMusa', '501Awani', 'bharianmy',\n",
        "'hannahyeoh', 'rafidah72', 'DrAnwarFazal', 'MedTweetMYHQ', 'khairul_hafidz', 'BuletinTV3'\n",
        "'ChristinaYong6', 'loyingru', 'SarehParangiMD', 'radzi_dr', 'ClinicalRsrchMY',\n",
        "'Khairykj', 'SandboxMalaysia', 'sputnikvaccine', 'NIHMalaysia', 'protecthealthco',\n",
        "'trussliz', 'SelveeRamasamy', 'DrMahHS', 'malaysianmedic1', 'angepratt',\n",
        "'takeshi_kasai', 'codebluenews', 'imokman', 'DrDzul', 'HarithIskander',\n",
        "'UMonline', 'fmtoday', 'SinarOnline', 'mkini_bm', 'malaysiakini', 'mkini_cn'\n",
        "]"
      ],
      "execution_count": null,
      "outputs": []
    },
    {
      "cell_type": "code",
      "metadata": {
        "id": "GfdbQeyYZ3Eb"
      },
      "source": [
        "## MEDTWEETMY\n",
        "targets = ['MedTweetMYHQ', 'khairul_hafidz', 'DIskandarmirza', 'DrBeniRusani', 'rafidah72', 'dr_chaku', 'DrAnwarFazal', 'Fahmibinhassan', 'muhammadeizat',\n",
        "           'drwaque', 'DrMahyuddin', 'DocMummy22', 'hafsah_sazali', 'suhazeli', 'ctsarahaishah', 'DrAmerSiddiqPsy', 'jazlinasyahrul', 'ib_shah', 'drnuruly',\n",
        "           'zaidrostam', 'DrAfiqS', 'MABwilcha', 'sya_daniswara', 'drzek', 'DrIqbalSarwar', 'drarisfadzillah', 'mafeitz', 'liyanazainal', 'Lael_Ophthal',\n",
        "           'Dr_Shaiful', 'DrRadzi', 'affick_rahim', 'izzahrph', 'zainaladwin', 'fiezanizmohamed', 'aimirahayuAR', 'khiddir89', 'RahmatPsych', 'wahidatul_abdah',\n",
        "           'drihsansuhaidi', 'drafidahyusof', 'MarAzlan', 'FurqonAbd', 'kay_alia', 'FirdausIzzani', 'wanie_dagreat', 'AfidaSohana', 'AmiraRaup', 'kay_haliq',\n",
        "           'NurmanYaman', 'DrAkmalIJN', 'DrHirman', 'marmellow', 'AmiraRaup', ]"
      ],
      "execution_count": null,
      "outputs": []
    },
    {
      "cell_type": "code",
      "metadata": {
        "id": "M0bHYr3BfTeb"
      },
      "source": [
        "# Other organizations\n",
        "targets = ['ini_sains_beb', 'MedMythbusterMY', 'JomKenalUbat', 'MMGazette', 'dermaorgan', 'Thediagnosa', 'WebMD', 'EpidAlert', 'AlertClinic', 'CentreMY_',\n",
        "           'TheElders', 'ThirdWayTweet', 'cradlefund', 'greenpacket', 'sputnikvaccine', 'ScienceMagazine', 'NewsfromScience', 'MichalisRokasEU', 'khairilizamin',\n",
        "           'thekangbae2', 'SwkVolunteers', 'themystartup', 'DNDi', 'codebluenews', 'lamkanahraf', 'SunwayCPH', 'malaysia_covid', 'hctm_ukm', 'MadiAzmadi',\n",
        "           'DrugInfoAssn', 'infosihat2u', '']\n"
      ],
      "execution_count": null,
      "outputs": []
    },
    {
      "cell_type": "code",
      "metadata": {
        "id": "orD3rblkfsby"
      },
      "source": [
        "## WHO\n",
        "targets = ['WHO', 'WHOMalaysia', 'loyingru', 'DrTedros', 'takeshi_kasai', 'WHOWPRO', 'pahowho', 'WHO_Europe', 'angepratt', 'UNU_IIGH', 'ChathamHouse', 'UNITAID',\n",
        "           'JSRM_Official']"
      ],
      "execution_count": null,
      "outputs": []
    },
    {
      "cell_type": "code",
      "metadata": {
        "id": "mrrwyxBYkVj7"
      },
      "source": [
        "## important figures\n",
        "targets = ['MaxCRoser', 'fleurpellerin', 'Ghows', 'sciencecohen', 'MYVaccineCount', 'henrylim96', 'boosulyn', 'NEJM', 'pfizer_news', 'pfizer']"
      ],
      "execution_count": null,
      "outputs": []
    },
    {
      "cell_type": "code",
      "metadata": {
        "id": "QqN6_9-dhVGr"
      },
      "source": [
        "## Government\n",
        "targets = ['KKMPutrajaya', 'MyHEALTHKKM', 'DGHisham', 'Khairykj', 'drzul_albakri', 'maheshappannan', 'drkalai61', 'zukiAli_', 'PDRMsia', 'FarmasiKkm',\n",
        "           'PrgPerubatanKKM', 'protecthealthco', 'ClinicalRsrchMY' , 'ICR_NIH', 'DrNoorAzmi', 'DrAdhamBaba', 'NIHMalaysia', 'DrAmalinaBakri', 'CKAPS_KKM',\n",
        "           'BhgPemakananKKM', 'officialmosti', 'KBSMalaysia', 'kpdnhep', 'DrChenChawMin', 'MOHEOfficial', 'KemPendidikan', 'bpkk_kkm', 'mhtcmalaysia',\n",
        "           'IsmailSabri60', 'JKJAVMY', 'MKNJPM', 'MuhyiddinYassin', 'my_sejahtera', 'JPenerangan', 'RembauForever', 'DrNorainiAhmad', 'akademisains',\n",
        "           'mymdec', 'DrAmarMOH', 'mimosmalaysia', 'NanoMalaysia', 'Kimia_Malaysia', 'MyScienceCentre', 'HajiAmzad', 'SandboxMalaysia', 'AmNizham',\n",
        "           'sitihtapsir', 'Ghows', 'TeshKumarSangar', 'genomemalaysia', 'imokman', 'yeobeeyin', 'fahmi_fadzil', 'aafaizli', 'SelveeRamasamy', 'dimishtra',\n",
        "           'MCMC_RASMI', 'ISIS_MY', 'NACSAmalaysia', 'MyMOTAC', 'PerpaduanNegara', 'jpagov', 'MKNSarawak', 'tzafrul_aziz', 'UKASSarawak', 'BHESS_JPM',\n",
        "           'mynadma', 'imigresenmy', 'MalaysiaPMO', 'malaysianmedic1', 'DrMahHS', 'DrNoorAzmi', 'hannahyeoh', 'ayshardzn', 'pharmaniaga_bhd', 'Melissa_Jhnsn',\n",
        "           'HasbullahAbol', 'DrKhorSK', 'mimtakram89', 'radzi_dr', 'jknselangor', 'jknperak', 'DrDzul', 'sazzlikasim', 'kkmm_gov', 'DhesiMD', 'PhAMAOfficial',\n",
        "           'NationalHeart', 'Dr_ASinghR', 'GCPcafe', 'HospitalKajang', 'HOSPITALSGBULOH', 'JKNTrg', 'mhtcmalaysia', 'jknperlis', 'J_Biotech', 'KDNPUTRAJAYA',\n",
        "           'markcheongwl', 'CCT_Ampang', ]"
      ],
      "execution_count": null,
      "outputs": []
    },
    {
      "cell_type": "code",
      "metadata": {
        "id": "UOi47VnrqkRT"
      },
      "source": [
        "## News\n",
        "targets = ['warta_daily', 'sebenarnyaMY', 'kw_seriwilayah', 'Sarawak_Today', 'thevibesnews', 'melisa_idris', 'IJNDotComDotMy', 'medshdmalaysia', 'MyMedicalRsrc',\n",
        "           'nkfmy', 'MAS', 'SinChewPress', 'fmtoday', 'NewsBFM', 'malaymail', 'msianinsight', 'NST_Online', 'theedgemalaysia', 'theSundaily', 'mkini_bm',\n",
        "           'UMonline', 'tv1_rtm', 'kosmo_online', 'harakahdailyHD', 'staronline', 'mstaronline', 'beritartm', 'sarawak_report', 'tm_insider', 'bharianmy',\n",
        "           'malaysiakini', '501Awani', 'hotfm976', 'ODNMalaysia', 'nanyangpress', 'mkini_cn', 'theborneopost', '8tvmandarinnews', 'pocketimes', 'SinChewEastMsia',\n",
        "           'weareunitedMY', '8worldnews']"
      ],
      "execution_count": null,
      "outputs": []
    },
    {
      "cell_type": "code",
      "source": [
        "targets = ['richardker', 'davethereplyguy']"
      ],
      "metadata": {
        "id": "9JpalJyheLxl"
      },
      "execution_count": null,
      "outputs": []
    },
    {
      "cell_type": "code",
      "metadata": {
        "id": "m1CkqyYr8x0s"
      },
      "source": [
        "import shutil\n",
        "\n",
        "shutil.rmtree('/content/sample_data')\n"
      ],
      "execution_count": null,
      "outputs": []
    },
    {
      "cell_type": "code",
      "metadata": {
        "id": "Ukq_29c-7FTE"
      },
      "source": [
        "!pip3 install snscrape"
      ],
      "execution_count": null,
      "outputs": []
    },
    {
      "cell_type": "code",
      "metadata": {
        "id": "ZBlKEAMR7RjZ",
        "colab": {
          "base_uri": "https://localhost:8080/",
          "height": 558
        },
        "outputId": "31d0c574-8f4c-4e19-f374-3f4c302d73e7"
      },
      "source": [
        "# importing libraries and packages\n",
        "import snscrape.modules.twitter as sntwitter\n",
        "import pandas\n",
        "from google.colab import files\n",
        "import json\n",
        "\n",
        "begin_date = \"2020-01-01\"\n",
        "end_date = \"2023-11-20\"\n",
        "max_tweets = 100000\n",
        "counter = 1\n",
        "\n",
        "for user in targets:\n",
        "    # Creating list to append tweet data\n",
        "    tweets_list = []\n",
        "    id_lst = []\n",
        "    print(f'Now extracting tweets from {user}, {counter}/{len(targets)}')\n",
        "    search_key = f'(from:{user}) include:nativeretweets until:{end_date} since:{begin_date}'\n",
        "    try:\n",
        "        # Using TwitterSearchScraper to scrape data and append tweets to list\n",
        "        for i,tweet in enumerate(sntwitter.TwitterSearchScraper(search_key).get_items()):\n",
        "            if i > max_tweets:\n",
        "                break\n",
        "            elif i % 1000 == 0:\n",
        "                print(f'{i} tweets have been scraped')\n",
        "            tweets_list.append([tweet.date, tweet.id, tweet.url, tweet.content, tweet.username])\n",
        "            id_lst.append(tweet.id)\n",
        "    except:\n",
        "        print(\"Protected account!\")\n",
        "        pass\n",
        "    # Creating a dataframe from the tweets list above\n",
        "    tweets_df = pd.DataFrame(tweets_list, columns=['Datetime', 'Tweet Id', 'URL', 'Text', 'Username'])\n",
        "    if len(tweets_df) > 0:\n",
        "        tweets_df.to_csv(f'{user.lower()}.csv')\n",
        "        with open(f'{user.lower()}.json', 'w', encoding='utf-8') as f:\n",
        "            json.dump(json.dumps(id_lst), f, ensure_ascii=False, indent=4)\n",
        "    counter = counter + 1\n",
        "!zip -r /content/file.zip /content\n",
        "files.download(r'/content/')"
      ],
      "execution_count": null,
      "outputs": [
        {
          "output_type": "stream",
          "name": "stdout",
          "text": [
            "Now extracting tweets from richardker, 1/2\n"
          ]
        },
        {
          "output_type": "stream",
          "name": "stderr",
          "text": [
            "ERROR:snscrape.base:Error retrieving https://twitter.com/i/api/graphql/7jT5GT59P8IFjgxwqnEdQw/SearchTimeline?variables=%7B%22rawQuery%22%3A%22%28from%3Arichardker%29%20include%3Anativeretweets%20until%3A2023-11-20%20since%3A2020-01-01%22%2C%22count%22%3A20%2C%22product%22%3A%22Latest%22%2C%22withDownvotePerspective%22%3Afalse%2C%22withReactionsMetadata%22%3Afalse%2C%22withReactionsPerspective%22%3Afalse%7D&features=%7B%22rweb_lists_timeline_redesign_enabled%22%3Afalse%2C%22blue_business_profile_image_shape_enabled%22%3Afalse%2C%22responsive_web_graphql_exclude_directive_enabled%22%3Atrue%2C%22verified_phone_label_enabled%22%3Afalse%2C%22creator_subscriptions_tweet_preview_api_enabled%22%3Afalse%2C%22responsive_web_graphql_timeline_navigation_enabled%22%3Atrue%2C%22responsive_web_graphql_skip_user_profile_image_extensions_enabled%22%3Afalse%2C%22tweetypie_unmention_optimization_enabled%22%3Atrue%2C%22vibe_api_enabled%22%3Atrue%2C%22responsive_web_edit_tweet_api_enabled%22%3Atrue%2C%22graphql_is_translatable_rweb_tweet_is_translatable_enabled%22%3Atrue%2C%22view_counts_everywhere_api_enabled%22%3Atrue%2C%22longform_notetweets_consumption_enabled%22%3Atrue%2C%22tweet_awards_web_tipping_enabled%22%3Afalse%2C%22freedom_of_speech_not_reach_fetch_enabled%22%3Afalse%2C%22standardized_nudges_misinfo%22%3Atrue%2C%22tweet_with_visibility_results_prefer_gql_limited_actions_policy_enabled%22%3Afalse%2C%22interactive_text_enabled%22%3Atrue%2C%22responsive_web_text_conversations_enabled%22%3Afalse%2C%22longform_notetweets_rich_text_read_enabled%22%3Afalse%2C%22longform_notetweets_inline_media_enabled%22%3Afalse%2C%22responsive_web_enhance_cards_enabled%22%3Afalse%2C%22responsive_web_twitter_blue_verified_badge_is_enabled%22%3Atrue%7D: blocked (404)\n",
            "CRITICAL:snscrape.base:4 requests to https://twitter.com/i/api/graphql/7jT5GT59P8IFjgxwqnEdQw/SearchTimeline?variables=%7B%22rawQuery%22%3A%22%28from%3Arichardker%29%20include%3Anativeretweets%20until%3A2023-11-20%20since%3A2020-01-01%22%2C%22count%22%3A20%2C%22product%22%3A%22Latest%22%2C%22withDownvotePerspective%22%3Afalse%2C%22withReactionsMetadata%22%3Afalse%2C%22withReactionsPerspective%22%3Afalse%7D&features=%7B%22rweb_lists_timeline_redesign_enabled%22%3Afalse%2C%22blue_business_profile_image_shape_enabled%22%3Afalse%2C%22responsive_web_graphql_exclude_directive_enabled%22%3Atrue%2C%22verified_phone_label_enabled%22%3Afalse%2C%22creator_subscriptions_tweet_preview_api_enabled%22%3Afalse%2C%22responsive_web_graphql_timeline_navigation_enabled%22%3Atrue%2C%22responsive_web_graphql_skip_user_profile_image_extensions_enabled%22%3Afalse%2C%22tweetypie_unmention_optimization_enabled%22%3Atrue%2C%22vibe_api_enabled%22%3Atrue%2C%22responsive_web_edit_tweet_api_enabled%22%3Atrue%2C%22graphql_is_translatable_rweb_tweet_is_translatable_enabled%22%3Atrue%2C%22view_counts_everywhere_api_enabled%22%3Atrue%2C%22longform_notetweets_consumption_enabled%22%3Atrue%2C%22tweet_awards_web_tipping_enabled%22%3Afalse%2C%22freedom_of_speech_not_reach_fetch_enabled%22%3Afalse%2C%22standardized_nudges_misinfo%22%3Atrue%2C%22tweet_with_visibility_results_prefer_gql_limited_actions_policy_enabled%22%3Afalse%2C%22interactive_text_enabled%22%3Atrue%2C%22responsive_web_text_conversations_enabled%22%3Afalse%2C%22longform_notetweets_rich_text_read_enabled%22%3Afalse%2C%22longform_notetweets_inline_media_enabled%22%3Afalse%2C%22responsive_web_enhance_cards_enabled%22%3Afalse%2C%22responsive_web_twitter_blue_verified_badge_is_enabled%22%3Atrue%7D failed, giving up.\n",
            "CRITICAL:snscrape.base:Errors: blocked (404), blocked (404), blocked (404), blocked (404)\n"
          ]
        },
        {
          "output_type": "stream",
          "name": "stdout",
          "text": [
            "Protected account!\n",
            "Now extracting tweets from davethereplyguy, 2/2\n"
          ]
        },
        {
          "output_type": "stream",
          "name": "stderr",
          "text": [
            "ERROR:snscrape.base:Error retrieving https://twitter.com/i/api/graphql/7jT5GT59P8IFjgxwqnEdQw/SearchTimeline?variables=%7B%22rawQuery%22%3A%22%28from%3Adavethereplyguy%29%20include%3Anativeretweets%20until%3A2023-11-20%20since%3A2020-01-01%22%2C%22count%22%3A20%2C%22product%22%3A%22Latest%22%2C%22withDownvotePerspective%22%3Afalse%2C%22withReactionsMetadata%22%3Afalse%2C%22withReactionsPerspective%22%3Afalse%7D&features=%7B%22rweb_lists_timeline_redesign_enabled%22%3Afalse%2C%22blue_business_profile_image_shape_enabled%22%3Afalse%2C%22responsive_web_graphql_exclude_directive_enabled%22%3Atrue%2C%22verified_phone_label_enabled%22%3Afalse%2C%22creator_subscriptions_tweet_preview_api_enabled%22%3Afalse%2C%22responsive_web_graphql_timeline_navigation_enabled%22%3Atrue%2C%22responsive_web_graphql_skip_user_profile_image_extensions_enabled%22%3Afalse%2C%22tweetypie_unmention_optimization_enabled%22%3Atrue%2C%22vibe_api_enabled%22%3Atrue%2C%22responsive_web_edit_tweet_api_enabled%22%3Atrue%2C%22graphql_is_translatable_rweb_tweet_is_translatable_enabled%22%3Atrue%2C%22view_counts_everywhere_api_enabled%22%3Atrue%2C%22longform_notetweets_consumption_enabled%22%3Atrue%2C%22tweet_awards_web_tipping_enabled%22%3Afalse%2C%22freedom_of_speech_not_reach_fetch_enabled%22%3Afalse%2C%22standardized_nudges_misinfo%22%3Atrue%2C%22tweet_with_visibility_results_prefer_gql_limited_actions_policy_enabled%22%3Afalse%2C%22interactive_text_enabled%22%3Atrue%2C%22responsive_web_text_conversations_enabled%22%3Afalse%2C%22longform_notetweets_rich_text_read_enabled%22%3Afalse%2C%22longform_notetweets_inline_media_enabled%22%3Afalse%2C%22responsive_web_enhance_cards_enabled%22%3Afalse%2C%22responsive_web_twitter_blue_verified_badge_is_enabled%22%3Atrue%7D: blocked (404)\n",
            "CRITICAL:snscrape.base:4 requests to https://twitter.com/i/api/graphql/7jT5GT59P8IFjgxwqnEdQw/SearchTimeline?variables=%7B%22rawQuery%22%3A%22%28from%3Adavethereplyguy%29%20include%3Anativeretweets%20until%3A2023-11-20%20since%3A2020-01-01%22%2C%22count%22%3A20%2C%22product%22%3A%22Latest%22%2C%22withDownvotePerspective%22%3Afalse%2C%22withReactionsMetadata%22%3Afalse%2C%22withReactionsPerspective%22%3Afalse%7D&features=%7B%22rweb_lists_timeline_redesign_enabled%22%3Afalse%2C%22blue_business_profile_image_shape_enabled%22%3Afalse%2C%22responsive_web_graphql_exclude_directive_enabled%22%3Atrue%2C%22verified_phone_label_enabled%22%3Afalse%2C%22creator_subscriptions_tweet_preview_api_enabled%22%3Afalse%2C%22responsive_web_graphql_timeline_navigation_enabled%22%3Atrue%2C%22responsive_web_graphql_skip_user_profile_image_extensions_enabled%22%3Afalse%2C%22tweetypie_unmention_optimization_enabled%22%3Atrue%2C%22vibe_api_enabled%22%3Atrue%2C%22responsive_web_edit_tweet_api_enabled%22%3Atrue%2C%22graphql_is_translatable_rweb_tweet_is_translatable_enabled%22%3Atrue%2C%22view_counts_everywhere_api_enabled%22%3Atrue%2C%22longform_notetweets_consumption_enabled%22%3Atrue%2C%22tweet_awards_web_tipping_enabled%22%3Afalse%2C%22freedom_of_speech_not_reach_fetch_enabled%22%3Afalse%2C%22standardized_nudges_misinfo%22%3Atrue%2C%22tweet_with_visibility_results_prefer_gql_limited_actions_policy_enabled%22%3Afalse%2C%22interactive_text_enabled%22%3Atrue%2C%22responsive_web_text_conversations_enabled%22%3Afalse%2C%22longform_notetweets_rich_text_read_enabled%22%3Afalse%2C%22longform_notetweets_inline_media_enabled%22%3Afalse%2C%22responsive_web_enhance_cards_enabled%22%3Afalse%2C%22responsive_web_twitter_blue_verified_badge_is_enabled%22%3Atrue%7D failed, giving up.\n",
            "CRITICAL:snscrape.base:Errors: blocked (404), blocked (404), blocked (404), blocked (404)\n"
          ]
        },
        {
          "output_type": "stream",
          "name": "stdout",
          "text": [
            "Protected account!\n",
            "  adding: content/ (stored 0%)\n",
            "  adding: content/.config/ (stored 0%)\n",
            "  adding: content/.config/.last_survey_prompt.yaml (stored 0%)\n",
            "  adding: content/.config/config_sentinel (stored 0%)\n",
            "  adding: content/.config/default_configs.db (deflated 98%)\n",
            "  adding: content/.config/gce (stored 0%)\n",
            "  adding: content/.config/logs/ (stored 0%)\n",
            "  adding: content/.config/logs/2023.11.16/ (stored 0%)\n",
            "  adding: content/.config/logs/2023.11.16/14.26.47.880958.log (deflated 56%)\n",
            "  adding: content/.config/logs/2023.11.16/14.26.46.958435.log (deflated 57%)\n",
            "  adding: content/.config/logs/2023.11.16/14.23.48.977472.log (deflated 86%)\n",
            "  adding: content/.config/logs/2023.11.16/14.20.45.845874.log (deflated 91%)\n",
            "  adding: content/.config/logs/2023.11.16/14.26.37.082839.log (deflated 58%)\n",
            "  adding: content/.config/logs/2023.11.16/14.23.39.969579.log (deflated 58%)\n",
            "  adding: content/.config/.last_update_check.json (deflated 22%)\n",
            "  adding: content/.config/.last_opt_in_prompt.yaml (stored 0%)\n",
            "  adding: content/.config/active_config (stored 0%)\n",
            "  adding: content/.config/configurations/ (stored 0%)\n",
            "  adding: content/.config/configurations/config_default (deflated 15%)\n"
          ]
        },
        {
          "output_type": "display_data",
          "data": {
            "text/plain": [
              "<IPython.core.display.Javascript object>"
            ],
            "application/javascript": [
              "\n",
              "    async function download(id, filename, size) {\n",
              "      if (!google.colab.kernel.accessAllowed) {\n",
              "        return;\n",
              "      }\n",
              "      const div = document.createElement('div');\n",
              "      const label = document.createElement('label');\n",
              "      label.textContent = `Downloading \"${filename}\": `;\n",
              "      div.appendChild(label);\n",
              "      const progress = document.createElement('progress');\n",
              "      progress.max = size;\n",
              "      div.appendChild(progress);\n",
              "      document.body.appendChild(div);\n",
              "\n",
              "      const buffers = [];\n",
              "      let downloaded = 0;\n",
              "\n",
              "      const channel = await google.colab.kernel.comms.open(id);\n",
              "      // Send a message to notify the kernel that we're ready.\n",
              "      channel.send({})\n",
              "\n",
              "      for await (const message of channel.messages) {\n",
              "        // Send a message to notify the kernel that we're ready.\n",
              "        channel.send({})\n",
              "        if (message.buffers) {\n",
              "          for (const buffer of message.buffers) {\n",
              "            buffers.push(buffer);\n",
              "            downloaded += buffer.byteLength;\n",
              "            progress.value = downloaded;\n",
              "          }\n",
              "        }\n",
              "      }\n",
              "      const blob = new Blob(buffers, {type: 'application/binary'});\n",
              "      const a = document.createElement('a');\n",
              "      a.href = window.URL.createObjectURL(blob);\n",
              "      a.download = filename;\n",
              "      div.appendChild(a);\n",
              "      a.click();\n",
              "      div.remove();\n",
              "    }\n",
              "  "
            ]
          },
          "metadata": {}
        },
        {
          "output_type": "display_data",
          "data": {
            "text/plain": [
              "<IPython.core.display.Javascript object>"
            ],
            "application/javascript": [
              "download(\"download_7d7cca8d-c627-4b0f-a5a4-42c9c0bb660e\", \"\", 4096)"
            ]
          },
          "metadata": {}
        }
      ]
    }
  ]
}