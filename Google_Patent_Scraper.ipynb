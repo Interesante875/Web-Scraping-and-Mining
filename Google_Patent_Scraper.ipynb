{
  "cells": [
    {
      "cell_type": "code",
      "execution_count": null,
      "metadata": {
        "id": "hEYttB-JiWuY"
      },
      "outputs": [],
      "source": [
        "import requests\n",
        "from bs4 import BeautifulSoup\n",
        "import time\n",
        "import re\n",
        "import json\n",
        "import string\n",
        "import pandas as pd\n",
        "import csv\n",
        "import math\n",
        "import os\n",
        "import threading\n",
        "from re import search\n",
        "import urllib.request\n",
        "import secrets\n",
        "import random"
      ]
    },
    {
      "cell_type": "code",
      "execution_count": null,
      "metadata": {
        "id": "6Cb-5QsWiesr"
      },
      "outputs": [],
      "source": [
        "import os.path\n",
        "from os import path\n",
        "dirName = 'Patent'\n",
        "if path.exists(f'/content/{dirName}') == False:\n",
        "    os.mkdir(f'/content/{dirName}')\n"
      ]
    },
    {
      "cell_type": "code",
      "execution_count": null,
      "metadata": {
        "colab": {
          "base_uri": "https://localhost:8080/",
          "height": 53
        },
        "id": "JdFw5fRZ0VKF",
        "outputId": "f1205b5d-e6fc-449d-bb22-70ac1887125c"
      },
      "outputs": [
        {
          "data": {
            "application/vnd.google.colaboratory.intrinsic+json": {
              "type": "string"
            },
            "text/plain": [
              "'\\nwith open(\"proxylist.txt\", \"r\") as file:\\n    for line in file:\\n        ip_and_status = line.rstrip().split(\\'=>\\')\\n        if ip_and_status[1].strip() == \"success\":\\n            ipList.append(ip_and_status[0])'"
            ]
          },
          "execution_count": 4,
          "metadata": {},
          "output_type": "execute_result"
        }
      ],
      "source": [
        "userAgentList = []\n",
        "ipList = []\n",
        "count = 0\n",
        "with open(\"UserAgentList.txt\", \"r\") as file:\n",
        "    for line in file:\n",
        "        userAgentList.append(line.rstrip())\n",
        "        count += 1\n",
        "        if count >= 30:\n",
        "            break\n",
        "\"\"\"\n",
        "with open(\"proxylist.txt\", \"r\") as file:\n",
        "    for line in file:\n",
        "        ip_and_status = line.rstrip().split('=>')\n",
        "        if ip_and_status[1].strip() == \"success\":\n",
        "            ipList.append(ip_and_status[0])\"\"\"\n"
      ]
    },
    {
      "cell_type": "code",
      "execution_count": null,
      "metadata": {
        "id": "BJp-Q1yi1xo3"
      },
      "outputs": [],
      "source": [
        "import sys\n",
        "import urllib.request, socket\n",
        "from threading import Thread\n",
        "\n",
        "socket.setdefaulttimeout(30)\n",
        "\n",
        "def check_proxy(pip):\n",
        "    try:\n",
        "        proxy_handler = urllib.request.ProxyHandler({'https': pip})\n",
        "        opener = urllib.request.build_opener(proxy_handler)\n",
        "        opener.addheaders = [('User-agent', 'Mozilla/5.0')]\n",
        "        urllib.request.install_opener(opener)\n",
        "        sock=urllib.request.urlopen('https://www.myip.com/')  # change the url address here\n",
        "        print(pip)\n",
        "    except urllib.error.HTTPError as e:\n",
        "        return e\n",
        "    except Exception as detail:\n",
        "        return detail\n",
        "    return 0\n",
        "\n",
        "#Example run : echo -ne \"192.168.1.1:231\\n192.168.1.2:231\" | python proxy_checkpy3-async.py\n",
        "proxies = ipList\n",
        "threads = []\n",
        "\n",
        "for proxy in proxies:\n",
        "    thread = Thread( target=check_proxy, args=(proxy.strip(), ))\n",
        "    thread.start()\n",
        "    threads.append(thread)\n",
        "\n",
        "for thread in threads:\n",
        "    thread.join()"
      ]
    },
    {
      "cell_type": "code",
      "execution_count": null,
      "metadata": {
        "id": "ggcw5bls2bF_"
      },
      "outputs": [],
      "source": [
        "workingIpList = [\n",
        "    \"162.248.162.60:8080\",\n",
        "    \"123.30.128.45:3128\",\n",
        "    \"45.65.137.242:999\",\n",
        "    \"47.251.12.225:3128\",\n",
        "    \"180.178.190.70:8080\",\n",
        "    \"5.188.158.243:3128\",\n",
        "    \"47.75.246.213:3128\",\n",
        "    \"45.173.4.190:999\",\n",
        "    \"94.56.27.42:3128\",\n",
        "    \"129.226.113.45:59394\",\n",
        "    \"34.136.28.213:3128\",\n",
        "    \"128.199.124.68:3128\",\n",
        "    \"47.251.42.169:3128\"\n",
        "]\n",
        "\n",
        "proxies = {\n",
        "    'https': f\"https://{secrets.choice(workingIpList)}\"\n",
        "}"
      ]
    },
    {
      "cell_type": "code",
      "execution_count": null,
      "metadata": {
        "id": "_NfGvzNXFbUq"
      },
      "outputs": [],
      "source": [
        "for i in range(10, 10000, 10):\n",
        "    print(i)"
      ]
    },
    {
      "cell_type": "code",
      "execution_count": null,
      "metadata": {
        "colab": {
          "background_save": true,
          "base_uri": "https://localhost:8080/"
        },
        "id": "Cq3UKNMvjRvF",
        "outputId": "fcbb6520-fc90-4466-90c7-ba6b80a185e5"
      },
      "outputs": [
        {
          "name": "stdout",
          "output_type": "stream",
          "text": [
            "10\n",
            "20\n",
            "30\n",
            "40\n",
            "50\n",
            "60\n",
            "70\n",
            "80\n",
            "90\n",
            "100\n",
            "110\n",
            "120\n",
            "130\n",
            "140\n",
            "150\n",
            "160\n",
            "170\n",
            "180\n",
            "190\n",
            "200\n",
            "210\n",
            "220\n",
            "230\n",
            "240\n",
            "250\n",
            "260\n",
            "270\n",
            "280\n",
            "290\n",
            "300\n",
            "310\n",
            "320\n",
            "330\n",
            "340\n",
            "350\n",
            "360\n",
            "370\n",
            "380\n",
            "390\n",
            "400\n",
            "410\n",
            "420\n",
            "430\n",
            "440\n",
            "450\n",
            "460\n",
            "470\n",
            "480\n",
            "490\n",
            "https://www.google.com/patents/US20100252648 Climate Processor  Feb 2, 2010 Published Oct 7, 2010 Nicholas Paul Robinson Nicholas Paul Robinson\n",
            "https://www.google.com/patents/US6862893https://www.google.com/patents/US20100216387 Duct architecture for regulating climate zone in a vehicle  Feb 20, 2009 Published Aug 26, 2010 Mukesh Kumar Ford Global Technologies, Llc\n",
            "https://www.google.com/patents/US9161498  Automatic defog control method for a vehicle climate control ... Oct 3, 2003 Mar 8, 2005 Mingyu Wang Delphi Technologies, Inc.\n",
            "Climate control system and method for a greenhouse  Apr 4, 2014 Oct 20, 2015 F. Mack Shelor Greenhouse Hvac Llc\n",
            "https://www.google.com/patents/DE102013014414A1?cl=en Klimakammer mit einer Inklinationseinrichtung Climate ... https://www.google.com/patents/EP1467100A3?... Aug 29, 2013 https://www.google.com/.../CN101665272A?cl=... Coastal seawater-desalting device powered by solar power ...Published Mar 5, 2015 Walter Jung Daimler Ag\n",
            " https://www.google.com/patents/US4233958 Climate-controlled building construction  Jul 6, 1978 Nov 18, 1980 Carl-Goran Heden Heden Carl Goeran\n",
            "https://www.google.com/.../CN101171464B?cl=... Refrigerant system with variable speed scroll compressor and ... Translate this page Grant Filed May 4, 2005 Issued Nov 23, 2011\n",
            "Hermetic compressors  Translate this page App. Filed Jan 18, 2002 Published Mar 29, 2006\n",
            "https://www.google.com/patents/CN102635503A?cl=en Translate this page App. Filed Aug 21, 2009 Published Mar 10, 2010\n",
            "https://www.google.com/patents/CN104630406B?cl=en Resistance rectifying power cylinder channel  Feb 11, 2011 Published Aug 15, 2012 葛泓杉 葛泓杉\n",
            "https://www.google.com/.../CN101749168A?cl=...https://www.google.com/patents/CN1283923C?... Double volume ratio whiral machinery  Translate this page Grant Filed Oct 16, 2001 Issued Nov 8, 2006\n",
            "焦化炼铁联合发电的间壁回转窑装置 Partition means kiln coking iron cogeneration  Feb 7, 2015 Aug 24, 2016 贾会平 石家庄新华能源环保科技股份有限公司\n",
            " Sea wave-powered ship  Translate this page App. Filed Dec 1, 2008 Published Jun 23, 2010\n",
            "https://www.google.com/patents/US20120024971 Methods for environmental modification with climate control ... Oct 9, 2008 Published Feb 2, 2012 Leslie A. Field Field Leslie A\n",
            "https://www.google.com/.../CN101357874B?cl=... Method for producing low carbon olefinic hydrocarbon from ...https://www.google.com/patents/CN101300942B?cl=en https://www.google.com/patents/US9491911https://www.google.com/patents/US20100127224 Atmospheric injection of reflective aerosol for mitigating ... Sep 30, 2009 Published May 27, 2010 Ryan Neff Ryan Neff\n",
            "https://www.google.com/patents/US20070144723 Vehicle remote control and air climate system  Dec 12, 2006 Published Jun 28, 2007 Jean-Pierre Aubertin Jean-Pierre Aubertin\n",
            "Translate this page Grant Filed Aug 9, 2008   https://www.google.com/patents/CN1223025A?... Real-time pricing control system and method regarding same  Translate this pagehttps://www.google.com/patents/WO2012036606A1?cl=enMethod for simulating moisture surrounding variation of ... May 9, 2007 Method for modifying environmental conditions with ring ... Feb 19, 2014 Nov 15, 2016 Dennis Jason Stelmack Dennis Jason Stelmack\n",
            "Aug 25, 2010 App. Filed Jun 13, 1997 Published Jul 14, 1999https://www.google.com/.../CN103891095A?cl=... Method and system for creating an electric vehicle charging ... Translate this page App. Filed Jul 16, 2012 Published Jun 25, 2014\n",
            "\n",
            "  A building material containing pcm and a climate envelope  Aug 24, 2011 Published Mar 22, 2012 Per Gösta SUNDBERG Sundberg Per Goesta\n",
            "于占源 中国科学院沈阳应用生态研究所\n",
            "Issued Sep 5, 2012\n"
          ]
        },
        {
          "name": "stderr",
          "output_type": "stream",
          "text": [
            "Exception in thread Thread-19:\n",
            "Traceback (most recent call last):\n",
            "  File \"/usr/lib/python3.7/threading.py\", line 926, in _bootstrap_inner\n",
            "    self.run()\n",
            "  File \"/usr/lib/python3.7/threading.py\", line 870, in run\n",
            "    self._target(*self._args, **self._kwargs)\n",
            "  File \"<ipython-input-5-c47ebfc0be42>\", line 28, in run\n",
            "    patent = corpus_soup.find_all('h1')[0].text\n",
            "IndexError: list index out of range\n",
            "Exception in thread Thread-20:\n",
            "Traceback (most recent call last):\n",
            "  File \"/usr/lib/python3.7/threading.py\", line 926, in _bootstrap_inner\n",
            "    self.run()\n",
            "  File \"/usr/lib/python3.7/threading.py\", line 870, in run\n",
            "    self._target(*self._args, **self._kwargs)\n",
            "  File \"<ipython-input-5-c47ebfc0be42>\", line 28, in run\n",
            "    patent = corpus_soup.find_all('h1')[0].text\n",
            "IndexError: list index out of range\n",
            "\n",
            "Exception in thread Thread-21:\n",
            "Traceback (most recent call last):\n",
            "  File \"/usr/lib/python3.7/threading.py\", line 926, in _bootstrap_inner\n",
            "    self.run()\n",
            "  File \"/usr/lib/python3.7/threading.py\", line 870, in run\n",
            "    self._target(*self._args, **self._kwargs)\n",
            "  File \"<ipython-input-5-c47ebfc0be42>\", line 28, in run\n",
            "    patent = corpus_soup.find_all('h1')[0].text\n",
            "IndexError: list index out of range\n",
            "\n",
            "\n"
          ]
        },
        {
          "name": "stdout",
          "output_type": "stream",
          "text": [
            "https://www.google.com/patents/US8651735https://www.google.com/patents/US8196602https://www.google.com/.../CN101219025A?cl=... Self-control cool and warm water bed mattress  Translate this page App. Filed Jan 17, 2008 Published Jul 16, 2008\n",
            " Sensor arrangement for determining an inside temperature in ... Sep 12, 2008 Feb 18, 2014 Johann Regensburger Preh Gmbh\n",
            " Water distribution system for cold climates  Jun 15, 2009 Jun 12, 2012 Jan A. Korzeniowski Korzeniowski Jan A\n",
            "https://www.google.com/patents/WO2014118002A3?cl=en Overvoltage protection device for protecting an onboard ... Jan 15, 2014 Published Dec 18, 2014 Stephan Gase Robert Bosch Gmbhhttps://www.google.com/patents/EP1251218A1?cl=en A device for collecting and storing water from the environment  Apr 21, 2001 Published Oct 23, 2002 Bert Dautzenberg Bert Dautzenberg\n",
            "\n",
            "https://www.google.com/patents/DE2826181A1?cl=en Solar energy water heating system - has hot air blown from ... Jun 15, 1978 Published Dec 20, 1979 Boettcher Alfred ... CLIMATE CHANGE MITIGATION TECHNOLOGIES RELATED TO BUILDINGS, e.g. HOUSING, HOUSE APPLIANCES OR RELATED END-USER APPLICATIONS.\n"
          ]
        },
        {
          "name": "stderr",
          "output_type": "stream",
          "text": [
            "Exception in thread Thread-28:\n",
            "Traceback (most recent call last):\n",
            "  File \"/usr/lib/python3.7/threading.py\", line 926, in _bootstrap_inner\n",
            "    self.run()\n",
            "  File \"/usr/lib/python3.7/threading.py\", line 870, in run\n",
            "    self._target(*self._args, **self._kwargs)\n",
            "  File \"<ipython-input-5-c47ebfc0be42>\", line 28, in run\n",
            "    patent = corpus_soup.find_all('h1')[0].text\n",
            "IndexError: list index out of range\n",
            "\n",
            "Exception in thread Thread-26:\n",
            "Traceback (most recent call last):\n",
            "  File \"/usr/lib/python3.7/threading.py\", line 926, in _bootstrap_inner\n",
            "    self.run()\n",
            "  File \"/usr/lib/python3.7/threading.py\", line 870, in run\n",
            "    self._target(*self._args, **self._kwargs)\n",
            "  File \"<ipython-input-5-c47ebfc0be42>\", line 28, in run\n",
            "    patent = corpus_soup.find_all('h1')[0].text\n",
            "IndexError: list index out of range\n",
            "\n"
          ]
        },
        {
          "name": "stdout",
          "output_type": "stream",
          "text": [
            "https://www.google.com/patents/WO2008087238A1?cl=eshttps://www.google.com/.../CN101149191A?cl=...https://www.google.com/patents/WO2007095894A3?cl=en  https://www.google.com/patents/CN101300942B?cl=en薄钢板正抛物面轴外聚光太阳灶   Translate this page App. Filed Nov 13, 2007 Focusing solar collectors  Feb 9, 2007 Published Nov 1, 2007 Juergen Uehlin Durlum Leuchten Procedimiento acelerado de conversión energética del dióxido ... Jan 15, 2008 Published Jul 24, 2008 Mougin Bernard A.J. Stroïazzo Stroiazzo Mougin Bernard A J\n",
            "Method for simulating moisture surrounding variation of ... May 9, 2007 Aug 25, 2010 于占源 中国科学院沈阳应用生态研究所\n",
            "\n",
            "Published Mar 26, 2008\n",
            "https://www.google.com/patents/EP2163318A2?...https://www.google.com/patents/CN101971728B?cl=en https://www.google.com/patents/WO2011045192A3?cl=de Verfahren und system zum elektroantrieb eines fahrzeuges  Oct 4, 2010 Published Oct 11, 2012 Manfred Fröhler Continental Automotive Gmbh\n",
            "Method for reducing the volume and mass of household waste  Translate this page App. Filed Sep 7, 2009 Published Mar 17, 2010\n",
            " Power device for applying wind-hydrogen new energy to paddy ... Oct 15, 2010 Aug 8, 2012 缪同春 无锡同春新能源科技有限公司\n",
            "https://www.google.com/patents/US20140312644https://www.google.com/patents/WO2014041220A1?cl=es Sistema de revestimiento cerámico con enfriamiento por ... Sep 13, 2013 Published Mar 20, 2014 LÓPEZ Javier GARCÍA Universidad De Sevilla\n"
          ]
        },
        {
          "name": "stderr",
          "output_type": "stream",
          "text": [
            "Exception in thread Thread-40:\n",
            "Traceback (most recent call last):\n",
            "  File \"/usr/lib/python3.7/threading.py\", line 926, in _bootstrap_inner\n",
            "    self.run()\n",
            "  File \"/usr/lib/python3.7/threading.py\", line 870, in run\n",
            "    self._target(*self._args, **self._kwargs)\n",
            "  File \"<ipython-input-5-c47ebfc0be42>\", line 28, in run\n",
            "    patent = corpus_soup.find_all('h1')[0].text\n",
            "IndexError: list index out of range\n",
            "\n",
            "Exception in thread Thread-43:\n",
            "Traceback (most recent call last):\n",
            "  File \"/usr/lib/python3.7/threading.py\", line 926, in _bootstrap_inner\n",
            "    self.run()\n",
            "  File \"/usr/lib/python3.7/threading.py\", line 870, in run\n",
            "    self._target(*self._args, **self._kwargs)\n",
            "  File \"<ipython-input-5-c47ebfc0be42>\", line 28, in run\n",
            "    patent = corpus_soup.find_all('h1')[0].text\n",
            "IndexError: list index out of range\n",
            "\n"
          ]
        },
        {
          "name": "stdout",
          "output_type": "stream",
          "text": [
            "https://www.google.com/patents/US7924545 Apparatus for controlling atmospheric humidity  Dec 10, 2008https://www.google.com/patents/US5975854 Compressor with protection module  May 9, 1997   Apr 12, 2011 Helmut Fluhrer Helmut Fluhrer\n",
            "https://www.google.com/patents/US20150239321 Seat assembly with temperature or humidity sensor  Feb 24, 2015 Published Aug 27, 2015 Christoph MüllerExtensible frontal roof for a motorcycle https://www.google.com/patents/US8033879 Biophysical geoengineering compositions and methods  May 10, 2009 Oct 11, 2011 Kal K Lambert Kal K Lambert\n",
            "https://www.google.com/patents/CN202152012U?cl=en Apr 19, 2013 Published Oct 23, 2014 Amadeo José Srabstein Amadeo José Srabstein\n",
            " Sensirion Ag\n",
            " Nov 2, 1999 Charles H. Culp, III Copeland Corporation\n",
            "A solar energy yacht with an adjustable speed  May 31, 2011 Feb 29, 2012 王绍伟 天津津重重工机器设备制造有限公司\n",
            "https://www.google.com/.../WO1995034941A1?... Digital pulse width modulator with integrated test and control  Translate this page App. Filed Jun 1, 1995 Published Dec 21, 1995\n",
            "https://www.google.com/patents/US20120112694 Method and Arrangement for Data Communication Between A ... Apr 23, 2010 Published May 10, 2012 Thomas Frisch https://www.google.com/.../WO2009082066A3?... Contrôleur de moteur de conditionneur d'air  Translate this page App. Filed Apr 18, 2008 https://www.google.com/patents/CN102009580A?cl=en Multi-temperature area modular intelligent temperature ... Nov 22, 2010 Published Apr 13, 2011 钱永贵 南京奥特佳冷机有限公司\n",
            "Published Aug 23, 2012\n",
            "Daimler Ag\n",
            "https://www.google.com/.../CN103414384B?cl=... 自然资源在建筑物上的综合利用系统  Translate this page Grant Filed Sep 5, 2013 Issued Feb 3, 2016\n"
          ]
        },
        {
          "name": "stderr",
          "output_type": "stream",
          "text": [
            "Exception in thread Thread-51:\n",
            "Traceback (most recent call last):\n",
            "  File \"/usr/lib/python3.7/threading.py\", line 926, in _bootstrap_inner\n",
            "    self.run()\n",
            "  File \"/usr/lib/python3.7/threading.py\", line 870, in run\n",
            "    self._target(*self._args, **self._kwargs)\n",
            "  File \"<ipython-input-5-c47ebfc0be42>\", line 28, in run\n",
            "    patent = corpus_soup.find_all('h1')[0].text\n",
            "IndexError: list index out of range\n",
            "\n",
            "Exception in thread Thread-57:\n",
            "Traceback (most recent call last):\n",
            "  File \"/usr/lib/python3.7/threading.py\", line 926, in _bootstrap_inner\n",
            "    self.run()\n",
            "  File \"/usr/lib/python3.7/threading.py\", line 870, in run\n",
            "    self._target(*self._args, **self._kwargs)\n",
            "  File \"<ipython-input-5-c47ebfc0be42>\", line 28, in run\n",
            "    patent = corpus_soup.find_all('h1')[0].text\n",
            "IndexError: list index out of range\n",
            "\n",
            "Exception in thread Thread-50:\n",
            "Traceback (most recent call last):\n",
            "  File \"/usr/lib/python3.7/threading.py\", line 926, in _bootstrap_inner\n",
            "    self.run()\n",
            "  File \"/usr/lib/python3.7/threading.py\", line 870, in run\n",
            "    self._target(*self._args, **self._kwargs)\n",
            "  File \"<ipython-input-5-c47ebfc0be42>\", line 28, in run\n",
            "    patent = corpus_soup.find_all('h1')[0].text\n",
            "IndexError: list index out of range\n",
            "\n"
          ]
        },
        {
          "name": "stdout",
          "output_type": "stream",
          "text": [
            "Climate US4233958A\n",
            "https://www.google.com/patents/EP3177877A1?... Systèmes de régulation de climat utilisant des matériaux ... Translate this page App. Filed Aug 4, 2015 Published Jun 14, 2017\n",
            "Resistance rectifying power cylinder channel CN102635503A\n",
            "https://www.google.com/patents/US20150209246 Skincare system  Jan 29, 2015 Published Jul 30, 2015 Ulrike Haslacher Pour Moi Beauty, LLC\n",
            "Climate chamber with an inclination device DE102013014414A1\n",
            "https://www.google.com/patents/CN103419595A?cl=en Adaptive automatic climate control for vehicles  May 16, 2013 Published Dec 4, 2013 B.塞巴斯蒂安 通用汽车环球科技运作有限责任公司\n",
            "Solar energy water heating system DE2826181A1\n",
            "https://www.google.com/patents/CN202587970U?cl=en Solar energy active thermal-arrest system in daylight ... Nov 17, 2011 Dec 12, 2012 陶光远 陶光远\n",
            "Sensor arrangement for determining an inside temperature in a motor vehicleA device for collecting and storing water from the environment  EP1251218A1The partition rotary kiln device of coking ironmaking cogeneration CN104630406B\n",
            "\n",
            "https://www.google.com/patents/CN1676937A?...US8651735B2\n",
            "https://www.google.com/patents/WO2012016183A2?cl=en Apparatus for preventing overheating of scroll compressor  Translate this page App. Filed Mar 31, 2005 Published Oct 5, 2005\n",
            "https://www.google.com/patents/CN101637103A?cl=en  Short growth cycle, high yield, cold tolerant cassava ...Maintainer applying solar-energy photovoltaic generating ...  Aug 17, 2009 Published Feb 3, 2010 缪同春 无锡市新区梅村镇同春太阳能光伏农业种植园\n",
            "Jul 29, 2011 Published Feb 2, 2012 Martin Fregene Green Concepts International Llc\n",
            "A building material containing pcm and a climate envelope WO2012036606A1\n",
            "https://www.google.com/patents/US6041609Hermetic compressors Compressor with control electronics  Jul 3, 1996 Mar 28, 2000 Steen Hornsleth Danfoss A/S\n",
            " EP1467100A3\n",
            "https://www.google.com/patents/CN104237076A?cl=en Method for rapidly detecting water absorption of waterproof ... Sep 17, 2014 Published Dec 24, 2014 赵文科 北新集团建材股份有限公司\n",
            "Overvoltage protection device for protecting an onboard power system of an electric vehicle from electrical overvoltage and corresponding method and electric vehicle having the overvoltage protection device WO2014118002A3\n",
            "https://www.google.com/patents/WO2016009418A1?cl=en A heating system and a method for controlling a heating system  Jul 14, 2015 Published Jan 21, 2016 Bernard Michael KEANE Keane Bernard Michael\n",
            "Method for simulating moisture surrounding variation of sandy woodland grassland ecologic system and facilities CN101300942B\n",
            "https://www.google.com/patents/CN202974425U?cl=en Wind turbine generator noise testing system  Oct 26, 2012 Jun 5, 2013 马晓晶 中国电力科学研究院\n",
            "Climate control system and method for a greenhouse US9161498B1\n",
            "https://www.google.com/patents/CA2570946C?cl=en Vehicle remote control and air climate system  Dec 12, 2006 Feb 11, 2014 Jean-Pierre Aubertin Fortin Auto Radio Inc.\n",
            "Duct architecture for regulating climate zone in a vehicle US20100216387A1\n",
            "https://www.google.com/patents/US20060191270 Air conditioning system for a garment  Feb 25, 2005 Published Aug 31, 2006 Ray Warren Ray Warren\n",
            "Climate Processor US20100252648A1\n",
            "Vehicle remote control and air climate systemhttps://www.google.com/patents/US8346493 US20070144723A1\n",
            "https://www.google.com/patents/DE102016005409A1?cl=en  Überdruck-Gargerät mit der Zuführvorrichtung für kaltes ... May 2, 2016 Published Nov 16, 2017 Anmelder Gleich Gustatus Holding Gmbh\n",
            "Method for deploying climate sensor in indoor space and ... Dec 10, 2009 Jan 1, 2013 Jing-Tian Sung Institute For Information Industry\n",
            "Verfahren und system zum elektroantrieb eines fahrzeuges WO2011045192A3\n",
            "https://www.google.com/.../CN101901944A?cl=... 管理本地电力基础设施上的电动车辆充电负载的方法  Translate this page App. Filed Apr 30, 2010 Published Dec 1, 2010\n",
            "Focusing solar collectors WO2007095894A3\n",
            "https://www.google.com/patents/US5899081 Heating and cooling unit using power inverter with battery  Mar 31, 1997 May 4, 1999 David K. Evans White Consolidated Industries, Inc.\n",
            "Method for simulating moisture surrounding variation of sandy woodland grassland ecologic system and facilitiesAutomatic defog control method for a vehicle climate control system  CN101300942B\n",
            "US6862893B1\n",
            "https://www.google.com/patents/EP1205340A1?cl=en Electric vehicle charging station  Nov 10, 2000 Published May 15, 2002 Adrian Robert Mould Adrian Robert Mould\n",
            "Atmospheric injection of reflective aerosol for mitigating global warminghttps://www.google.com/patents/WO2016024163A1?cl=en Climate control systems using pozzolan materials  Aug 4, 2015 Published Feb 18, 2016 Nassar Mahmoud AL-MADHOUN King Abdullah University Of Science And Technology\n",
            "Method for modifying environmental conditions with ring comprised of magnetic material US9491911B2\n",
            "https://www.google.com/.../WO2017121509A1?... US20100127224A1\n",
            "A solar energy yacht with an adjustable speedhttps://www.google.com/.../WO2013021998A1?... Control device  Translate this page App. Filed Aug 7, 2012 Published Feb 14, 2013\n",
            " Electrical system for a vehicle, vehicle and method for ... Translate this page App. Filed Oct 26, 2016 Published Jul 20, 2017\n",
            " CN202152012U\n",
            "https://www.google.com/patents/CN203729312U?cl=en Steep slope greening structure with supporting type thick ... Dec 5, 2013 Jul 23, 2014 沈向军 大连环复生态技术有限公司\n"
          ]
        },
        {
          "name": "stderr",
          "output_type": "stream",
          "text": [
            "Exception in thread Thread-55:\n",
            "Traceback (most recent call last):\n",
            "  File \"/usr/lib/python3.7/threading.py\", line 926, in _bootstrap_inner\n",
            "    self.run()\n",
            "  File \"/usr/lib/python3.7/threading.py\", line 870, in run\n",
            "    self._target(*self._args, **self._kwargs)\n",
            "  File \"<ipython-input-5-c47ebfc0be42>\", line 28, in run\n",
            "    patent = corpus_soup.find_all('h1')[0].text\n",
            "IndexError: list index out of range\n",
            "\n"
          ]
        },
        {
          "name": "stdout",
          "output_type": "stream",
          "text": [
            "Power device for applying wind CN101971728B\n",
            "https://www.google.com/patents/US4244182 Apparatus for controlling refrigerant feed rate in a ... Dec 20, 1977 Jan 13, 1981 Joseph L. Behr Emerson Electric Co.\n",
            "Water distribution system for cold climates US8196602B2\n",
            "å®æ¶ä¼°ä»·æ§å¶ç³»ç»åä¸ä¹ç¸å³çæ¹æ³ CN1223025A\n",
            "https://www.google.com/patents/WO2005030394A1?cl=enhttps://www.google.com/patents/CN103444038A?cl=en Management of energy supply for local energy transport network  Jan 24, 2012 Published Dec 11, 2013 L.马苏利 Climatic chamber for microscopes  Sep 20, 2004 Published Apr 7, 2005 Matthias Pirsch Evotec Technologies Gmbh\n",
            " 汤姆逊许可公司\n"
          ]
        },
        {
          "name": "stderr",
          "output_type": "stream",
          "text": [
            "Exception in thread Thread-35:\n",
            "Traceback (most recent call last):\n",
            "  File \"/usr/lib/python3.7/threading.py\", line 926, in _bootstrap_inner\n",
            "    self.run()\n",
            "  File \"/usr/lib/python3.7/threading.py\", line 870, in run\n",
            "    self._target(*self._args, **self._kwargs)\n",
            "  File \"<ipython-input-5-c47ebfc0be42>\", line 28, in run\n",
            "    patent = corpus_soup.find_all('h1')[0].text\n",
            "IndexError: list index out of range\n",
            "\n",
            "Exception in thread Thread-24:\n",
            "Traceback (most recent call last):\n",
            "  File \"/usr/lib/python3.7/threading.py\", line 926, in _bootstrap_inner\n",
            "    self.run()\n",
            "  File \"/usr/lib/python3.7/threading.py\", line 870, in run\n",
            "    self._target(*self._args, **self._kwargs)\n",
            "  File \"<ipython-input-5-c47ebfc0be42>\", line 28, in run\n",
            "    patent = corpus_soup.find_all('h1')[0].text\n",
            "IndexError: list index out of range\n",
            "\n"
          ]
        },
        {
          "name": "stdout",
          "output_type": "stream",
          "text": [
            "Procedimiento acelerado de conversiÃ³n energÃ©tica del diÃ³xido de carbono WO2008087238A1\n",
            "https://www.google.com/patents/CN102322301B?cl=zh 一种实现燃煤发电-CO<sub>2</sub>捕获-供热一体化的方法  Jun 1, 2011 Jun 25, 2014 徐钢 华北电力大学\n",
            "Methods for environmental modification with climate control materials and coverings US20120024971A1\n",
            "https://www.google.com/patents/US20100126062 Sistema de revestimiento cerÃ¡mico con enfriamiento por evapotranspiraciÃ³nGreenhouse and forced greenhouse climate control system and ... Dec 11, 2009 Published May 27, 2010 Casey Houweling Houweling Nurseries Oxnard, Inc.\n",
            " WO2014041220A1\n",
            "https://www.google.com/patents/WO2004050399A1?cl=en Air conditioning method  Nov 28, 2003 Published Jun 17, 2004 Peter Nonnenmacher Daimlerchrysler Ag\n",
            "Method and Arrangement for Data Communication Between A Service Provider and A Vehicle US20120112694A1\n",
            "Extensible frontal roof for a motorcycle https://www.google.com/patents/WO2013068313A1?cl=en Air-conditioning device  Nov 5, 2012 Published May 16, 2013 Michael Rudi Seifert Seifert Mtm Systems Malta Ltd.\n",
            "US20140312644A1\n",
            "https://www.google.com/patents/CA2089783A1?cl=en Scroll type compressor with variable displacement mechanism  Feb 18, 1993 Published Aug 19, 1993 Hiroyuki Yokoyama Hiroyuki Yokoyama\n",
            "åå®¹ç§¯æ¯çæ¶¡ææºæ¢° CN1283923C\n",
            "Compressor with protection module US5975854A\n",
            "https://www.google.com/patents/CN203435467U?cl=en Plant growth supplementary lighting and water replenishing ... Aug 9, 2013 Feb 19, 2014 王 琦 陕西旭田光电农业科技有限公司\n",
            "https://www.google.com/patents/WO2013052027A3?cl=en Battery powered vehicle with immobilizing charger plug  Oct 3, 2011 Published Apr 10, 2014 Sebastian SchyggeVerfahren zur Volumen Husqvarna Ab \n",
            "EP2163318A2\n",
            "https://www.google.com/patents/EP2789598A1?cl=en Process for obtaining compost from wastewaters produced by ... Apr 10, 2014 Published Oct 15, 2014 designation of the inventor has not yet been filed The Manios, Thrassyvoulos\n",
            "Apparatus for controlling atmospheric humidity US7924545B2\n",
            "https://www.google.com/patents/US6237675 Automatic temperature controlled seats  Jun 14, 1999 May 29, 2001 Chris George Oehring Ford Global Technolgies, Inc.\n",
            "Multi CN102009580A\n",
            "https://www.google.com/patents/US4046532 Refrigeration load shedding control device  Jul 14, 1976 Sep 6, 1977 Lorne W. Nelson Honeywell Inc.\n",
            "Seat assembly with temperature or humidity sensor US20150239321A1\n",
            "https://www.google.com/patents/WO1998031073A2?cl=fr Dispositif coupleur electrique  Jan 13, 1998 Published Jul 16, 1998 Yuri Bolotinsky Advanced Metal Technologies Ltd.\n",
            "Climate control systems using pozzolan materials EP3177877A1\n",
            "https://www.google.com/patents/EP0888404B1?... Film et revetement en matiere plastique resistant aux uv ... Translate this page Grant Filed Apr 17, 1997 Issued Sep 27, 2000\n",
            "Short growth cycle, high yield, cold tolerant cassava germplasm: their production and use in fuel ethanol, starch, sucrose, food, and feed value WO2012016183A2\n",
            "https://www.google.com/patents/EP1030123A2?cl=en Wind turbine generator noise testing systemHeating and power unit  Feb 15, 2000 Published Aug 23, 2000  CN202974425UJoachim Berg Joh. Vaillant GmbH u. Co.\n",
            "\n",
            "https://www.google.com/patents/EP1205340A1?cl=en Electric vehicle charging station  Nov 10, 2000 Published May 15, 2002 Adrian Robert Mould Adrian Robert Mould\n",
            "Solar energy active thermal CN202587970U\n",
            "https://www.google.com/.../CN100521328C?cl=... 一种燃料电池用气体扩散层及其制备  Translate this page Grant Filed Sep 29, 2006 Issued Jul 29, 2009\n",
            "Skincare system US20150209246A1\n",
            "https://www.google.com/.../CN202076302U?cl=... Device capable of automatically cleaning solar battery ... Translate this page Grant Filed Apr 30, 2011 Issued Dec 14, 2011\n",
            "ä¸ç§å®ç°çç¤åçµ CN102322301B\n",
            "https://www.google.com/patents/CN102464531A?cl=zhAdaptive automatic climate control for vehicles CN103419595A\n",
            "https://www.google.com/patents/CA2777694A1?cl=en Greenhouse and forced greenhouse climate control system and ... May 7, 2010 Published Jun 16, 2011 Geurt Reinders Houweling Nurseries Oxnard, Inc.\n",
            " 由甲醇催化制备低碳烯烃的方法  Nov 17, 2010 Published May 23, 2012 齐国祯 中国石油化工股份有限公司\n"
          ]
        },
        {
          "name": "stderr",
          "output_type": "stream",
          "text": [
            "Exception in thread Thread-41:\n",
            "Traceback (most recent call last):\n",
            "  File \"/usr/lib/python3.7/threading.py\", line 926, in _bootstrap_inner\n",
            "    self.run()\n",
            "  File \"/usr/lib/python3.7/threading.py\", line 870, in run\n",
            "    self._target(*self._args, **self._kwargs)\n",
            "  File \"<ipython-input-5-c47ebfc0be42>\", line 28, in run\n",
            "    patent = corpus_soup.find_all('h1')[0].text\n",
            "IndexError: list index out of range\n",
            "\n",
            "Exception in thread Thread-18:\n",
            "Traceback (most recent call last):\n",
            "  File \"/usr/lib/python3.7/threading.py\", line 926, in _bootstrap_inner\n",
            "    self.run()\n",
            "  File \"/usr/lib/python3.7/threading.py\", line 870, in run\n",
            "    self._target(*self._args, **self._kwargs)\n",
            "  File \"<ipython-input-5-c47ebfc0be42>\", line 28, in run\n",
            "    patent = corpus_soup.find_all('h1')[0].text\n",
            "IndexError: list index out of range\n",
            "\n"
          ]
        },
        {
          "name": "stdout",
          "output_type": "stream",
          "text": [
            "A heating system and a method for controlling a heating system WO2016009418A1\n",
            "https://www.google.com/.../WO2014143006A1?... Portable electric vehicle charging device  Translate this page Method for rapidly detecting water absorption of waterproof gypsum board coreApp. Filed Mar 15, 2013 Published Sep 18, 2014\n",
            " CN104237076A\n",
            "https://www.google.com/patents/EP2043241A3?cl=en Motor Drive Using Flux Adjustment to Control Power Factor  Sep 26, 2008 Published Dec 3, 2014 Manish Pande Rockwell Automation Technologies, Inc.\n",
            "Biophysical geoengineering compositions and methods US8033879B2\n",
            "https://www.google.com/patents/US5085565 Axially compliant scroll with rotating pressure chambers  Sep 24, 1990 Feb 4, 1992 Thomas R. Barito Carrier Corporation\n",
            "Vehicle remote control and air climate system CA2570946C\n",
            "https://www.google.com/patents/US7966835 Thermal module for climate-controlled seat assemblies  Sep 14, 2009 Jun 28, 2011 Dusko Petrovski Amerigon Incorporated\n"
          ]
        },
        {
          "name": "stderr",
          "output_type": "stream",
          "text": [
            "Exception in thread Thread-32:\n",
            "Traceback (most recent call last):\n",
            "  File \"/usr/lib/python3.7/threading.py\", line 926, in _bootstrap_inner\n",
            "    self.run()\n",
            "  File \"/usr/lib/python3.7/threading.py\", line 870, in run\n",
            "    self._target(*self._args, **self._kwargs)\n",
            "  File \"<ipython-input-5-c47ebfc0be42>\", line 28, in run\n",
            "    patent = corpus_soup.find_all('h1')[0].text\n",
            "IndexError: list index out of range\n",
            "\n"
          ]
        },
        {
          "name": "stdout",
          "output_type": "stream",
          "text": [
            "Maintainer applying solar CN101637103A\n",
            "https://www.google.com/.../CN102738848B?cl=... 电动车辆的充电系统和电动车辆的充电方法  Translate this page Grant Filed Sep 8, 2011 Issued Aug 26, 2015\n",
            "Climate control systems using pozzolan materials WO2016024163A1\n",
            "https://www.google.com/patents/US7266959 Cold climate air-source heat pump  Feb 3, 2005 Sep 11, 2007 Donald Lewis Donald Lewis\n"
          ]
        },
        {
          "name": "stderr",
          "output_type": "stream",
          "text": [
            "Exception in thread Thread-38:\n",
            "Traceback (most recent call last):\n",
            "  File \"/usr/lib/python3.7/threading.py\", line 926, in _bootstrap_inner\n",
            "    self.run()\n",
            "  File \"/usr/lib/python3.7/threading.py\", line 870, in run\n",
            "    self._target(*self._args, **self._kwargs)\n",
            "  File \"<ipython-input-5-c47ebfc0be42>\", line 28, in run\n",
            "    patent = corpus_soup.find_all('h1')[0].text\n",
            "IndexError: list index out of range\n",
            "\n"
          ]
        },
        {
          "name": "stdout",
          "output_type": "stream",
          "text": [
            "Compressor with control electronics US6041609A\n",
            "https://www.google.com/patents/EP0217558B1?cl=en Diagnostic system for detecting faulty sensors in a ... Sep 4, 1986 May 15, 1991 John C. Hansen York International Corporation\n",
            "Method for deploying climate sensor in indoor space and storage medium for storing thereof US8346493B2\n",
            "https://www.google.com/patents/US6224478 Climate control system  Sep 1, 1999 May 1, 2001 Roger Keith Baker Rover Group Limited\n",
            "Air conditioning system for a garment US20060191270A1\n",
            "https://www.google.com/patents/US20080027885 Gas-energy observatory  Jul 31, 2006 Published Jan 31, 2008 Mauritius H.P.M. van Putten Van Putten Mauritius H P M\n",
            "æ¶¡æå¼åç¼©æºçé²è¿ç­è£ç½® Overpressure cooking device with the supply device for cold compressed air DE102016005409A1\n",
            "CN1676937Ahttps://www.google.com/patents/WO2012036606A1?cl=en A building material containing pcm and a climate envelope  Aug 24, 2011 Published Mar 22, 2012 Per Gösta SUNDBERG Sundberg Per Goesta\n",
            "\n",
            "https://www.google.com/patents/CN102372503A?cl=en New energy source agriculture and forestry biomass hydrogen ... Aug 18, 2010 Published Mar 14, 2012 张永锋 张永锋\n",
            "Steep slope greening structure with supporting type thick layer substrate CN203729312U\n",
            "https://www.google.com/patents/CN201609656U?cl=en Voc及甲醛释放量检测气候箱 Voc and formaldehyde emission detection ... Air conditioning method WO2004050399A1Feb 8, 2010 Oct 20, 2010 \n",
            "吴海涛 济南海纳特科技有限公司\n",
            "https://www.google.com/patents/US4233958 Climate-controlled building construction  Jul 6, 1978 Nov 18, 1980 Carl-Goran Heden Heden Carl Goeran\n",
            "Electric vehicle charging station Plant growth supplementary lighting and water replenishing deviceEP1205340A1\n",
            " CN203435467Uhttps://www.google.com/patents/EP1149727A1?cl=en \n",
            "System for high efficiency motor control  https://www.google.com/patents/CN2534565Y?... 雨量计  Translate this page Grant Filed Mar 29, 2002 Issued Feb 5, 2003\n",
            "Mar 30, 2001 Published Oct 31, 2001 Li Chen Ecostar Electric Drive Systems L.L.C.\n",
            "Management of energy supply for local energy transport network CN103444038A\n",
            "https://www.google.com/patents/WO2013188188A3?cl=en Locking device for electric vehicle charging connector  Jun 5, 2013 Published Feb 20, 2014 Gerardo Rodriguez Najera Schneider Electric USA, Inc.\n",
            "Apparatus for controlling refrigerant feed rate in a refrigeration system US4244182A\n",
            "https://www.google.com/patents/US5869960 Digital power consumption meter for displaying instantaneous ... Dec 19, 1996 Feb 9, 1999 Ethan Brand Brand; Ethan\n",
            "Battery powered vehicle with immobilizing charger plug WO2013052027A3\n",
            "https://www.google.com/patents/CN102396548A?cl=en High-performance mosquito-repellent incense  Sep 9, 2010 Published Apr 4, 2012 唐海建 唐海建\n",
            "Climatic chamber for microscopes WO2005030394A1\n",
            "https://www.google.com/patents/EP1711050A1?cl=en Method for holding poikilothermic poultry, and device for ... Jan 23, 2004 Heating and cooling unit using power inverter with batteryPublished Oct 18, 2006 Tjitze Meter HatchTech Group B.V.\n",
            "Air WO2013068313A1\n",
            "https://www.google.com/patents/CN1489278A?... 电机控制系统及方法  Translate this page App. Filed May 13, 2003 Published Apr 14, 2004\n",
            " US5899081A\n",
            "https://www.google.com/.../CN103701166B?cl=... 一种电动汽车及其交流充电车辆控制装置供电电路 An electric car and charging AC power ... Translate this page Grant Filed Dec 13, 2013 Issued Jun 1, 2016\n",
            "Greenhouse and forced greenhouse climate control system and method US20100126062A1\n",
            "https://www.google.com/patents/US20040231234 Palm diesel with low pour point for climate countries  May 19, 2003 Published Nov 25, 2004 Choo May May Choo Yuen\n",
            "Scroll type compressor with variable displacement mechanism CA2089783A1\n",
            "https://www.google.com/patents/US8571739 "
          ]
        },
        {
          "name": "stderr",
          "output_type": "stream",
          "text": [
            "Exception in thread Thread-39:\n",
            "Traceback (most recent call last):\n",
            "  File \"/usr/lib/python3.7/threading.py\", line 926, in _bootstrap_inner\n",
            "    self.run()\n",
            "  File \"/usr/lib/python3.7/threading.py\", line 870, in run\n",
            "    self._target(*self._args, **self._kwargs)\n",
            "  File \"<ipython-input-5-c47ebfc0be42>\", line 28, in run\n",
            "    patent = corpus_soup.find_all('h1')[0].text\n",
            "IndexError: list index out of range\n",
            "\n"
          ]
        },
        {
          "name": "stdout",
          "output_type": "stream",
          "text": [
            "Drive system for a plug-in hybrid motor vehicle  Jun 28, 2012 Oct 29, 2013 Marco Fleckner Dr. Ing. H.C.F. Porsche Aktiengesellschaft\n",
            "Dispositif coupleur electrique WO1998031073A2\n",
            "https://www.google.com/patents/CN102949997B?cl=en Catalyst-absorbent complex for absorbing and strengthening ... Sep 18, 2012 Jan 7, 2015 周志明 华东理工大学\n",
            "ç±ç²éå¬åå¶å¤ä½ç¢³ç¯ççæ¹æ³ CN102464531A\n",
            "Process for obtaining compost from wastewaters produced by olive oil mills https://www.google.com/patents/CN103773809B?cl=zh EP2789598A1\n",
            "https://www.google.com/patents/EP3154815A1?cl=en 餐厨垃圾与有机垃圾的车库式干法发酵综合处理方法  Jan 27, 2014 May 11, 2016 徐蔚航 徐蔚航\n",
            "Variable resistance serial hybrid electric vehicle  Jun 9, 2015 Published Apr 19, 2017 Richard Kronfeld RahtMobile LLC\n",
            "Refrigeration load shedding control device US4046532A\n",
            "https://www.google.com/patents/US20090190443 Sunset Timer with Random Automatic Mode  Apr 1, 2009 Published Jul 30, 2009 Andrew H. Huizi Jg Digital Technologies, Llc\n",
            "Automatic temperature controlled seats US6237675B1\n",
            "https://www.google.com/patents/CN1680718A?cl=en Dual volume-ratio scroll machine  Oct 16, 2001 Published Oct 12, 2005 斯蒂芬·M·塞贝尔 科普兰公司\n",
            "Uv resistant plastic film or coating used for climate protection EP0888404B1\n",
            "https://www.google.com/patents/EP1504232A4?... Commande d'une bobine de refroidissement et de chauffage ... Translate this page App. Filed May 7, 2003 Published Jun 25, 2008\n",
            "Electric vehicle charging station EP1205340A1\n",
            "https://www.google.com/patents/CA2071920C?cl=en Automatic flashover protection for locomotive traction motors  Aug 9, 1991 Jan 28, 2003 Ronald Barry Bailey Ronald Barry Bailey\n",
            "Heating and power unit EP1030123A2Greenhouse and forced greenhouse climate control system and method CA2777694A1\n",
            "https://www.google.com/patents/US6983889\n",
            " Forced-air zone climate control system for existing ... Mar 21, 2003 Jan 10, 2006 Harold Gene Alles Home Comfort Zones, Inc.\n",
            "https://www.google.com/.../CN203608627U?cl=... 一种多功能花苗培育房 Climate control system  US6224478B1\n",
            "https://www.google.com/patents/US7155377 Translate this page Grant Filed Dec 26, 2013 Issued May 28, 2014\n",
            "Method and system for calculating the spatial-temporal ... Aug 23, 2001 Dec 26, 2006 Warren P. Porter Wisconsin Alumni Research Foundation\n",
            "Motor Drive Using Flux Adjustment to Control Power Factor EP2043241A3\n",
            "https://www.google.com/patents/US6454178 Adaptive controller for an automotive HVAC system  May 24, 2001 Sep 24, 2002 Frank Fusco Ford Global Technologies, Inc.\n"
          ]
        },
        {
          "name": "stderr",
          "output_type": "stream",
          "text": [
            "Exception in thread Thread-36:\n",
            "Traceback (most recent call last):\n",
            "  File \"/usr/lib/python3.7/threading.py\", line 926, in _bootstrap_inner\n",
            "    self.run()\n",
            "  File \"/usr/lib/python3.7/threading.py\", line 870, in run\n",
            "    self._target(*self._args, **self._kwargs)\n",
            "  File \"<ipython-input-5-c47ebfc0be42>\", line 28, in run\n",
            "    patent = corpus_soup.find_all('h1')[0].text\n",
            "IndexError: list index out of range\n",
            "\n"
          ]
        },
        {
          "name": "stdout",
          "output_type": "stream",
          "text": [
            "Climate US4233958A\n",
            "https://www.google.com/patents/WO2015116875A1?cl=enNew energy source agriculture and forestry biomass hydrogen energy electricity generation and efficient fertilizerVOC and formaldehyde release amount detection climatic chest CN201609656U\n",
            "https://www.google.com/patents/US4408660 Vehicle humidity control apparatus for preventing fogging of ... Oct 20, 1980 Oct 11, 1983  Skincare system  Jan 29, 2015 Published Aug 6, 2015CN102372503A  Ulrike Haslacher Pour Moi Beauty, LLC\n",
            "\n",
            "Shinji Sutohhttps://www.google.com/patents/EP1027540A4?cl=en  Diesel Kiki Company, Ltd.\n",
            "Compressor system and method and control for same  Oct 27, 1998 Published May 6, 2004 Steven D Centers Coltec Ind Inc\n",
            "Locking device for electric vehicle charging connector WO2013188188A3\n",
            "https://www.google.com/patents/WO2012130503A3?cl=en Method for operating an electric machine in short-circuit ... Jan 31, 2012 Published Feb 7, 2013 A building material containing pcm and a climate envelopeTino Merkel Robert Bosch Gmbh\n",
            " WO2012036606A1\n",
            "https://www.google.com/patents/US6041609High Compressor with control electronics  Jul 3, 1996 Mar 28, 2000 Steen Hornsleth Danfoss A/S\n",
            " CN102396548A\n",
            "https://www.google.com/patents/CN1210185A?... 佛甲草在屋顶绿化上的应用  Translate this page App. Filed Sep 12, 1998 Published Mar 10, 1999\n",
            "é¨éè®¡ CN2534565Y\n",
            "https://www.google.com/.../CN101872390A?cl=... Method for making traditional Chinese medicine syndrome ... Translate this page App. Filed Jul 12, 2010 Published Oct 27, 2010\n",
            "System for high efficiency motor control EP1149727A1\n",
            "https://www.google.com/patents/US20050278071 Adaptable HVAC; AC motor speed, air temperature and air ... Jun 14, 2004 Digital power consumption meter for displaying instantaneous and consumed electric power of an electrical devicePublished Dec 15, 2005 Ormonde Durham Durham Ormonde G Iii\n",
            " US5869960A\n",
            "Gas US20080027885A1\n",
            "https://www.google.com/patents/CN1108453C?...https://www.google.com/patents/US7155377  涡旋式气体压缩机  Cold climate airTranslate this page Grant US7266959B2\n",
            "Method and system for calculating the spatial-temporal ... Aug 23, 2001 Dec 26, 2006 Warren P. Porter Wisconsin Alumni Research Foundation\n",
            "https://www.google.com/patents/CN204313386U?cl=en Container-type air-conditioning module for power boxes of ... Sep 19, 2014 May 6, 2015 姜典举 青岛海尔开利冷冻设备有限公司\n",
            " Filed Jul 22, 1997 Issued May 14, 2003\n"
          ]
        },
        {
          "name": "stderr",
          "output_type": "stream",
          "text": [
            "Exception in thread Thread-22:\n",
            "Traceback (most recent call last):\n",
            "  File \"/usr/lib/python3.7/threading.py\", line 926, in _bootstrap_inner\n",
            "    self.run()\n",
            "  File \"/usr/lib/python3.7/threading.py\", line 870, in run\n",
            "    self._target(*self._args, **self._kwargs)\n",
            "  File \"<ipython-input-5-c47ebfc0be42>\", line 28, in run\n",
            "    patent = corpus_soup.find_all('h1')[0].text\n",
            "IndexError: list index out of range\n",
            "\n"
          ]
        },
        {
          "name": "stdout",
          "output_type": "stream",
          "text": [
            "Axially compliant scroll with rotating pressure chambers US5085565A\n",
            "Method for holding poikilothermic poultry, and device for holding poikilothermic poultry EP1711050A1\n",
            "https://www.google.com/patents/WO2004099683B1?cl=en Predictive maintainance and equipment monitoring for a ... Apr 29, 2004https://www.google.com/patents/US4258304 Battery charger for electrical vehicle   Published Feb 17, 2005Sep 19, 1978 Thomas J Mathews Emerson Retail Services Inc\n",
            " Mar 24, 1981 Robert F. Bourke Gould Inc.\n",
            "Diagnostic system for detecting faulty sensors in a refrigeration systemCatalyst EP0217558B1\n",
            " CN102949997B\n"
          ]
        },
        {
          "name": "stderr",
          "output_type": "stream",
          "text": [
            "Exception in thread Thread-27:\n",
            "Traceback (most recent call last):\n",
            "  File \"/usr/lib/python3.7/threading.py\", line 926, in _bootstrap_inner\n",
            "    self.run()\n",
            "  File \"/usr/lib/python3.7/threading.py\", line 870, in run\n",
            "    self._target(*self._args, **self._kwargs)\n",
            "  File \"<ipython-input-5-c47ebfc0be42>\", line 32, in run\n",
            "    abstract_section = corpus_soup.find('div', {'class':'abstract'}).text\n",
            "AttributeError: 'NoneType' object has no attribute 'text'\n",
            "\n"
          ]
        },
        {
          "name": "stdout",
          "output_type": "stream",
          "text": [
            "https://www.google.com/patents/DE102011056553A1?cl=de Stecker mit Indikatororgan und an einer Leitung anbringbarer ... Dec 16, 2011 Published Jun 20, 2013 Thomas Reissnegger Tyco Electronics Amp Gmbh\n",
            "Palm diesel with low pour point for climate countries US20040231234A1\n",
            "https://www.google.com/patents/US7188779 Zone climate control  Jun 22, 2004 Mar 13, 2007 Harold Gene Alles Home Comfort Zones\n",
            "Sunset Timer with Random Automatic Mode US20090190443A1\n",
            "https://www.google.com/patents/US6640890çµæºæ§å¶ç³»ç»åæ¹æ³ CN1489278A\n",
            "https://www.google.com/patents/US6446508 Vibration compartment environmental control  Jan 17, 2001 Multiple zone automatic HVAC control system and method  Sep 10, 2002 Clinton A. Peterson Venturedyne, Ltd. \n",
            "Jun 5, 2000 Nov 4, 2003 Gerhard Allen Dage Visteon Global Technologies, Inc.\n",
            "Thermal module for climate US7966835B2\n",
            "https://www.google.com/patents/DE202004009310U1?cl=en Anlage zur Anwendung einer Klimaschutztechnologie durch ... Jun 11, 2004 Sep 2, 2004 Reichert, Claus Plant for the application of a climate protection technology through maximized net production of oxygen with simultaneous net reduction of carbon dioxide ...\n",
            "Drive system for a plug US8571739B2\n",
            "https://www.google.com/.../DE102011012107A...é¤å¨åå¾ä¸ææºåå¾çè½¦åºå¼å¹²æ³åéµç»¼åå¤çæ¹æ³ CN103773809B\n",
            " Straßenbeleuchtungsanlage  Translate this page App. Filed Feb 23, 2011 Published Aug 23, 2012\n",
            "https://www.google.com/patents/CN103721743B?cl=zh 一种降低二氧化碳排放的催化剂再生方法  Oct 12, 2012 Jan 20, 2016 许友好 中国石油化工股份有限公司\n"
          ]
        },
        {
          "name": "stderr",
          "output_type": "stream",
          "text": [
            "Exception in thread Thread-52:\n",
            "Traceback (most recent call last):\n",
            "  File \"/usr/lib/python3.7/threading.py\", line 926, in _bootstrap_inner\n",
            "    self.run()\n",
            "  File \"/usr/lib/python3.7/threading.py\", line 870, in run\n",
            "    self._target(*self._args, **self._kwargs)\n",
            "  File \"<ipython-input-5-c47ebfc0be42>\", line 28, in run\n",
            "    patent = corpus_soup.find_all('h1')[0].text\n",
            "IndexError: list index out of range\n",
            "\n"
          ]
        },
        {
          "name": "stdout",
          "output_type": "stream",
          "text": [
            "Variable resistance serial hybrid electric vehicle EP3154815A1\n",
            "Control of air conditioning cooling or heating coil https://www.google.com/patents/WO2008005710A3?cl=en EP1504232A4\n",
            "Method for acquiring and interpreting transient ... Jun 22, 2007 Published Aug 21, 2008 Charles H Stoyer Kjt Entpr Inc\n",
            "https://www.google.com/patents/US7390250 Temporarily mountable strip door system, especially for ... Oct 29, 2005 Jun 24, 2008 Paul Andrew Reinhardt Paul Andrew Reinhardt\n",
            "Dual volume CN1680718A\n",
            "https://www.google.com/patents/WO2013063699A1?cl=en System and method for predicting and preventing flooding  Oct 31, 2012 Published May 10, 2013 Ian Moss Insurance Bureau Of Canada\n",
            "Vehicle humidity control apparatus for preventing fogging of windows US4408660A\n",
            "https://www.google.com/patents/US5562426 Scroll type refrigerant compressor  Jun 1, 1995 Oct 8, 1996 Yasushi Watanabe Kabushiki Kaisha Toyoda Jidoshokki Seisakusho\n",
            "Automatic flashover protection for locomotive traction motorsCompressor system and method and control for same EP1027540A4\n",
            " Adaptive controller for an automotive HVAC system US6454178B1\n",
            "https://www.google.com/.../DE102014013870A... Mobiles Prüfsystem für Automobil-Ladestationen Mobile test ... Translate this page App. Filed Sep 18, 2014 Published Mar 24, 2016\n",
            "CA2071920C\n",
            "https://www.google.com/patents/EP1149727A1?cl=en System for high efficiency motor control  Mar 30, 2001 Published Oct 31, 2001 Li Chen Ecostar Electric Drive Systems L.L.C.\n"
          ]
        },
        {
          "name": "stderr",
          "output_type": "stream",
          "text": [
            "Exception in thread Thread-23:\n",
            "Traceback (most recent call last):\n",
            "  File \"/usr/lib/python3.7/threading.py\", line 926, in _bootstrap_inner\n",
            "    self.run()\n",
            "  File \"/usr/lib/python3.7/threading.py\", line 870, in run\n",
            "    self._target(*self._args, **self._kwargs)\n",
            "  File \"<ipython-input-5-c47ebfc0be42>\", line 32, in run\n",
            "    abstract_section = corpus_soup.find('div', {'class':'abstract'}).text\n",
            "AttributeError: 'NoneType' object has no attribute 'text'\n",
            "\n",
            "Exception in thread Thread-30:\n",
            "Traceback (most recent call last):\n",
            "  File \"/usr/lib/python3.7/threading.py\", line 926, in _bootstrap_inner\n",
            "    self.run()\n",
            "  File \"/usr/lib/python3.7/threading.py\", line 870, in run\n",
            "    self._target(*self._args, **self._kwargs)\n",
            "  File \"<ipython-input-5-c47ebfc0be42>\", line 28, in run\n",
            "    patent = corpus_soup.find_all('h1')[0].text\n",
            "IndexError: list index out of range\n",
            "\n"
          ]
        },
        {
          "name": "stdout",
          "output_type": "stream",
          "text": [
            "Method for operating an electric machine in short WO2012130503A3\n",
            "https://www.google.com/patents/WO2012143114A3?cl=en Method for providing energy at different locations, portable ... Apr 16, 2012 Published Apr 4, 2013 Jens Papajewski Audi Ag\n",
            "Compressor with control electronics US6041609A\n",
            "https://www.google.com/patents/EP0217558B1?cl=en Diagnostic system for detecting faulty sensors in a ... Sep 4, 1986 May 15, 1991 John C. Hansen York International Corporation\n",
            "Method and system for calculating the spatial US7155377B2\n",
            "https://www.google.com/patents/CN103373235A?cl=en Transportation vehicle  Apr 27, 2012 Published Oct 30, 2013 王孟奇 王孟奇\n",
            "ä½ç²èå¨å±é¡¶ç»¿åä¸çåºç¨ CN1210185A\n",
            "https://www.google.com/patents/US20120239808 Systems and methods for controlling communication between a ... Jun 1, 2012 Published Sep 20, 2012 James Davis Sipco, Llc\n",
            "Predictive maintainance and equipment monitoring for a refrigeration system WO2004099683B1\n",
            "https://www.google.com/patents/CN2527975Y?... 绝对值编码型数字式雨量计  Translate this page Grant Filed Mar 18, 2002 Issued Dec 25, 2002\n",
            "Skincare system WO2015116875A1\n",
            "https://www.google.com/.../CN102854513A?cl=... 环境一号hj-1a/b星ccd数据的云检测方法  Translate this page App. Filed Sep 5, 2012 Published Jan 2, 2013\n",
            "Container CN204313386U\n",
            "https://www.google.com/patents/WO2009048628A2?cl=fr Procédés pour changements environnementaux utilisant des ... Oct 9, 2008 Published Apr 16, 2009 Leslie A. Field Field Leslie A\n",
            "ä¸ç§éä½äºæ°§åç¢³ææ¾çå¬åååçæ¹æ³ CN103721743B\n",
            "https://www.google.com/patents/CN104852671A?cl=zh 建筑外立面膜基有机光伏系统及安装方法  May 29, 2015 Published Aug 19, 2015 矫民 上海鼎中新材料有限公司\n"
          ]
        },
        {
          "name": "stderr",
          "output_type": "stream",
          "text": [
            "Exception in thread Thread-45:\n",
            "Traceback (most recent call last):\n",
            "  File \"/usr/lib/python3.7/threading.py\", line 926, in _bootstrap_inner\n",
            "    self.run()\n",
            "  File \"/usr/lib/python3.7/threading.py\", line 870, in run\n",
            "    self._target(*self._args, **self._kwargs)\n",
            "  File \"<ipython-input-5-c47ebfc0be42>\", line 28, in run\n",
            "    patent = corpus_soup.find_all('h1')[0].text\n",
            "IndexError: list index out of range\n",
            "\n"
          ]
        },
        {
          "name": "stdout",
          "output_type": "stream",
          "text": [
            "æ¶¡æå¼æ°ä½åç¼©æº CN1108453C\n",
            "https://www.google.com/.../WO2012019665A3?... Kraftfahrzeugantriebssystem mit einer ladevorrichtung  Translate this page App. Filed Jun 11, 2011 Published Jul 26, 2012\n",
            "Stecker mit Indikatororgan und an einer Leitung anbringbarer TrennvorrichtungBattery charger for electrical vehicleAdaptable HVAC; AC motor speed, air temperature and air quality control system DE102011056553A1\n",
            " US20050278071A1\n",
            "https://www.google.com/patents/CN101605673A?cl=zh  https://www.google.com/patents/WO2014087134A3?cl=en Electric Machine  Nov 26, 2013 Published Oct 9, 2014 James O'donnell Rift Technology Limited\n",
            "车辆系统和方法 US4258304A \n",
            "Dec 21, 2007 Published Dec 16, 2009 达雷·利·福斯特 荷兰应用自然科学研究组织\n",
            "https://www.google.com/patents/CN103739428A?cl=en Device for producing low-carbon olefins from methanol  Oct 17, 2012 Published Apr 23, 2014 齐国祯 中国石油化工股份有限公司\n",
            "Method and system for calculating the spatial US7155377B2\n",
            "https://www.google.com/patents/US3304665 Survival shelter for subzero climates Aug 9, 1965 Feb 21, 1967 Lee John F Lee John F\n"
          ]
        },
        {
          "name": "stderr",
          "output_type": "stream",
          "text": [
            "Exception in thread Thread-47:\n",
            "Traceback (most recent call last):\n",
            "  File \"/usr/lib/python3.7/threading.py\", line 926, in _bootstrap_inner\n",
            "    self.run()\n",
            "  File \"/usr/lib/python3.7/threading.py\", line 870, in run\n",
            "    self._target(*self._args, **self._kwargs)\n",
            "  File \"<ipython-input-5-c47ebfc0be42>\", line 28, in run\n",
            "    patent = corpus_soup.find_all('h1')[0].text\n",
            "IndexError: list index out of range\n",
            "\n"
          ]
        },
        {
          "name": "stdout",
          "output_type": "stream",
          "text": [
            "Plant for applying climate protection technology through maximized net production of oxygen DE202004009310U1\n",
            "https://www.google.com/patents/CN206583834U?cl=en 一种真空及气氛控制样品管 A vacuum atmosphere control and sample tubes  Mar 10, 2017 Oct 24, 2017 张苏苏 上海加美华科贸有限公司\n",
            "Forced US6983889B2\n",
            "https://www.google.com/patents/US7721560 Climate control and dehumidification system and method  Jul 20, 2005 May 25, 2010 Frank K. Carpenter Carpenter Frank K\n",
            "Vibration compartment environmental control US6446508B1\n",
            "https://www.google.com/patents/WO2017193190A1?cl=fr Système solaire hybride de chauffage et/ou de distillation ... May 10, 2017 Published Nov 16, 2017 Camilo Nilton Soares Hyciclool Sistemas Solares Híbridos Ltda - Me\n",
            "Multiple zone automatic HVAC control system and method US6640890B1\n",
            "https://www.google.com/patents/US20120049770 Device for charging accumulator means  Jun 22, 2011 Published Mar 1, 2012 Boris Bouchez Valeo Systemes De Controle Moteur\n",
            "ç»å¯¹å¼ç¼ç åæ°å­å¼é¨éè®¡ CN2527975Y\n",
            "https://www.google.com/patents/CN102402728A?cl=en Method for acquiring and interpreting transient electromagnetic measurements WO2008005710A3\n",
            "https://www.google.com/.../CN102729990B?cl=... Method for predicting land use space planning and converting ... Nov 23, 2011 Published Apr 4, 2012 刘纪远 中国科学院地理科学与资源研究所\n",
            "开放模块化电气动力系和控制架构 A modular electrical power lines and open ... Translate this page Grant Filed Apr 5, 2012 Issued Sep 23, 2015\n"
          ]
        },
        {
          "name": "stderr",
          "output_type": "stream",
          "text": [
            "Exception in thread Thread-42:\n",
            "Traceback (most recent call last):\n",
            "  File \"/usr/lib/python3.7/threading.py\", line 926, in _bootstrap_inner\n",
            "    self.run()\n",
            "  File \"/usr/lib/python3.7/threading.py\", line 870, in run\n",
            "    self._target(*self._args, **self._kwargs)\n",
            "  File \"<ipython-input-5-c47ebfc0be42>\", line 28, in run\n",
            "    patent = corpus_soup.find_all('h1')[0].text\n",
            "IndexError: list index out of range\n",
            "\n"
          ]
        },
        {
          "name": "stdout",
          "output_type": "stream",
          "text": [
            "Zone climate control US7188779B2\n",
            "https://www.google.com/patents/US20130344788 Hvac system zone compensation for improved communication ... Jun 22, 2012 Published Dec 26, 2013 Gary M. Buch GM Global Technology Operations LLC\n",
            "Temporarily mountable strip door system, especially for temporary climate control of an area US7390250B2\n",
            "https://www.google.com/patents/US9050505 All-climate lacrosse stick head  May 29, 2012 Jun 9, 2015 Jonathan Bond Jonathan Bond\n",
            "System and method for predicting and preventing floodingTransportation vehicle WO2013063699A1\n",
            "https://www.google.com/.../CN102854513A?cl=... CN103373235A\n",
            "https://www.google.com/patents/EP1392941A1?cl=en 环境一号hj-1a/b星ccd数据的云检测方法  Translate this page App. Filed Sep 5, 2012 Published Jan 2, 2013\n",
            " Space arrangement, construction element and method for ... May 14, 2002 Published Mar 3, 2004 Ritva Laijoki-Puska LAIJOKI-PUSKA, Ritva\n",
            "Electric MachineSystem for high efficiency motor control EP1149727A1 WO2014087134A3\n",
            "\n",
            "https://www.google.com/patents/US20050278071 Adaptable HVAC; AC motor speed, air temperature and air ... Jun 14, 2004 Published Dec 15, 2005 Ormonde Durham Durham Ormonde G Iii\n",
            "https://www.google.com/patents/EP2111735A1?cl=en Mower  Apr 23, 2009 Published Oct 28, 2009 Tarek Aydin Black & Decker, Inc.\n",
            "Scroll type refrigerant compressor US5562426A\n",
            "https://www.google.com/patents/WO2015128450A1?cl=en Inductive power transfer pad, system for inductive power ... Feb 27, 2015 Published Sep 3, 2015"
          ]
        },
        {
          "name": "stderr",
          "output_type": "stream",
          "text": [
            "Exception in thread Thread-49:\n",
            "Traceback (most recent call last):\n",
            "  File \"/usr/lib/python3.7/threading.py\", line 926, in _bootstrap_inner\n",
            "    self.run()\n",
            "  File \"/usr/lib/python3.7/threading.py\", line 870, in run\n",
            "    self._target(*self._args, **self._kwargs)\n",
            "  File \"<ipython-input-5-c47ebfc0be42>\", line 28, in run\n",
            "    patent = corpus_soup.find_all('h1')[0].text\n",
            "IndexError: list index out of range\n",
            "\n"
          ]
        },
        {
          "name": "stdout",
          "output_type": "stream",
          "text": [
            " Simon Wechsler Bombardier Transportation Gmbh\n",
            "Method for providing energy at different locations, portable module and totality of building or building parts, motor vehicle and portable module WO2012143114A3\n",
            "https://www.google.com/patents/WO2017181189A1?cl=en Wind turbine panel  Apr 17, 2017 Published Oct 19, 2017 Valod MENASKANIAN Menaskanian Valod\n",
            "Diagnostic system for detecting faulty sensors in a refrigeration system EP0217558B1\n"
          ]
        },
        {
          "name": "stderr",
          "output_type": "stream",
          "text": [
            "Exception in thread Thread-25:\n",
            "Traceback (most recent call last):\n",
            "  File \"/usr/lib/python3.7/threading.py\", line 926, in _bootstrap_inner\n",
            "    self.run()\n",
            "  File \"/usr/lib/python3.7/threading.py\", line 870, in run\n",
            "    self._target(*self._args, **self._kwargs)\n",
            "  File \"<ipython-input-5-c47ebfc0be42>\", line 32, in run\n",
            "    abstract_section = corpus_soup.find('div', {'class':'abstract'}).text\n",
            "AttributeError: 'NoneType' object has no attribute 'text'\n",
            "\n"
          ]
        },
        {
          "name": "stdout",
          "output_type": "stream",
          "text": [
            "Device for producing low CN103739428A\n",
            "https://www.google.com/patents/US6183663ProcÃ©dÃ©s pour changements environnementaux utilisant des matÃ©riaux de rÃ©gulation climatique et des couvertures WO2009048628A2\n",
            " Leak detection dye delivery system  SystÃ¨me solaire hybride de chauffage et/ou de distillation de liquides, son utilisation et procÃ©dÃ© de chauffage et/ou de distillation de liquides WO2017193190A1\n",
            "Oct 9, 1998 Feb 6, 2001 Terrence D. Kalley Bright Solutions, Inc.\n",
            "https://www.google.com/patents/US20170064913 Orchard climate control system  Nov 18, 2016 Published Mar 9, 2017 Anibal SCHURTER S&W Ingenieria Agricola Y Propiedad Intelectual Spa\n",
            "https://www.google.com/patents/CN103257086B?cl=en 一种絮填纤维集合体湿传递性能的测量装置 One kind of batt fiber aggregate filled ... Apr 11, 2013 Apr 6, 2016 刘茜 上海工程技术大学\n",
            "Device for charging accumulator means US20120049770A1\n",
            "https://www.google.com/patents/CN103918508A?cl=en Farmland microclimate intervention system utilizing solar ... Apr 17, 2014 Published Jul 16, 2014 王平 中国科学院新疆生态与地理研究所\n",
            "A kind of vacuum and control climate sample cell CN206583834U\n",
            "https://www.google.com/patents/US20050132725 Refrigerator or freezer  Jan 6, 2005 Published Jun 23, 2005 Frank Menten Bsh Bosch Und Siemens Hausgerate Gmbh\n",
            "Survival shelter for subzero climates US3304665A\n"
          ]
        },
        {
          "name": "stderr",
          "output_type": "stream",
          "text": [
            "Exception in thread Thread-17:\n",
            "Traceback (most recent call last):\n",
            "  File \"/usr/lib/python3.7/threading.py\", line 926, in _bootstrap_inner\n",
            "    self.run()\n",
            "  File \"/usr/lib/python3.7/threading.py\", line 870, in run\n",
            "    self._target(*self._args, **self._kwargs)\n",
            "  File \"<ipython-input-5-c47ebfc0be42>\", line 32, in run\n",
            "    abstract_section = corpus_soup.find('div', {'class':'abstract'}).text\n",
            "AttributeError: 'NoneType' object has no attribute 'text'\n",
            "\n"
          ]
        },
        {
          "name": "stdout",
          "output_type": "stream",
          "text": [
            "All US9050505B2\n",
            "Method for predicting land use space planning and converting simulated space scale CN102402728A\n",
            "https://www.google.com/patents/US20140172238 Motor Vehicle Driver and Passenger Identification System and ... Dec 16, 2013 Published Jun 19, 2014 Dean A. Craine Dean A. Craine\n",
            "https://www.google.com/patents/US20120085745 Dual Climate Cart and Tray for Accommodating Comestible ... Oct 8, 2010 Published Apr 12, 2012 Pietro Brattoli Cambro Manufacturing Company\n",
            "è½¦è¾ç³»ç»åæ¹æ³ CN101605673A\n",
            "https://www.google.com/patents/DE212013000255U1?cl=de Systems and methods for controlling communication between a host computer and communication devicesHorizontal angeordneter Dachflächen-Windkraft-Generator für ... Jul 8, 2013 Jul 17, 2015 Wai Yee TANG ... CLIMATE CHANGE. Y02B CLIMATE ...\n",
            " US20120239808A1\n",
            "å»ºç­å¤ç«é¢èåºææºåä¼ç³»ç»åå®è£æ¹æ³ CN104852671A\n",
            "https://www.google.com/patents/CA2590165C?... Solar energy collection system  https://www.google.com/patents/CN103907202A?cl=zh 具有改进的热管理零件的光伏器件  Sep 19, 2012 Translate this page Grant Filed Dec 9, 2004 Issued Nov 18, 2014\n",
            "Published Jul 2, 2014 詹姆斯·R·基尼安 陶氏环球技术有限责任公司\n",
            "Climate control and dehumidification system and method US7721560B2\n",
            "https://www.google.com/patents/US9185998 Inventory system with climate-controlled inventory  Mar 2, 2015 Nov 17, 2015 Samvid Hariram Dwarakanath Amazon Technologies, Inc.\n",
            "Space arrangement, construction element and method for climate regulating the space EP1392941A1\n",
            "https://www.google.com/patents/US7212922 Method of determining a climate-based activity index and ... Dec 16, 2004 May 1, 2007 Monisha Longacre The Weather Channel, Inc.\n",
            "Hvac system zone compensation for improved communication performance US20130344788A1\n",
            "https://www.google.com/patents/US20090221224 Air Conditioning Arrangement For An Aircraft With A ... Jan 11, 2007 Published Sep 3, 2009 Nico Centofante Airbus Deutschland Gmbh\n",
            "Wind turbine panel WO2017181189A1\n",
            "https://www.google.com/patents/WO2015116875A1?cl=en Skincare system  Jan 29, 2015 Published Aug 6, 2015 Ulrike Haslacher Pour Moi Beauty, LLC\n",
            "Leak detection dye delivery system US6183663B1\n",
            "https://www.google.com/patents/CN203601032U?cl=en Fuel cell and solar energy combined supply electric automobile  Nov 8, 2013 May 21, 2014 李俊娇 李俊娇\n",
            "A kind of measurement mechanism of fibrefill fiber assembly moisture transmission performance CN103257086B\n",
            "https://www.google.com/patents/EP2810817A3?cl=en Power supply system and method for converting power thereof  Jun 3, 2014 Published Jan 21, 2015 Xing-Kuan Guo Delta Electronics, Inc.\n",
            "Inductive power transfer pad, system for inductive power transfer and method of operating an inductive power transfer pad WO2015128450A1\n",
            "https://www.google.com/patents/CN103852484A?cl=en Measuring device and measuring method  Sep 3, 2013 Published Jun 11, 2014 陈恒毅 财团法人纺织产业综合研究所\n",
            "Farmland microclimate intervention system utilizing solar energy CN103918508A\n",
            "https://www.google.com/.../WO2005034328A2?... Systeme de commande d'un moteur a induction  Translate this page App. Filed Sep 29, 2004 Published Apr 14, 2005\n",
            "Adaptable HVAC; AC motor speed, air temperature and air quality control system US20050278071A1\n",
            "https://www.google.com/patents/WO2014087134A3?cl=en Electric Machine  Nov 26, 2013 Published Oct 9, 2014 James O'donnell Rift Technology Limited\n"
          ]
        },
        {
          "name": "stderr",
          "output_type": "stream",
          "text": [
            "Exception in thread Thread-48:\n",
            "Traceback (most recent call last):\n",
            "  File \"/usr/lib/python3.7/threading.py\", line 926, in _bootstrap_inner\n",
            "    self.run()\n",
            "  File \"/usr/lib/python3.7/threading.py\", line 870, in run\n",
            "    self._target(*self._args, **self._kwargs)\n",
            "  File \"<ipython-input-5-c47ebfc0be42>\", line 28, in run\n",
            "    patent = corpus_soup.find_all('h1')[0].text\n",
            "IndexError: list index out of range\n",
            "\n"
          ]
        },
        {
          "name": "stdout",
          "output_type": "stream",
          "text": [
            "MowerOrchard climate control system US20170064913A1\n",
            "https://www.google.com/patents/WO2003000513A1?cl=en  EP2111735A1\n",
            "Vehicle climate control system  Jun 25, 2002 Published Jan 3, 2003 Abdelwahab Aroussi The University Of Nottingham\n",
            "https://www.google.com/patents/WO2013008043A3?cl=en Photovoltaic panel pergola with sliding modules  Jun 28, 2012 Published Aug 15, 2013 Andreas PAPANAKLIS Papanaklis Andreas\n",
            "Refrigerator or freezer US20050132725A1\n",
            "https://www.google.com/patents/WO2003074304A1?cl=de Klimagebläse  Dec 16, 2002 Published Sep 12, 2003 Walter Hersel Robert Bosch Gmbh\n",
            "Motor Vehicle Driver and Passenger Identification System and Method US20140172238A1\n",
            "https://www.google.com/patents/US20130203891 Aqueous drag reducers for arctic climates  Feb 1, 2013 Published Aug 8, 2013 Timothy L. Burden Phillips 66 Company\n",
            "Method of determining a climate US7212922B1\n",
            "https://www.google.com/patents/CN203750549U?cl=en Icing test climate box  Jan 28, 2014 Aug 6, 2014 张秀丽 国家电网公司\n",
            "Horizontal angeordneter DachflÃ¤chen DE212013000255U1\n",
            "https://www.google.com/.../WO2000073659A1?... Dispositif de prevention de la compression du vide d'un ... Translate this page App. Filed Feb 19, 2000 Published Dec 7, 2000\n",
            "å·ææ¹è¿çç­ç®¡çé¶ä»¶çåä¼å¨ä»¶ CN103907202A\n",
            "https://www.google.com/patents/EP1118602A1?cl=de Nährlösungskonzentrat, insbesondere zur Verwendung in ... Jan 12, 2001 Published Jul 25, 2001 Clarissa Kellner M+W Zander Facility Engineering GmbH\n",
            "Solar energy collection system CA2590165C\n",
            "https://www.google.com/patents/US5993177 Scroll type compressor with improved variable displacement ... May 19, 1997 Nov 30, 1999 Kiyoshi Terauchi Sanden Corporation\n"
          ]
        },
        {
          "name": "stderr",
          "output_type": "stream",
          "text": [
            "Exception in thread Thread-56:\n",
            "Traceback (most recent call last):\n",
            "  File \"/usr/lib/python3.7/threading.py\", line 926, in _bootstrap_inner\n",
            "    self.run()\n",
            "  File \"/usr/lib/python3.7/threading.py\", line 870, in run\n",
            "    self._target(*self._args, **self._kwargs)\n",
            "  File \"<ipython-input-5-c47ebfc0be42>\", line 28, in run\n",
            "    patent = corpus_soup.find_all('h1')[0].text\n",
            "IndexError: list index out of range\n",
            "\n"
          ]
        },
        {
          "name": "stdout",
          "output_type": "stream",
          "text": [
            "Dual Climate Cart and Tray for Accommodating Comestible Items and a Method of Operating the Same US20120085745A1\n",
            "https://www.google.com/patents/CN103258126B?cl=en 一种基于遥感数据的湿地景观近地层冷湿气候要素gis空间模拟方法 Wetland Landscape Based on ... May 3, 2013 Nov 30, 2016 廖晓玉 中国科学院东北地理与农业生态研究所\n",
            "Fuel cell and solar energy combined supply electric automobile CN203601032U\n",
            "https://www.google.com/.../CN103452056A?cl=... 一种风力发电交通警示牌  Translate this page App. Filed Jun 1, 2012 Published Dec 18, 2013\n",
            "Power supply system and method for converting power thereof EP2810817A3\n",
            "https://www.google.com/patents/US20130144449 Warning a wind turbine generator in a wind park of an ... Dec 6, 2011 Published Jun 6, 2013 Søren Dalsgaard Søren Dalsgaard\n"
          ]
        },
        {
          "name": "stderr",
          "output_type": "stream",
          "text": [
            "Exception in thread Thread-53:\n",
            "Traceback (most recent call last):\n",
            "  File \"/usr/lib/python3.7/threading.py\", line 926, in _bootstrap_inner\n",
            "    self.run()\n",
            "  File \"/usr/lib/python3.7/threading.py\", line 870, in run\n",
            "    self._target(*self._args, **self._kwargs)\n",
            "  File \"<ipython-input-5-c47ebfc0be42>\", line 28, in run\n",
            "    patent = corpus_soup.find_all('h1')[0].text\n",
            "IndexError: list index out of range\n",
            "\n"
          ]
        },
        {
          "name": "stdout",
          "output_type": "stream",
          "text": [
            "Electric Machine WO2014087134A3\n",
            "https://www.google.com/patents/EP2111735A1?cl=en Mower  Apr 23, 2009 Published Oct 28, 2009 Tarek Aydin Black & Decker, Inc.\n",
            "Air Conditioning Arrangement For An Aircraft With A Plurality Of Climate Zones That May Be Individually Temperature US20090221224A1\n",
            "https://www.google.com/patents/DE102013221610A1?cl=deInventory system with climate US9185998B1\n",
            " Sensoranordnung, Verfahren zur Einstellung von ... Oct 24, 2013 Published Apr 30, 2015 Carsten Temming Volkswagen Aktiengesellschaft\n",
            "https://www.google.com/patents/EP2445769A1?cl=en Energy-optimized climate control system for locomotives ... Jun 11, 2010 Published May 2, 2012 Winfried Schütz Siemens Aktiengesellschaft\n",
            "Photovoltaic panel pergola with sliding modules WO2013008043A3Skincare system WO2015116875A1\n",
            "\n",
            "https://www.google.com/patents/CA2813018A1?cl=en https://www.google.com/patents/US20130312151 Cold Weather Welding Mask having Heated Forced Air Means  Apr 25, 2013 Published Nov 28, 2013 Kelvin North Kelvin North\n",
            "A piggyback forklift truck and method of operating same Measuring device and measuring method  Apr 16, 2013 Published Oct 17, 2013 Barry Mcgrane Cargotec Research & Development Ireland Limited\n",
            "CN103852484A\n",
            "https://www.google.com/patents/US20100229585 Modular air conditioning system  Mar 15, 2010 Published Sep 16, 2010 Kipp Bradford Kippworks\n",
            "KlimageblÃ¤se WO2003074304A1\n",
            "https://www.google.com/patents/DE102010037214A1?cl=en Klimaregelungssystem und Verfahren zur Optimierung des ... Aug 30, 2010 Published Apr 28, 2011 Wayne Frank Canton Buescher Ford Global Technologies, LLC, Dearborn\n",
            "NÃ¤hrlÃ¶sungskonzentrat, insbesondere zur Verwendung in biologischen TropfkÃ¶rper EP1118602A1\n",
            "https://www.google.com/patents/CN102174592B?cl=zh 利用太阳热能加工甜高粱或甘蔗提取酒精或糖的新方法  Mar 9, 2011 Jan 7, 2015 黎大爵 黎大爵\n",
            "Icing test climate box CN203750549U\n",
            "https://www.google.com/patents/US20130303069 Duct architecture for regulating climate zone in a vehicle  Jul 3, 2013 Published Nov 14, 2013 Mukesh Kumar Ford Global Technologies, Llc\n",
            "Vehicle climate control system WO2003000513A1\n",
            "Scroll type compressor with improved variable displacement mechanism US5993177A\n",
            "https://www.google.com/.../CN202115704U?cl=... https://www.google.com/patents/US20090032214 电动航空器  Translate this page Grant Filed May 14, 2011 Issued Jan 18, 2012\n",
            "System and Method of Control of the Terrestrial Climate and ... Jun 2, 2008 Published Feb 5, 2009 Mark Hucko Mark Hucko\n"
          ]
        },
        {
          "name": "stderr",
          "output_type": "stream",
          "text": [
            "Exception in thread Thread-46:\n",
            "Traceback (most recent call last):\n",
            "  File \"/usr/lib/python3.7/threading.py\", line 926, in _bootstrap_inner\n",
            "    self.run()\n",
            "  File \"/usr/lib/python3.7/threading.py\", line 870, in run\n",
            "    self._target(*self._args, **self._kwargs)\n",
            "  File \"<ipython-input-5-c47ebfc0be42>\", line 28, in run\n",
            "    patent = corpus_soup.find_all('h1')[0].text\n",
            "IndexError: list index out of range\n",
            "\n"
          ]
        },
        {
          "name": "stdout",
          "output_type": "stream",
          "text": [
            "Aqueous drag reducers for arctic climates US20130203891A1\n",
            "https://www.google.com/.../CN102076932A?cl=... 气动机械动力源 Pneumatic power source  Translate this page App. Filed Apr 23, 2009 Published May 25, 2011\n",
            "A kind of wetland landscape surface layer cold and wet climate key element GIS spatial simulation method based on remotely CN103258126B\n",
            "https://www.google.com/patents/DE102009015896A1?cl=en Verfahren zur Erfassung und Auswertung von Raumklimadaten ... Apr 1, 2009 Published Oct 7, 2010 Dieter Heckmann Metrona Wärmemesser Union Gmbh\n"
          ]
        },
        {
          "name": "stderr",
          "output_type": "stream",
          "text": [
            "Exception in thread Thread-33:\n",
            "Traceback (most recent call last):\n",
            "  File \"/usr/lib/python3.7/threading.py\", line 926, in _bootstrap_inner\n",
            "    self.run()\n",
            "  File \"/usr/lib/python3.7/threading.py\", line 870, in run\n",
            "    self._target(*self._args, **self._kwargs)\n",
            "  File \"<ipython-input-5-c47ebfc0be42>\", line 28, in run\n",
            "    patent = corpus_soup.find_all('h1')[0].text\n",
            "IndexError: list index out of range\n",
            "\n"
          ]
        },
        {
          "name": "stdout",
          "output_type": "stream",
          "text": [
            "Sensoranordnung, Verfahren zur Einstellung von Klimafunktionselementen und Verwendung eines Gray DE102013221610A1\n",
            "https://www.google.com/patents/CN204122136U?cl=en Furniture volatile matter detecting weather cabin  Oct 11, 2014 Jan 28, 2015 廖容 四川农业大学\n",
            "Warning a wind turbine generator in a wind park of an extreme wind event US20130144449A1\n",
            "https://www.google.com/patents/US4131829 Electric power converting apparatus for use in battery cars  Oct 18, 1976 Dec 26, 1978 Choichi Gocho Tokyo Shibaura Denki K.K.\n",
            "Energy EP2445769A1\n",
            "https://www.google.com/patents/CN1165216C?cl=en Method for controlling temp. in thermostatic chamber and ... Aug 13, 1999 Sep 8, 2004 芝特泽・米特 T・米特控股股份公司\n",
            "A piggyback forklift truck and method of operating same CA2813018A1\n",
            "https://www.google.com/.../CN103198447B?cl=... 一种基于卫星云图的风矢场实时度量方法  Translate this page Grant Filed Apr 9, 2013 Issued Sep 9, 2015\n"
          ]
        },
        {
          "name": "stderr",
          "output_type": "stream",
          "text": [
            "Exception in thread Thread-29:\n",
            "Traceback (most recent call last):\n",
            "  File \"/usr/lib/python3.7/threading.py\", line 926, in _bootstrap_inner\n",
            "    self.run()\n",
            "  File \"/usr/lib/python3.7/threading.py\", line 870, in run\n",
            "    self._target(*self._args, **self._kwargs)\n",
            "  File \"<ipython-input-5-c47ebfc0be42>\", line 28, in run\n",
            "    patent = corpus_soup.find_all('h1')[0].text\n",
            "IndexError: list index out of range\n",
            "\n"
          ]
        },
        {
          "name": "stdout",
          "output_type": "stream",
          "text": [
            "Modular air conditioning system US20100229585A1\n",
            "Cold Weather Welding Mask having Heated Forced Air Means https://www.google.com/patents/EP0805056B1?cl=en Vehicle air-conditioning with air directing means regulated ... Mar 20, 1997 Nov 20, 2002 Dieter Heinle US20130312151A1DaimlerChrysler AG\n",
            "\n",
            "https://www.google.com/patents/EP0177180A3?cl=en Battery charging apparatus and methods  Sep 2, 1985 Published Aug 26, 1987 Jon R. President Of Wiltronix Corporation Bogie Wiltronix Corporation\n",
            "Mower EP2111735A1\n",
            "https://www.google.com/patents/WO2013008043A3?cl=en Photovoltaic panel pergola with sliding modules  Jun 28, 2012 Published Aug 15, 2013 Andreas PAPANAKLIS Papanaklis Andreas\n",
            "å©ç¨å¤ªé³ç­è½å å·¥çé«ç²±æçèæåéç²¾æç³çæ°æ¹æ³ CN102174592B\n",
            "System and Method of Control of the Terrestrial Climate and its Protection against Warming and Climatic Catastrophes Caused by Warming such as Hurricanes US20090032214A1\n",
            "https://www.google.com/patents/US8374725 Climate control system and method for optimizing the energy consumption of a vehicle Climate control  Nov 26, 2008 Feb 12, 2013 Joseph David Ols Joseph David Ols\n",
            "DE102010037214A1\n",
            "https://www.google.com/patents/US7870892 Climate control method for hybrid vehicles using ... Jun 2, 2008 Jan 18, 2011 Peter R. Gawthrop Bsst Llc\n",
            "Duct architecture for regulating climate zone in a vehicle US20130303069A1\n",
            "https://www.google.com/patents/WO2018008819A1?cl=en Healthy underpants for men for each world climate zone (four ... Jan 4, 2017 Published Jan 11, 2018 유진걸 The present invention relates to men's health-panties by global climate (4-season), which is distinctly distinguished from women-panties, and isolates the ...\n",
            "Method for controlling temp. in climate chamber and climatic device CN1165216C\n",
            "https://www.google.com/patents/WO2012162045A1?cl=en Microalgae cultivation system for cold climate conditions  May 16, 2012 Published Nov 29, 2012 David A. Hazlebeck General Atomics\n",
            "Furniture volatile matter detects climate compartment CN204122136UMethod for recording and evaluating indoor climate data DE102009015896A1\n",
            "\n",
            "https://www.google.com/patents/CN101846753A?cl=zh 基于经验模态分解和支持向量机的气候时序预测方法  Apr 29, 2010 Published Sep 29, 2010 徐寅 南京信息工程大学\n",
            "https://www.google.com/patents/US8707617 Greenhouse and forced greenhouse climate control system and ... Jun 28, 2007 Apr 29, 2014 Casey Houweling Houweling Nurseries Oxnard, Inc.\n",
            "Battery charging apparatus and methods EP0177180A3Photovoltaic panel pergola with sliding modules WO2013008043A3\n",
            "https://www.google.com/patents/WO2001036817A1?cl=en\n",
            "https://www.google.com/patents/US1726767 Method and means for growing plants in tropical climates Wind powered electrical generator  Oct 26, 2000 Published May 25, 2001 Lindsay Leveen Lectrix Llc\n",
            " Jun 15, 1927 Sep 3, 1929 Richmond Samuel L Richmond Samuel L\n",
            "Electric power converting apparatus for use in battery cars US4131829A\n",
            "https://www.google.com/patents/US20020067999Vehicle air EP0805056B1\n",
            " Rotational apparatus unit  Dec 4, 2001 Published Jun 6, 2002 Ken Suitou Ken Suitou\n",
            "Healthy underpants for men for each world climate zone (four seasonal) WO2018008819A1\n"
          ]
        },
        {
          "name": "stderr",
          "output_type": "stream",
          "text": [
            "Exception in thread Thread-44:\n",
            "Traceback (most recent call last):\n",
            "  File \"/usr/lib/python3.7/threading.py\", line 926, in _bootstrap_inner\n",
            "    self.run()\n",
            "  File \"/usr/lib/python3.7/threading.py\", line 870, in run\n",
            "    self._target(*self._args, **self._kwargs)\n",
            "  File \"<ipython-input-5-c47ebfc0be42>\", line 32, in run\n",
            "    abstract_section = corpus_soup.find('div', {'class':'abstract'}).text\n",
            "AttributeError: 'NoneType' object has no attribute 'text'\n",
            "\n"
          ]
        },
        {
          "name": "stdout",
          "output_type": "stream",
          "text": [
            "Climate control US8374725B1\n",
            "https://www.google.com/patents/US6997390 Retrofit HVAC zone climate control system  Jan 3, 2005 Feb 14, 2006 Harold Gene Alles Home Comfort Zones, Inc.\n",
            "åºäºç»éªæ¨¡æåè§£åæ¯æåéæºçæ°åæ¶åºé¢æµæ¹æ³ Microalgae cultivation system for cold climate conditions WO2012162045A1\n",
            "https://www.google.com/patents/US5801632 Climate controlled outdoor enclosure  Sep 19, 1996 Sep 1, 1998 Anthony P. Opal Telco Services, Inc.\n",
            "CN101846753A\n",
            "https://www.google.com/patents/CN105575119A?cl=zh 路况气候深度学习及识别方法和装置  Dec 29, 2015 Published May 11, 2016 田雨农 大连楼兰科技股份有限公司\n",
            "Method and means for growing plants in tropical climates US1726767A\n"
          ]
        },
        {
          "name": "stderr",
          "output_type": "stream",
          "text": [
            "Exception in thread Thread-31:\n",
            "Traceback (most recent call last):\n",
            "  File \"/usr/lib/python3.7/threading.py\", line 926, in _bootstrap_inner\n",
            "    self.run()\n",
            "  File \"/usr/lib/python3.7/threading.py\", line 870, in run\n",
            "    self._target(*self._args, **self._kwargs)\n",
            "  File \"<ipython-input-5-c47ebfc0be42>\", line 32, in run\n",
            "    abstract_section = corpus_soup.find('div', {'class':'abstract'}).text\n",
            "AttributeError: 'NoneType' object has no attribute 'text'\n",
            "\n"
          ]
        },
        {
          "name": "stdout",
          "output_type": "stream",
          "text": [
            "Wind powered electrical generator WO2001036817A1\n",
            "Greenhouse and forced greenhouse climate control system and method US8707617B2\n",
            "Rotational apparatus unit US20020067999A1\n",
            "Climate control method for hybrid vehicles using thermoelectric devices US7870892B2\n",
            "https://www.google.com/patents/EP2616606A1?cl=en A building material containing pcm and a climate envelope  Aug 24, 2011 Published Jul 24, 2013 Per Gösta Sundberg Per Gösta Sundberg\n",
            "Climate controlled outdoor enclosure US5801632A\n",
            "è·¯åµæ°åæ·±åº¦å­¦ä¹ åè¯å«æ¹æ³åè£ç½® CN105575119A\n",
            "Retrofit HVAC zone climate control system US6997390B2\n",
            "A building material containing pcm and a climate envelope EP2616606A1\n"
          ]
        },
        {
          "data": {
            "text/html": [
              "<div>\n",
              "<style scoped>\n",
              "    .dataframe tbody tr th:only-of-type {\n",
              "        vertical-align: middle;\n",
              "    }\n",
              "\n",
              "    .dataframe tbody tr th {\n",
              "        vertical-align: top;\n",
              "    }\n",
              "\n",
              "    .dataframe thead th {\n",
              "        text-align: right;\n",
              "    }\n",
              "</style>\n",
              "<table border=\"1\" class=\"dataframe\">\n",
              "  <thead>\n",
              "    <tr style=\"text-align: right;\">\n",
              "      <th></th>\n",
              "      <th>Title</th>\n",
              "      <th>Patent Number</th>\n",
              "      <th>Filed</th>\n",
              "      <th>Issued</th>\n",
              "      <th>Inventor</th>\n",
              "      <th>Company</th>\n",
              "      <th>Abstract</th>\n",
              "      <th>URL</th>\n",
              "    </tr>\n",
              "  </thead>\n",
              "  <tbody>\n",
              "    <tr>\n",
              "      <th>0</th>\n",
              "      <td>Climate</td>\n",
              "      <td>US4233958A</td>\n",
              "      <td>Jul 6, 1978</td>\n",
              "      <td>Nov 18, 1980</td>\n",
              "      <td>Carl-Goran Heden</td>\n",
              "      <td>Heden Carl Goeran</td>\n",
              "      <td>A building construction formed as a dome has a...</td>\n",
              "      <td>https://www.google.com/patents/US4233958</td>\n",
              "    </tr>\n",
              "    <tr>\n",
              "      <th>1</th>\n",
              "      <td>Resistance rectifying power cylinder channel</td>\n",
              "      <td>CN102635503A</td>\n",
              "      <td>Feb 11, 2011</td>\n",
              "      <td>Published Aug 15, 2012</td>\n",
              "      <td>葛泓杉</td>\n",
              "      <td>葛泓杉</td>\n",
              "      <td>The invention discloses a resistance rectifyin...</td>\n",
              "      <td>https://www.google.com/patents/CN102635503A?cl=en</td>\n",
              "    </tr>\n",
              "    <tr>\n",
              "      <th>2</th>\n",
              "      <td>Climate chamber with an inclination device</td>\n",
              "      <td>DE102013014414A1</td>\n",
              "      <td>Aug 29, 2013</td>\n",
              "      <td>Published Mar 5, 2015</td>\n",
              "      <td>Walter Jung</td>\n",
              "      <td>Daimler Ag</td>\n",
              "      <td>The invention relates to a climatic chamber (4...</td>\n",
              "      <td>https://www.google.com/patents/DE102013014414A...</td>\n",
              "    </tr>\n",
              "    <tr>\n",
              "      <th>3</th>\n",
              "      <td>Solar energy water heating system</td>\n",
              "      <td>DE2826181A1</td>\n",
              "      <td>Jun 15, 1978</td>\n",
              "      <td>Published Dec 20, 1979</td>\n",
              "      <td>Boettcher Alfred</td>\n",
              "      <td>... CLIMATE CHANGE MITIGATION TECHNOLOGIES REL...</td>\n",
              "      <td>The solar heating system for heating water use...</td>\n",
              "      <td>https://www.google.com/patents/DE2826181A1?cl=en</td>\n",
              "    </tr>\n",
              "    <tr>\n",
              "      <th>4</th>\n",
              "      <td>The partition rotary kiln device of coking iro...</td>\n",
              "      <td>CN104630406B</td>\n",
              "      <td>Feb 7, 2015</td>\n",
              "      <td>Aug 24, 2016</td>\n",
              "      <td>贾会平</td>\n",
              "      <td>石家庄新华能源环保科技股份有限公司</td>\n",
              "      <td>The present invention relates to the partition...</td>\n",
              "      <td>https://www.google.com/patents/CN104630406B?cl=en</td>\n",
              "    </tr>\n",
              "  </tbody>\n",
              "</table>\n",
              "</div>"
            ],
            "text/plain": [
              "                                               Title  ...                                                URL\n",
              "0                                            Climate  ...           https://www.google.com/patents/US4233958\n",
              "1       Resistance rectifying power cylinder channel  ...  https://www.google.com/patents/CN102635503A?cl=en\n",
              "2         Climate chamber with an inclination device  ...  https://www.google.com/patents/DE102013014414A...\n",
              "3                  Solar energy water heating system  ...   https://www.google.com/patents/DE2826181A1?cl=en\n",
              "4  The partition rotary kiln device of coking iro...  ...  https://www.google.com/patents/CN104630406B?cl=en\n",
              "\n",
              "[5 rows x 8 columns]"
            ]
          },
          "execution_count": null,
          "metadata": {},
          "output_type": "execute_result"
        }
      ],
      "source": [
        "search_query = \"climate\"\n",
        "start = 0\n",
        "info = []\n",
        "threads = []\n",
        "n = 1\n",
        "\n",
        "\n",
        "def run(header, start):\n",
        "\n",
        "\n",
        "    source = requests.get(f'https://www.google.com/search?q={search_query}&tbm=pts&start={start}', headers = headers)\n",
        "    soup = BeautifulSoup(source.text, 'lxml')\n",
        "    results = soup.find_all('div', class_='g')\n",
        "\n",
        "    for result in results:\n",
        "        url = result.div.div.div.a.div.cite.text\n",
        "        url = f'https://{url}'\n",
        "        title = result.div.div.div.a.h3.text\n",
        "        metas = result.div.div.find_all('span')\n",
        "        filed = metas[1].text.replace(\"Filed \", \"\")\n",
        "        issued = metas[2].text.replace(\"Issued \", \"\")\n",
        "        inventor = metas[3].text\n",
        "        company = metas[4].text\n",
        "        print(url, title, filed, issued, inventor, company)\n",
        "\n",
        "        corpus_source = requests.get(url, headers = headers)\n",
        "        corpus_soup = BeautifulSoup(corpus_source.text, 'lxml')\n",
        "        patent = corpus_soup.find_all('h1')[0].text\n",
        "        patent_title = patent.split(\"-\")[1].strip()\n",
        "        patent_number = patent.split(\"-\")[0].strip()\n",
        "        print(patent_title, patent_number)\n",
        "        abstract_section = corpus_soup.find('div', {'class':'abstract'}).text\n",
        "\n",
        "        query = {\n",
        "            'Title': patent_title,\n",
        "            'Patent Number': patent_number,\n",
        "            'Filed': filed,\n",
        "            'Issued': issued,\n",
        "            'Inventor': inventor,\n",
        "            'Company': company,\n",
        "            'Abstract': abstract_section,\n",
        "            'URL': url\n",
        "        }\n",
        "\n",
        "        info.append(query)\n",
        "\n",
        "threads = []\n",
        "\n",
        "while start < 490:\n",
        "    headers = {\n",
        "            'User-Agent': secrets.choice(userAgentList)\n",
        "        }\n",
        "    t = threading.Thread(target = run, args = (headers, start))\n",
        "    threads.append(t)\n",
        "    t.start()\n",
        "    start = start + 10\n",
        "    print(start)\n",
        "\n",
        "for t in threads:\n",
        "    t.join()\n",
        "\n",
        "df = pd.DataFrame(info)\n",
        "df.head()"
      ]
    },
    {
      "cell_type": "code",
      "execution_count": null,
      "metadata": {
        "id": "PYpue0sfkUhQ"
      },
      "outputs": [],
      "source": [
        "df.to_csv('Try.csv')"
      ]
    },
    {
      "cell_type": "code",
      "execution_count": null,
      "metadata": {
        "id": "evKgCIdSI41j"
      },
      "outputs": [],
      "source": []
    }
  ],
  "metadata": {
    "colab": {
      "provenance": []
    },
    "kernelspec": {
      "display_name": "Python 3",
      "name": "python3"
    },
    "language_info": {
      "name": "python"
    }
  },
  "nbformat": 4,
  "nbformat_minor": 0
}